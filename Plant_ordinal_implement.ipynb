{
  "nbformat": 4,
  "nbformat_minor": 0,
  "metadata": {
    "colab": {
      "name": "Plant_ordinal_implement",
      "provenance": [],
      "collapsed_sections": [],
      "machine_shape": "hm"
    },
    "kernelspec": {
      "name": "python3",
      "display_name": "Python 3"
    },
    "accelerator": "GPU",
    "widgets": {
      "application/vnd.jupyter.widget-state+json": {
        "ddc5b39c77de40e29d83cf645570eb98": {
          "model_module": "@jupyter-widgets/controls",
          "model_name": "HBoxModel",
          "state": {
            "_view_name": "HBoxView",
            "_dom_classes": [],
            "_model_name": "HBoxModel",
            "_view_module": "@jupyter-widgets/controls",
            "_model_module_version": "1.5.0",
            "_view_count": null,
            "_view_module_version": "1.5.0",
            "box_style": "",
            "layout": "IPY_MODEL_23a2f51ef4344547a05106e0787f3e9f",
            "_model_module": "@jupyter-widgets/controls",
            "children": [
              "IPY_MODEL_8a213caf4842484587949a3ed09c8ac8",
              "IPY_MODEL_0bfb3af9a50c4b2ab6213a8182e8bf28"
            ]
          }
        },
        "23a2f51ef4344547a05106e0787f3e9f": {
          "model_module": "@jupyter-widgets/base",
          "model_name": "LayoutModel",
          "state": {
            "_view_name": "LayoutView",
            "grid_template_rows": null,
            "right": null,
            "justify_content": null,
            "_view_module": "@jupyter-widgets/base",
            "overflow": null,
            "_model_module_version": "1.2.0",
            "_view_count": null,
            "flex_flow": null,
            "width": null,
            "min_width": null,
            "border": null,
            "align_items": null,
            "bottom": null,
            "_model_module": "@jupyter-widgets/base",
            "top": null,
            "grid_column": null,
            "overflow_y": null,
            "overflow_x": null,
            "grid_auto_flow": null,
            "grid_area": null,
            "grid_template_columns": null,
            "flex": null,
            "_model_name": "LayoutModel",
            "justify_items": null,
            "grid_row": null,
            "max_height": null,
            "align_content": null,
            "visibility": null,
            "align_self": null,
            "height": null,
            "min_height": null,
            "padding": null,
            "grid_auto_rows": null,
            "grid_gap": null,
            "max_width": null,
            "order": null,
            "_view_module_version": "1.2.0",
            "grid_template_areas": null,
            "object_position": null,
            "object_fit": null,
            "grid_auto_columns": null,
            "margin": null,
            "display": null,
            "left": null
          }
        },
        "8a213caf4842484587949a3ed09c8ac8": {
          "model_module": "@jupyter-widgets/controls",
          "model_name": "FloatProgressModel",
          "state": {
            "_view_name": "ProgressView",
            "style": "IPY_MODEL_4e679c29dee8444b9e5ea188484d1e0e",
            "_dom_classes": [],
            "description": "100%",
            "_model_name": "FloatProgressModel",
            "bar_style": "success",
            "max": 102502400,
            "_view_module": "@jupyter-widgets/controls",
            "_model_module_version": "1.5.0",
            "value": 102502400,
            "_view_count": null,
            "_view_module_version": "1.5.0",
            "orientation": "horizontal",
            "min": 0,
            "description_tooltip": null,
            "_model_module": "@jupyter-widgets/controls",
            "layout": "IPY_MODEL_db62d13e330341518bd691172ca60136"
          }
        },
        "0bfb3af9a50c4b2ab6213a8182e8bf28": {
          "model_module": "@jupyter-widgets/controls",
          "model_name": "HTMLModel",
          "state": {
            "_view_name": "HTMLView",
            "style": "IPY_MODEL_8d6937da505448ffbd5caf54e1e144f2",
            "_dom_classes": [],
            "description": "",
            "_model_name": "HTMLModel",
            "placeholder": "​",
            "_view_module": "@jupyter-widgets/controls",
            "_model_module_version": "1.5.0",
            "value": " 97.8M/97.8M [00:00&lt;00:00, 166MB/s]",
            "_view_count": null,
            "_view_module_version": "1.5.0",
            "description_tooltip": null,
            "_model_module": "@jupyter-widgets/controls",
            "layout": "IPY_MODEL_96361b063a594256805412da65aa22c4"
          }
        },
        "4e679c29dee8444b9e5ea188484d1e0e": {
          "model_module": "@jupyter-widgets/controls",
          "model_name": "ProgressStyleModel",
          "state": {
            "_view_name": "StyleView",
            "_model_name": "ProgressStyleModel",
            "description_width": "initial",
            "_view_module": "@jupyter-widgets/base",
            "_model_module_version": "1.5.0",
            "_view_count": null,
            "_view_module_version": "1.2.0",
            "bar_color": null,
            "_model_module": "@jupyter-widgets/controls"
          }
        },
        "db62d13e330341518bd691172ca60136": {
          "model_module": "@jupyter-widgets/base",
          "model_name": "LayoutModel",
          "state": {
            "_view_name": "LayoutView",
            "grid_template_rows": null,
            "right": null,
            "justify_content": null,
            "_view_module": "@jupyter-widgets/base",
            "overflow": null,
            "_model_module_version": "1.2.0",
            "_view_count": null,
            "flex_flow": null,
            "width": null,
            "min_width": null,
            "border": null,
            "align_items": null,
            "bottom": null,
            "_model_module": "@jupyter-widgets/base",
            "top": null,
            "grid_column": null,
            "overflow_y": null,
            "overflow_x": null,
            "grid_auto_flow": null,
            "grid_area": null,
            "grid_template_columns": null,
            "flex": null,
            "_model_name": "LayoutModel",
            "justify_items": null,
            "grid_row": null,
            "max_height": null,
            "align_content": null,
            "visibility": null,
            "align_self": null,
            "height": null,
            "min_height": null,
            "padding": null,
            "grid_auto_rows": null,
            "grid_gap": null,
            "max_width": null,
            "order": null,
            "_view_module_version": "1.2.0",
            "grid_template_areas": null,
            "object_position": null,
            "object_fit": null,
            "grid_auto_columns": null,
            "margin": null,
            "display": null,
            "left": null
          }
        },
        "8d6937da505448ffbd5caf54e1e144f2": {
          "model_module": "@jupyter-widgets/controls",
          "model_name": "DescriptionStyleModel",
          "state": {
            "_view_name": "StyleView",
            "_model_name": "DescriptionStyleModel",
            "description_width": "",
            "_view_module": "@jupyter-widgets/base",
            "_model_module_version": "1.5.0",
            "_view_count": null,
            "_view_module_version": "1.2.0",
            "_model_module": "@jupyter-widgets/controls"
          }
        },
        "96361b063a594256805412da65aa22c4": {
          "model_module": "@jupyter-widgets/base",
          "model_name": "LayoutModel",
          "state": {
            "_view_name": "LayoutView",
            "grid_template_rows": null,
            "right": null,
            "justify_content": null,
            "_view_module": "@jupyter-widgets/base",
            "overflow": null,
            "_model_module_version": "1.2.0",
            "_view_count": null,
            "flex_flow": null,
            "width": null,
            "min_width": null,
            "border": null,
            "align_items": null,
            "bottom": null,
            "_model_module": "@jupyter-widgets/base",
            "top": null,
            "grid_column": null,
            "overflow_y": null,
            "overflow_x": null,
            "grid_auto_flow": null,
            "grid_area": null,
            "grid_template_columns": null,
            "flex": null,
            "_model_name": "LayoutModel",
            "justify_items": null,
            "grid_row": null,
            "max_height": null,
            "align_content": null,
            "visibility": null,
            "align_self": null,
            "height": null,
            "min_height": null,
            "padding": null,
            "grid_auto_rows": null,
            "grid_gap": null,
            "max_width": null,
            "order": null,
            "_view_module_version": "1.2.0",
            "grid_template_areas": null,
            "object_position": null,
            "object_fit": null,
            "grid_auto_columns": null,
            "margin": null,
            "display": null,
            "left": null
          }
        }
      }
    }
  },
  "cells": [
    {
      "cell_type": "code",
      "metadata": {
        "id": "4Xe0LaFziZkm",
        "colab_type": "code",
        "outputId": "cc30589b-d4b1-4f9d-83e9-6002ceb2386a",
        "colab": {
          "base_uri": "https://localhost:8080/",
          "height": 53
        }
      },
      "source": [
        "%matplotlib inline\n",
        "\n",
        "from __future__ import print_function, division\n",
        "\n",
        "import torch\n",
        "import torch.nn as nn\n",
        "import torch.optim as optim\n",
        "from torch.optim import lr_scheduler\n",
        "import torchvision\n",
        "from torchvision import datasets, models, transforms\n",
        "from torch.utils.data import Dataset, DataLoader, Sampler\n",
        "\n",
        "import torch.nn.functional as F\n",
        "\n",
        "import numpy as np\n",
        "import pandas as pd\n",
        "import matplotlib.pyplot as plt\n",
        "import seaborn as sns\n",
        "\n",
        "import os\n",
        "from os import listdir\n",
        "from os.path import isfile, join\n",
        "import time\n",
        "import copy\n",
        "\n",
        "from PIL import Image\n",
        "\n",
        "\n",
        "\n",
        "plt.ion()   # interactive mode"
      ],
      "execution_count": 0,
      "outputs": [
        {
          "output_type": "stream",
          "text": [
            "/usr/local/lib/python3.6/dist-packages/statsmodels/tools/_testing.py:19: FutureWarning: pandas.util.testing is deprecated. Use the functions in the public API at pandas.testing instead.\n",
            "  import pandas.util.testing as tm\n"
          ],
          "name": "stderr"
        }
      ]
    },
    {
      "cell_type": "code",
      "metadata": {
        "id": "SlpiK4-AnIca",
        "colab_type": "code",
        "outputId": "f3981c6a-cdc8-4577-ee5d-33a4dbfd1852",
        "colab": {
          "base_uri": "https://localhost:8080/",
          "height": 127
        }
      },
      "source": [
        "from google.colab import drive\n",
        "drive.mount('/content/gdrive')\n",
        "\n",
        "PATH = \"gdrive/My Drive/Semester_project/\"\n",
        "SUB_PATH =PATH + 'Datas/Ara/'\n",
        "ANNOTATION_PATH = PATH + 'Datas/Ara/Annotations/'\n",
        "DATA_PATH =   SUB_PATH + 'Images/'\n"
      ],
      "execution_count": 0,
      "outputs": [
        {
          "output_type": "stream",
          "text": [
            "Go to this URL in a browser: https://accounts.google.com/o/oauth2/auth?client_id=947318989803-6bn6qk8qdgf4n4g3pfee6491hc0brc4i.apps.googleusercontent.com&redirect_uri=urn%3aietf%3awg%3aoauth%3a2.0%3aoob&response_type=code&scope=email%20https%3a%2f%2fwww.googleapis.com%2fauth%2fdocs.test%20https%3a%2f%2fwww.googleapis.com%2fauth%2fdrive%20https%3a%2f%2fwww.googleapis.com%2fauth%2fdrive.photos.readonly%20https%3a%2f%2fwww.googleapis.com%2fauth%2fpeopleapi.readonly\n",
            "\n",
            "Enter your authorization code:\n",
            "··········\n",
            "Mounted at /content/gdrive\n"
          ],
          "name": "stdout"
        }
      ]
    },
    {
      "cell_type": "code",
      "metadata": {
        "id": "VIje31qWnOwL",
        "colab_type": "code",
        "colab": {}
      },
      "source": [
        "# Helper\n",
        "def listdir_fullpath(d):\n",
        "    return [os.path.join(d, f) for f in sorted(os.listdir(d))]"
      ],
      "execution_count": 0,
      "outputs": []
    },
    {
      "cell_type": "markdown",
      "metadata": {
        "id": "nCNVre8-qeKE",
        "colab_type": "text"
      },
      "source": [
        "## Preprocessing"
      ]
    },
    {
      "cell_type": "markdown",
      "metadata": {
        "id": "8-23NVHsqjua",
        "colab_type": "text"
      },
      "source": [
        "### Converting filenames into CSV with lables \n",
        "\n",
        "Age dataset form [Here](https://susanqq.github.io/UTKFace/)\n",
        "The labels of each face image is embedded in the file name, formated like \n",
        "\n",
        "[age]_[gender]_[race]_[date&time].jpg"
      ]
    },
    {
      "cell_type": "code",
      "metadata": {
        "id": "AXijtWOzoqwc",
        "colab_type": "code",
        "colab": {}
      },
      "source": [
        "df=pd.read_csv(ANNOTATION_PATH + 'val.csv')\n",
        "classes = df.stage.unique().size  \n",
        "df"
      ],
      "execution_count": 0,
      "outputs": []
    },
    {
      "cell_type": "markdown",
      "metadata": {
        "id": "mZRNAIE30kqB",
        "colab_type": "text"
      },
      "source": [
        "## Get images \n"
      ]
    },
    {
      "cell_type": "markdown",
      "metadata": {
        "id": "uL2uUlui0yFI",
        "colab_type": "text"
      },
      "source": [
        "### Data augmentation"
      ]
    },
    {
      "cell_type": "markdown",
      "metadata": {
        "id": "Gr6HwdVP3mUl",
        "colab_type": "text"
      },
      "source": [
        "### Dataset\n"
      ]
    },
    {
      "cell_type": "code",
      "metadata": {
        "id": "LpWKmu7U3rvO",
        "colab_type": "code",
        "colab": {}
      },
      "source": [
        "class PlantDataset(Dataset):\n",
        "  def __init__(self, \n",
        "               csv_file, \n",
        "               root_dir, \n",
        "               num_classes, \n",
        "               transform=None,\n",
        "               crop = False):\n",
        "      \"\"\"\n",
        "        Args:\n",
        "            csv_file (string): Path to the csv file with annotations.\n",
        "            root_dir (string): Directory with all the images.\n",
        "            transform (callable, optional): Optional transform to be applied on a sample.\n",
        "        \"\"\"\n",
        "\n",
        "      self.data = pd.read_csv(csv_file)\n",
        "      self.root_dir = root_dir\n",
        "      self.transform = transform\n",
        "      self.num_classes = num_classes\n",
        "      self.crop= crop\n",
        "\n",
        "  def __len__(self):\n",
        "        return len(self.data)\n",
        "\n",
        "  def __getitem__(self, idx):\n",
        "\n",
        "      if torch.is_tensor(idx):\n",
        "          idx = idx.tolist()\n",
        "        # Get image name \n",
        "      img_name = os.path.join(self.root_dir,\n",
        "                                str(self.data.iloc[idx, 2]))\n",
        "        \n",
        "      image = Image.open(img_name)\n",
        "\n",
        "      if self.crop : \n",
        "        vect = (self.data.loc[idx,'x_min'], self.data.loc[idx,'y_min'],\n",
        "                            self.data.loc[idx,'x_max'], self.data.loc[idx,'y_max'])\n",
        "        image = image.crop(vect)\n",
        "      \n",
        "\n",
        "      label = int(self.data.loc[idx, 'stage'].item()) - 1\n",
        "      #Creates a vector with 1 util label position followed by zeros\n",
        "      # Equation 1 Niu paper  \n",
        "      lev1 = [1]*label\n",
        "      lev2 = [0]*(self.num_classes - 1 - label)\n",
        "\n",
        "      levels = lev1 + lev2\n",
        "      levels = torch.tensor(levels, dtype=torch.float32)\n",
        "\n",
        "\n",
        "      if self.transform:\n",
        "          image = self.transform(image)\n",
        "\n",
        "      return {'image': image,\n",
        "                'label': label, #label_tensor , \n",
        "              'levels' : levels,\n",
        "                }\n"
      ],
      "execution_count": 0,
      "outputs": []
    },
    {
      "cell_type": "code",
      "metadata": {
        "id": "tv-tqvNXA1ym",
        "colab_type": "code",
        "colab": {}
      },
      "source": [
        "class PlantDatasetTest(Dataset):\n",
        "  def __init__(self, \n",
        "               csv_file, \n",
        "               root_dir, \n",
        "               num_classes, \n",
        "                all_file = None, \n",
        "               transform=None, \n",
        "               crop=False):\n",
        "      \"\"\"\n",
        "        Args:\n",
        "            csv_file (string): Path to the csv file with annotations.\n",
        "            root_dir (string): Directory with all the images.\n",
        "            transform (callable, optional): Optional transform to be applied on a sample.\n",
        "        \"\"\"\n",
        "\n",
        "      self.data = pd.read_csv(csv_file)\n",
        "      self.all_data = all_file\n",
        "      self.root_dir = root_dir\n",
        "      self.transform = transform\n",
        "      self.num_classes = num_classes\n",
        "      self.crop= crop\n",
        "\n",
        "  def __len__(self):\n",
        "        return len(self.data)\n",
        "\n",
        "  def __getitem__(self, idx):\n",
        "\n",
        "      if torch.is_tensor(idx):\n",
        "          idx = idx.tolist()\n",
        "        # Get image name \n",
        "      img_name = os.path.join(self.root_dir,\n",
        "                                str(self.data.iloc[idx, 2]))\n",
        "        \n",
        "      image = Image.open(img_name)\n",
        "\n",
        "      if self.crop : \n",
        "        vect = (self.data.loc[idx,'x_min'], self.data.loc[idx,'y_min'],\n",
        "                            self.data.loc[idx,'x_max'], self.data.loc[idx,'y_max'])\n",
        "        image = image.crop(vect)\n",
        "      \n",
        "      neighbor = False\n",
        "      try : \n",
        "        row = self.all_data.loc[self.all_data['filename'] == str(self.data.iloc[idx, 2])].iloc[0,0]\n",
        "        neighbor = ((self.all_data.loc[row + 1 , 'stage'] == (self.all_data.loc[row  , 'stage'] + 1)) or \n",
        "                      (self.all_data.loc[row , 'stage'] == (self.all_data.loc[row + - 1 , 'stage'] + 1)))\n",
        "      except: \n",
        "        neighbor = False\n",
        "\n",
        "      label = int(self.data.loc[idx, 'stage'].item()) - 1\n",
        "      #Creates a vector with 1 util label position followed by zeros\n",
        "      # Equation 1 Niu paper  \n",
        "      lev1 = [1]*label\n",
        "      lev2 = [0]*(self.num_classes - 1 - label)\n",
        "      levels = lev1 + lev2\n",
        "      levels = torch.tensor(levels, dtype=torch.float32)\n",
        "\n",
        "\n",
        "      if self.transform:\n",
        "          image = self.transform(image)\n",
        "\n",
        "      return {'image': image,\n",
        "                'label': label, #label_tensor , \n",
        "              'levels' : levels,\n",
        "              'neighbor' : neighbor,\n",
        "                }\n"
      ],
      "execution_count": 0,
      "outputs": []
    },
    {
      "cell_type": "markdown",
      "metadata": {
        "id": "BQPAsCDw81Ik",
        "colab_type": "text"
      },
      "source": [
        "For the test set. "
      ]
    },
    {
      "cell_type": "code",
      "metadata": {
        "id": "PvQ-mnanDwi7",
        "colab_type": "code",
        "colab": {}
      },
      "source": [
        "device = torch.device(\"cuda:0\" if torch.cuda.is_available() else \"cpu\")"
      ],
      "execution_count": 0,
      "outputs": []
    },
    {
      "cell_type": "markdown",
      "metadata": {
        "id": "ZXk8Im6E96Mq",
        "colab_type": "text"
      },
      "source": [
        "### Model TODO"
      ]
    },
    {
      "cell_type": "markdown",
      "metadata": {
        "id": "EBmzwfbSDYcU",
        "colab_type": "text"
      },
      "source": [
        "Load and finetune the model for classification "
      ]
    },
    {
      "cell_type": "code",
      "metadata": {
        "id": "_i00cCFwzVkI",
        "colab_type": "code",
        "outputId": "a117fd9a-3d22-448c-bc36-24e78f0ba3fc",
        "colab": {
          "base_uri": "https://localhost:8080/",
          "height": 85,
          "referenced_widgets": [
            "ddc5b39c77de40e29d83cf645570eb98",
            "23a2f51ef4344547a05106e0787f3e9f",
            "8a213caf4842484587949a3ed09c8ac8",
            "0bfb3af9a50c4b2ab6213a8182e8bf28",
            "4e679c29dee8444b9e5ea188484d1e0e",
            "db62d13e330341518bd691172ca60136",
            "8d6937da505448ffbd5caf54e1e144f2",
            "96361b063a594256805412da65aa22c4"
          ]
        }
      },
      "source": [
        "model = models.resnet50(pretrained=True)"
      ],
      "execution_count": 0,
      "outputs": [
        {
          "output_type": "stream",
          "text": [
            "Downloading: \"https://download.pytorch.org/models/resnet50-19c8e357.pth\" to /root/.cache/torch/checkpoints/resnet50-19c8e357.pth\n"
          ],
          "name": "stderr"
        },
        {
          "output_type": "display_data",
          "data": {
            "application/vnd.jupyter.widget-view+json": {
              "model_id": "ddc5b39c77de40e29d83cf645570eb98",
              "version_minor": 0,
              "version_major": 2
            },
            "text/plain": [
              "HBox(children=(FloatProgress(value=0.0, max=102502400.0), HTML(value='')))"
            ]
          },
          "metadata": {
            "tags": []
          }
        },
        {
          "output_type": "stream",
          "text": [
            "\n"
          ],
          "name": "stdout"
        }
      ]
    },
    {
      "cell_type": "code",
      "metadata": {
        "id": "NqVgQnfV5DJB",
        "colab_type": "code",
        "colab": {}
      },
      "source": [
        "model = models.resnet152(pretrained=True)"
      ],
      "execution_count": 0,
      "outputs": []
    },
    {
      "cell_type": "code",
      "metadata": {
        "id": "-Ik8WJnEtUTh",
        "colab_type": "code",
        "colab": {}
      },
      "source": [
        "class OrdinalNN(nn.Module):\n",
        "    def __init__(self, pretrained=True):\n",
        "        super().__init__()\n",
        "\n",
        "        self.num_classes = classes\n",
        "        resnet = models.resnet50(pretrained=pretrained)\n",
        "\n",
        "        # Select all the layes except le final fully connected one \n",
        "        self.features = nn.ModuleList(resnet.children())[:-2]\n",
        "\n",
        "\n",
        "        # Traform it into a sequencial \n",
        "        self.features = nn.Sequential(*self.features)\n",
        "\n",
        "\n",
        "        self.avgpool =nn.AdaptiveAvgPool2d(1) \n",
        "\n",
        "        # Adding new layers \n",
        "        in_features = resnet.fc.in_features\n",
        " \n",
        "        self.fc = nn.Linear(in_features , 1, bias = False)\n",
        "        self.linear_1_bias = nn.Parameter(torch.zeros(self.num_classes-1).float())\n",
        "\n",
        "        #For special ordinal\n",
        "        \n",
        "        # initialize all fc layers to xavier\n",
        "        for m in self.modules():\n",
        "            if isinstance(m, nn.Linear):\n",
        "                torch.nn.init.xavier_normal_(m.weight, gain = 1)\n",
        "\n",
        "    def forward(self, x):\n",
        "\n",
        "        #Use previous features \n",
        "\n",
        "        x = self.features(x)\n",
        "\n",
        "        x = self.avgpool(x)\n",
        "        x = x.view(x.size(0), -1)\n",
        "        logits = self.fc(x)\n",
        "        logits = logits + self.linear_1_bias\n",
        "\n",
        "        #Compute F \n",
        "        probas = torch.sigmoid(logits)\n",
        "        return logits , probas"
      ],
      "execution_count": 0,
      "outputs": []
    },
    {
      "cell_type": "code",
      "metadata": {
        "id": "DFB5lG-C95Ac",
        "colab_type": "code",
        "colab": {}
      },
      "source": [
        "model_ft = OrdinalNN()"
      ],
      "execution_count": 0,
      "outputs": []
    },
    {
      "cell_type": "code",
      "metadata": {
        "id": "drVZgfRObb_E",
        "colab_type": "code",
        "colab": {}
      },
      "source": [
        "mode = models.resnet50(pretrained=True)\n",
        "num_ftrs = mode.fc.in_features\n",
        "mode.fc = nn.Linear(num_ftrs, classes)"
      ],
      "execution_count": 0,
      "outputs": []
    },
    {
      "cell_type": "markdown",
      "metadata": {
        "id": "6GM9U5H8ETN2",
        "colab_type": "text"
      },
      "source": [
        "## Training and val \n",
        "\n",
        "Revoir et comprendre le code "
      ]
    },
    {
      "cell_type": "code",
      "metadata": {
        "id": "IhUxXdd5OLIa",
        "colab_type": "code",
        "colab": {}
      },
      "source": [
        ""
      ],
      "execution_count": 0,
      "outputs": []
    },
    {
      "cell_type": "code",
      "metadata": {
        "id": "lIgxOndHb7B3",
        "colab_type": "code",
        "colab": {}
      },
      "source": [
        "# Compute the Cumulative score CS \n",
        "def CS_loss(y_predict, y_true , T):\n",
        "  x = torch.abs(y_true - y_predict)\n",
        "  b = torch.zeros_like(x)\n",
        "  a = torch.ones_like(x)\n",
        "  x = torch.where(x<= T, a, b)\n",
        "  return x #torch.mean(x.type(torch.float32))"
      ],
      "execution_count": 0,
      "outputs": []
    },
    {
      "cell_type": "code",
      "metadata": {
        "id": "t3x9ThjP_mji",
        "colab_type": "code",
        "colab": {}
      },
      "source": [
        "def predict(probas):\n",
        "  #print(probas.size)\n",
        "  predict_levels = probas > 0.5\n",
        "  predicted_labels = torch.sum(predict_levels, dim=1)\n",
        "  return predicted_labels"
      ],
      "execution_count": 0,
      "outputs": []
    },
    {
      "cell_type": "code",
      "metadata": {
        "id": "U5uyzqSMEVHQ",
        "colab_type": "code",
        "colab": {}
      },
      "source": [
        "def train_model(model, \n",
        "                data_loader, \n",
        "                criterion,\n",
        "                optimizer, \n",
        "                scheduler, \n",
        "                num_epochs = 25):\n",
        "  \n",
        "    since = time.time()\n",
        "\n",
        "    val_acc_history = []\n",
        "    lr_history = []\n",
        "\n",
        "\n",
        "    best_model_wts = copy.deepcopy(model.state_dict())\n",
        "    best_acc = 0.0\n",
        "\n",
        "\n",
        "    for epoch in range(num_epochs):\n",
        "        print('Epoch {}/{}'.format(epoch, num_epochs - 1))\n",
        "        print('-' * 10)\n",
        "\n",
        "        for phase in ['train', 'val']:\n",
        "            if phase == 'train':\n",
        "                scheduler.step()\n",
        "                model.train()  # Training mode\n",
        "            else:\n",
        "                model.eval()   # Tvaluation mode\n",
        "\n",
        "            running_loss = 0.0\n",
        "            running_corrects = 0\n",
        "            cs_loss = 0\n",
        "            confusion_matrix = torch.zeros(classes, classes)\n",
        "            \n",
        "            for bi, dl in enumerate(data_loader[phase]):\n",
        "                inputs = dl[\"image\"]\n",
        "                label = dl[\"label\"]\n",
        "                levels = dl['levels']\n",
        "                inputs = inputs.to(device, dtype=torch.float)\n",
        "                label = label.to(device, dtype=torch.long)\n",
        "                levels = levels.to(device, dtype= torch.float)\n",
        "\n",
        "                # zero gradients\n",
        "                optimizer.zero_grad()\n",
        "\n",
        "                # forward\n",
        "                with torch.set_grad_enabled(phase == 'train'):\n",
        "                    logits , probas = model(inputs)\n",
        "                    preds = predict(probas)\n",
        "\n",
        "                    loss = criterion(probas, levels)\n",
        "\n",
        "                    if phase == 'train':\n",
        "                        loss.backward()\n",
        "                        optimizer.step()\n",
        "\n",
        "                # statistics\n",
        "                \n",
        "                for t, p in zip(label.view(-1), preds.view(-1)):\n",
        "                  confusion_matrix[t.long(), p.long()] += 1\n",
        "\n",
        "                \n",
        "\n",
        "                running_loss += loss.item() * inputs.size(0)\n",
        "                running_corrects += torch.sum(CS_loss(preds, label, 0))\n",
        "\n",
        "                cs_loss += torch.sum(CS_loss(preds, label, 1))\n",
        "\n",
        "            epoch_loss = running_loss / dataset_sizes[phase]\n",
        "            epoch_acc = running_corrects.double() / dataset_sizes[phase]\n",
        "            cs_acc = cs_loss.double() /  dataset_sizes[phase]\n",
        "\n",
        "\n",
        "            print('{} Loss: {:.4f} Acc: {:.4f} Neighbor acc : {:.4f}'.format(\n",
        "                phase, epoch_loss, epoch_acc, cs_acc))\n",
        "            print(scheduler.get_last_lr())\n",
        "            print(confusion_matrix)\n",
        "            print(confusion_matrix.diag()/confusion_matrix.sum(1))\n",
        "\n",
        "            # deep copy the model\n",
        "            if phase == 'val' and epoch_acc > best_acc:\n",
        "                best_acc = epoch_acc\n",
        "                best_model_wts = copy.deepcopy(model.state_dict())\n",
        "            if phase == 'val':\n",
        "                val_acc_history.append(epoch_acc)\n",
        "                lr_history.append(scheduler.get_last_lr())\n",
        "\n",
        "        print()\n",
        "\n",
        "    time_elapsed = time.time() - since\n",
        "    print('Training complete in {:.0f}m {:.0f}s'.format(\n",
        "        time_elapsed // 60, time_elapsed % 60))\n",
        "    print('Best val Acc: {:4f}'.format(best_acc))\n",
        "\n",
        "    # load best model weights\n",
        "    model.load_state_dict(best_model_wts)\n",
        "    return model, val_acc_history, lr_history"
      ],
      "execution_count": 0,
      "outputs": []
    },
    {
      "cell_type": "markdown",
      "metadata": {
        "id": "__aqSQGbKSfu",
        "colab_type": "text"
      },
      "source": [
        "### Weightning"
      ]
    },
    {
      "cell_type": "code",
      "metadata": {
        "id": "xsBswaCh7OeB",
        "colab_type": "code",
        "colab": {}
      },
      "source": [
        "train = pd.read_csv(ANNOTATION_PATH +'train.csv')\n",
        "distribution = train.stage.value_counts().sort_index()\n",
        "distribution = distribution.to_numpy()\n",
        "S = distribution[::-1].cumsum()[::-1]\n",
        "S = S[1:]\n",
        "N = np.full(distribution.size -1 , fill_value = distribution.sum())\n",
        "M = np.maximum(S, N-S)\n",
        "importance = np.sqrt(M) / np.max(np.sqrt(M))\n",
        "importance = torch.from_numpy(importance)\n",
        "importance = importance.to(device, dtype=torch.float)"
      ],
      "execution_count": 0,
      "outputs": []
    },
    {
      "cell_type": "code",
      "metadata": {
        "id": "NW-cpzf2Igxi",
        "colab_type": "code",
        "colab": {}
      },
      "source": [
        "IMAGE_SIZE = 224\n",
        "NUM_CLASSES = classes\n",
        "BATCH_SIZE = 32\n",
        "# Hyperparameters\n",
        "learning_rate = 0.0005\n",
        "num_epochs = 200\n",
        "\n",
        "\n",
        "# Augmentation \n",
        "data_transforms = {\n",
        "    'train': transforms.Compose([\n",
        "        transforms.Resize((256, 256)),\n",
        "        transforms.RandomResizedCrop((IMAGE_SIZE, IMAGE_SIZE), (0.5, 1.) , (1,1)),\n",
        "        transforms.RandomHorizontalFlip(),\n",
        "        transforms.ToTensor(),\n",
        "        transforms.Normalize([0.485, 0.456, 0.406], [0.229, 0.224, 0.225]),\n",
        "    ]),\n",
        "    'val': transforms.Compose([\n",
        "        transforms.Resize((256, 256)),\n",
        "        transforms.CenterCrop((IMAGE_SIZE,IMAGE_SIZE)),\n",
        "        transforms.ToTensor(),\n",
        "        transforms.Normalize([0.485, 0.456, 0.406], [0.229, 0.224, 0.225]),\n",
        "    ]),\n",
        "}\n",
        "\n",
        "\n",
        "train_dataset = PlantDataset(csv_file=ANNOTATION_PATH + 'train.csv' ,\n",
        "                                   root_dir=DATA_PATH,\n",
        "                                   num_classes=NUM_CLASSES,\n",
        "                                   transform=data_transforms['train'],\n",
        "                                   crop=False)\n",
        "val_dataset = PlantDataset(csv_file=ANNOTATION_PATH + 'val.csv',\n",
        "                                   root_dir=DATA_PATH,\n",
        "                                   num_classes=NUM_CLASSES,\n",
        "                                   transform=data_transforms['val'], \n",
        "                                   crop=False)\n",
        "image_datasets = {'train' : train_dataset , \n",
        "                  'val' : val_dataset}\n",
        "\n",
        "train_dataset_loader = {x: torch.utils.data.DataLoader(image_datasets[x], batch_size=BATCH_SIZE, \n",
        "                                             shuffle=False, num_workers=4)\n",
        "              for x in ['train', 'val']}\n",
        "\n",
        "dataset_sizes = {x: len(image_datasets[x]) for x in ['train', 'val']}"
      ],
      "execution_count": 0,
      "outputs": []
    },
    {
      "cell_type": "code",
      "metadata": {
        "id": "mv2ccCXeIkwS",
        "colab_type": "code",
        "outputId": "96a9b5ca-031f-409b-c036-b20374eb434b",
        "colab": {
          "base_uri": "https://localhost:8080/",
          "height": 35
        }
      },
      "source": [
        "train_dataset_loader['train']"
      ],
      "execution_count": 0,
      "outputs": [
        {
          "output_type": "execute_result",
          "data": {
            "text/plain": [
              "<torch.utils.data.dataloader.DataLoader at 0x7fef8171d860>"
            ]
          },
          "metadata": {
            "tags": []
          },
          "execution_count": 225
        }
      ]
    },
    {
      "cell_type": "code",
      "metadata": {
        "id": "eR4_N1-dI17R",
        "colab_type": "code",
        "outputId": "419ea2be-486c-45be-d5e2-3941c01c25a2",
        "colab": {
          "base_uri": "https://localhost:8080/",
          "height": 35
        }
      },
      "source": [
        "pop_std0"
      ],
      "execution_count": 0,
      "outputs": [
        {
          "output_type": "execute_result",
          "data": {
            "text/plain": [
              "array([0.08994923, 0.13920698, 0.04700423], dtype=float32)"
            ]
          },
          "metadata": {
            "tags": []
          },
          "execution_count": 29
        }
      ]
    },
    {
      "cell_type": "code",
      "metadata": {
        "id": "0IEA423gQ-1v",
        "colab_type": "code",
        "colab": {}
      },
      "source": [
        "# push model to device\n",
        "model_ft = model_ft.to(device)\n",
        "criterion = nn.BCELoss(weight=importance, reduction='mean')\n",
        "params = [p for p in model_ft.parameters() if p.requires_grad]\n",
        "optimizer = torch.optim.SGD(params, lr=0.005,\n",
        "                            momentum=0.9, weight_decay=0.0005)\n",
        "exp_lr_scheduler = lr_scheduler.StepLR(optimizer, step_size=15, gamma=0.1)"
      ],
      "execution_count": 0,
      "outputs": []
    },
    {
      "cell_type": "code",
      "metadata": {
        "id": "I6l1HuevLCbO",
        "colab_type": "code",
        "outputId": "b54401a1-61ad-4768-935c-4afacaeab59c",
        "colab": {
          "base_uri": "https://localhost:8080/",
          "height": 630
        }
      },
      "source": [
        "# Train and evaluate\n",
        "model_ft, hist, lr_hist = train_model(model_ft, train_dataset_loader, criterion, optimizer, exp_lr_scheduler, num_epochs=75)\n",
        "torch.save(model_ft.state_dict(), \"model.bin\")"
      ],
      "execution_count": 0,
      "outputs": [
        {
          "output_type": "stream",
          "text": [
            "Epoch 0/74\n",
            "----------\n"
          ],
          "name": "stdout"
        },
        {
          "output_type": "stream",
          "text": [
            "/usr/local/lib/python3.6/dist-packages/torch/optim/lr_scheduler.py:123: UserWarning: Detected call of `lr_scheduler.step()` before `optimizer.step()`. In PyTorch 1.1.0 and later, you should call them in the opposite order: `optimizer.step()` before `lr_scheduler.step()`.  Failure to do this will result in PyTorch skipping the first value of the learning rate schedule. See more details at https://pytorch.org/docs/stable/optim.html#how-to-adjust-learning-rate\n",
            "  \"https://pytorch.org/docs/stable/optim.html#how-to-adjust-learning-rate\", UserWarning)\n"
          ],
          "name": "stderr"
        },
        {
          "output_type": "error",
          "ename": "FileNotFoundError",
          "evalue": "ignored",
          "traceback": [
            "\u001b[0;31m---------------------------------------------------------------------------\u001b[0m",
            "\u001b[0;31mFileNotFoundError\u001b[0m                         Traceback (most recent call last)",
            "\u001b[0;32m<ipython-input-24-d654b5d337a2>\u001b[0m in \u001b[0;36m<module>\u001b[0;34m()\u001b[0m\n\u001b[1;32m      1\u001b[0m \u001b[0;31m# Train and evaluate\u001b[0m\u001b[0;34m\u001b[0m\u001b[0;34m\u001b[0m\u001b[0;34m\u001b[0m\u001b[0m\n\u001b[0;32m----> 2\u001b[0;31m \u001b[0mmodel_ft\u001b[0m\u001b[0;34m,\u001b[0m \u001b[0mhist\u001b[0m\u001b[0;34m,\u001b[0m \u001b[0mlr_hist\u001b[0m \u001b[0;34m=\u001b[0m \u001b[0mtrain_model\u001b[0m\u001b[0;34m(\u001b[0m\u001b[0mmodel_ft\u001b[0m\u001b[0;34m,\u001b[0m \u001b[0mtrain_dataset_loader\u001b[0m\u001b[0;34m,\u001b[0m \u001b[0mcriterion\u001b[0m\u001b[0;34m,\u001b[0m \u001b[0moptimizer\u001b[0m\u001b[0;34m,\u001b[0m \u001b[0mexp_lr_scheduler\u001b[0m\u001b[0;34m,\u001b[0m \u001b[0mnum_epochs\u001b[0m\u001b[0;34m=\u001b[0m\u001b[0;36m75\u001b[0m\u001b[0;34m)\u001b[0m\u001b[0;34m\u001b[0m\u001b[0;34m\u001b[0m\u001b[0m\n\u001b[0m\u001b[1;32m      3\u001b[0m \u001b[0mtorch\u001b[0m\u001b[0;34m.\u001b[0m\u001b[0msave\u001b[0m\u001b[0;34m(\u001b[0m\u001b[0mmodel_ft\u001b[0m\u001b[0;34m.\u001b[0m\u001b[0mstate_dict\u001b[0m\u001b[0;34m(\u001b[0m\u001b[0;34m)\u001b[0m\u001b[0;34m,\u001b[0m \u001b[0;34m\"model.bin\"\u001b[0m\u001b[0;34m)\u001b[0m\u001b[0;34m\u001b[0m\u001b[0;34m\u001b[0m\u001b[0m\n",
            "\u001b[0;32m<ipython-input-20-06078315540b>\u001b[0m in \u001b[0;36mtrain_model\u001b[0;34m(model, data_loader, criterion, optimizer, scheduler, num_epochs)\u001b[0m\n\u001b[1;32m     32\u001b[0m             \u001b[0mconfusion_matrix\u001b[0m \u001b[0;34m=\u001b[0m \u001b[0mtorch\u001b[0m\u001b[0;34m.\u001b[0m\u001b[0mzeros\u001b[0m\u001b[0;34m(\u001b[0m\u001b[0mclasses\u001b[0m\u001b[0;34m,\u001b[0m \u001b[0mclasses\u001b[0m\u001b[0;34m)\u001b[0m\u001b[0;34m\u001b[0m\u001b[0;34m\u001b[0m\u001b[0m\n\u001b[1;32m     33\u001b[0m \u001b[0;34m\u001b[0m\u001b[0m\n\u001b[0;32m---> 34\u001b[0;31m             \u001b[0;32mfor\u001b[0m \u001b[0mbi\u001b[0m\u001b[0;34m,\u001b[0m \u001b[0mdl\u001b[0m \u001b[0;32min\u001b[0m \u001b[0menumerate\u001b[0m\u001b[0;34m(\u001b[0m\u001b[0mdata_loader\u001b[0m\u001b[0;34m[\u001b[0m\u001b[0mphase\u001b[0m\u001b[0;34m]\u001b[0m\u001b[0;34m)\u001b[0m\u001b[0;34m:\u001b[0m\u001b[0;34m\u001b[0m\u001b[0;34m\u001b[0m\u001b[0m\n\u001b[0m\u001b[1;32m     35\u001b[0m                 \u001b[0minputs\u001b[0m \u001b[0;34m=\u001b[0m \u001b[0mdl\u001b[0m\u001b[0;34m[\u001b[0m\u001b[0;34m\"image\"\u001b[0m\u001b[0;34m]\u001b[0m\u001b[0;34m\u001b[0m\u001b[0;34m\u001b[0m\u001b[0m\n\u001b[1;32m     36\u001b[0m                 \u001b[0mlabel\u001b[0m \u001b[0;34m=\u001b[0m \u001b[0mdl\u001b[0m\u001b[0;34m[\u001b[0m\u001b[0;34m\"label\"\u001b[0m\u001b[0;34m]\u001b[0m\u001b[0;34m\u001b[0m\u001b[0;34m\u001b[0m\u001b[0m\n",
            "\u001b[0;32m/usr/local/lib/python3.6/dist-packages/torch/utils/data/dataloader.py\u001b[0m in \u001b[0;36m__next__\u001b[0;34m(self)\u001b[0m\n\u001b[1;32m    343\u001b[0m \u001b[0;34m\u001b[0m\u001b[0m\n\u001b[1;32m    344\u001b[0m     \u001b[0;32mdef\u001b[0m \u001b[0m__next__\u001b[0m\u001b[0;34m(\u001b[0m\u001b[0mself\u001b[0m\u001b[0;34m)\u001b[0m\u001b[0;34m:\u001b[0m\u001b[0;34m\u001b[0m\u001b[0;34m\u001b[0m\u001b[0m\n\u001b[0;32m--> 345\u001b[0;31m         \u001b[0mdata\u001b[0m \u001b[0;34m=\u001b[0m \u001b[0mself\u001b[0m\u001b[0;34m.\u001b[0m\u001b[0m_next_data\u001b[0m\u001b[0;34m(\u001b[0m\u001b[0;34m)\u001b[0m\u001b[0;34m\u001b[0m\u001b[0;34m\u001b[0m\u001b[0m\n\u001b[0m\u001b[1;32m    346\u001b[0m         \u001b[0mself\u001b[0m\u001b[0;34m.\u001b[0m\u001b[0m_num_yielded\u001b[0m \u001b[0;34m+=\u001b[0m \u001b[0;36m1\u001b[0m\u001b[0;34m\u001b[0m\u001b[0;34m\u001b[0m\u001b[0m\n\u001b[1;32m    347\u001b[0m         \u001b[0;32mif\u001b[0m \u001b[0mself\u001b[0m\u001b[0;34m.\u001b[0m\u001b[0m_dataset_kind\u001b[0m \u001b[0;34m==\u001b[0m \u001b[0m_DatasetKind\u001b[0m\u001b[0;34m.\u001b[0m\u001b[0mIterable\u001b[0m \u001b[0;32mand\u001b[0m\u001b[0;31m \u001b[0m\u001b[0;31m\\\u001b[0m\u001b[0;34m\u001b[0m\u001b[0;34m\u001b[0m\u001b[0m\n",
            "\u001b[0;32m/usr/local/lib/python3.6/dist-packages/torch/utils/data/dataloader.py\u001b[0m in \u001b[0;36m_next_data\u001b[0;34m(self)\u001b[0m\n\u001b[1;32m    854\u001b[0m             \u001b[0;32melse\u001b[0m\u001b[0;34m:\u001b[0m\u001b[0;34m\u001b[0m\u001b[0;34m\u001b[0m\u001b[0m\n\u001b[1;32m    855\u001b[0m                 \u001b[0;32mdel\u001b[0m \u001b[0mself\u001b[0m\u001b[0;34m.\u001b[0m\u001b[0m_task_info\u001b[0m\u001b[0;34m[\u001b[0m\u001b[0midx\u001b[0m\u001b[0;34m]\u001b[0m\u001b[0;34m\u001b[0m\u001b[0;34m\u001b[0m\u001b[0m\n\u001b[0;32m--> 856\u001b[0;31m                 \u001b[0;32mreturn\u001b[0m \u001b[0mself\u001b[0m\u001b[0;34m.\u001b[0m\u001b[0m_process_data\u001b[0m\u001b[0;34m(\u001b[0m\u001b[0mdata\u001b[0m\u001b[0;34m)\u001b[0m\u001b[0;34m\u001b[0m\u001b[0;34m\u001b[0m\u001b[0m\n\u001b[0m\u001b[1;32m    857\u001b[0m \u001b[0;34m\u001b[0m\u001b[0m\n\u001b[1;32m    858\u001b[0m     \u001b[0;32mdef\u001b[0m \u001b[0m_try_put_index\u001b[0m\u001b[0;34m(\u001b[0m\u001b[0mself\u001b[0m\u001b[0;34m)\u001b[0m\u001b[0;34m:\u001b[0m\u001b[0;34m\u001b[0m\u001b[0;34m\u001b[0m\u001b[0m\n",
            "\u001b[0;32m/usr/local/lib/python3.6/dist-packages/torch/utils/data/dataloader.py\u001b[0m in \u001b[0;36m_process_data\u001b[0;34m(self, data)\u001b[0m\n\u001b[1;32m    879\u001b[0m         \u001b[0mself\u001b[0m\u001b[0;34m.\u001b[0m\u001b[0m_try_put_index\u001b[0m\u001b[0;34m(\u001b[0m\u001b[0;34m)\u001b[0m\u001b[0;34m\u001b[0m\u001b[0;34m\u001b[0m\u001b[0m\n\u001b[1;32m    880\u001b[0m         \u001b[0;32mif\u001b[0m \u001b[0misinstance\u001b[0m\u001b[0;34m(\u001b[0m\u001b[0mdata\u001b[0m\u001b[0;34m,\u001b[0m \u001b[0mExceptionWrapper\u001b[0m\u001b[0;34m)\u001b[0m\u001b[0;34m:\u001b[0m\u001b[0;34m\u001b[0m\u001b[0;34m\u001b[0m\u001b[0m\n\u001b[0;32m--> 881\u001b[0;31m             \u001b[0mdata\u001b[0m\u001b[0;34m.\u001b[0m\u001b[0mreraise\u001b[0m\u001b[0;34m(\u001b[0m\u001b[0;34m)\u001b[0m\u001b[0;34m\u001b[0m\u001b[0;34m\u001b[0m\u001b[0m\n\u001b[0m\u001b[1;32m    882\u001b[0m         \u001b[0;32mreturn\u001b[0m \u001b[0mdata\u001b[0m\u001b[0;34m\u001b[0m\u001b[0;34m\u001b[0m\u001b[0m\n\u001b[1;32m    883\u001b[0m \u001b[0;34m\u001b[0m\u001b[0m\n",
            "\u001b[0;32m/usr/local/lib/python3.6/dist-packages/torch/_utils.py\u001b[0m in \u001b[0;36mreraise\u001b[0;34m(self)\u001b[0m\n\u001b[1;32m    393\u001b[0m             \u001b[0;31m# (https://bugs.python.org/issue2651), so we work around it.\u001b[0m\u001b[0;34m\u001b[0m\u001b[0;34m\u001b[0m\u001b[0;34m\u001b[0m\u001b[0m\n\u001b[1;32m    394\u001b[0m             \u001b[0mmsg\u001b[0m \u001b[0;34m=\u001b[0m \u001b[0mKeyErrorMessage\u001b[0m\u001b[0;34m(\u001b[0m\u001b[0mmsg\u001b[0m\u001b[0;34m)\u001b[0m\u001b[0;34m\u001b[0m\u001b[0;34m\u001b[0m\u001b[0m\n\u001b[0;32m--> 395\u001b[0;31m         \u001b[0;32mraise\u001b[0m \u001b[0mself\u001b[0m\u001b[0;34m.\u001b[0m\u001b[0mexc_type\u001b[0m\u001b[0;34m(\u001b[0m\u001b[0mmsg\u001b[0m\u001b[0;34m)\u001b[0m\u001b[0;34m\u001b[0m\u001b[0;34m\u001b[0m\u001b[0m\n\u001b[0m",
            "\u001b[0;31mFileNotFoundError\u001b[0m: Caught FileNotFoundError in DataLoader worker process 0.\nOriginal Traceback (most recent call last):\n  File \"/usr/local/lib/python3.6/dist-packages/torch/utils/data/_utils/worker.py\", line 178, in _worker_loop\n    data = fetcher.fetch(index)\n  File \"/usr/local/lib/python3.6/dist-packages/torch/utils/data/_utils/fetch.py\", line 44, in fetch\n    data = [self.dataset[idx] for idx in possibly_batched_index]\n  File \"/usr/local/lib/python3.6/dist-packages/torch/utils/data/_utils/fetch.py\", line 44, in <listcomp>\n    data = [self.dataset[idx] for idx in possibly_batched_index]\n  File \"<ipython-input-13-a58baf383535>\", line 32, in __getitem__\n    image = Image.open(img_name)\n  File \"/usr/local/lib/python3.6/dist-packages/PIL/Image.py\", line 2809, in open\n    fp = builtins.open(filename, \"rb\")\nFileNotFoundError: [Errno 2] No such file or directory: 'gdrive/My Drive/Semester_project/Datas/Ara/Images/320'\n"
          ]
        }
      ]
    },
    {
      "cell_type": "markdown",
      "metadata": {
        "id": "755RKtY8u7Ez",
        "colab_type": "text"
      },
      "source": [
        "## 5 times ! "
      ]
    },
    {
      "cell_type": "code",
      "metadata": {
        "id": "DU275XTdvLTX",
        "colab_type": "code",
        "colab": {}
      },
      "source": [
        "IMAGE_SIZE = 224\n",
        "NUM_CLASSES = classes\n",
        "BATCH_SIZE = 32\n",
        "# Hyperparameters\n",
        "learning_rate = 0.0005\n",
        "num_epochs = 200\n",
        "\n",
        "\n",
        "# Augmentation \n",
        "data_transforms = {\n",
        "    'train': transforms.Compose([\n",
        "        transforms.RandomResizedCrop((112, 112)),\n",
        "        transforms.RandomHorizontalFlip(),\n",
        "        transforms.ToTensor(),\n",
        "        transforms.Normalize([0.485, 0.456, 0.406], [0.229, 0.224, 0.225]),\n",
        "    ]),\n",
        "    'val': transforms.Compose([\n",
        "        transforms.Resize((126, 126)),\n",
        "        transforms.CenterCrop((112,112)),\n",
        "        transforms.ToTensor(),\n",
        "        transforms.Normalize([0.485, 0.456, 0.406], [0.229, 0.224, 0.225]),\n",
        "    ]),\n",
        "}"
      ],
      "execution_count": 0,
      "outputs": []
    },
    {
      "cell_type": "code",
      "metadata": {
        "id": "7Atowc9-K6x-",
        "colab_type": "code",
        "colab": {}
      },
      "source": [
        "# Augmentation \n",
        "data_transforms = {\n",
        "    'train': transforms.Compose([\n",
        "        transforms.Resize((256, 256)),\n",
        "        transforms.RandomResizedCrop((224, 224), (0.5, 1.) , (1,1)),\n",
        "        transforms.RandomHorizontalFlip(),\n",
        "        transforms.ToTensor(),\n",
        "        transforms.Normalize([0.485, 0.456, 0.406], [0.229, 0.224, 0.225]),\n",
        "    ]),\n",
        "    'val': transforms.Compose([\n",
        "        transforms.Resize((256, 256)),\n",
        "        transforms.CenterCrop((224,224)),\n",
        "        transforms.ToTensor(),\n",
        "        transforms.Normalize([0.485, 0.456, 0.406], [0.229, 0.224, 0.225]),\n",
        "    ]),\n",
        "}\n"
      ],
      "execution_count": 0,
      "outputs": []
    },
    {
      "cell_type": "code",
      "metadata": {
        "id": "_4swB98Zu-X3",
        "colab_type": "code",
        "colab": {}
      },
      "source": [
        "train_paths = [{'test': 'gdrive/My Drive/Semester_project/Datas/Ara/Annotations/test0.csv',\n",
        "  'train': 'gdrive/My Drive/Semester_project/Datas/Ara/Annotations/train0.csv',\n",
        "  'val': 'gdrive/My Drive/Semester_project/Datas/Ara/Annotations/val0.csv'},\n",
        " {'test': 'gdrive/My Drive/Semester_project/Datas/Ara/Annotations/test1.csv',\n",
        "  'train': 'gdrive/My Drive/Semester_project/Datas/Ara/Annotations/train1.csv',\n",
        "  'val': 'gdrive/My Drive/Semester_project/Datas/Ara/Annotations/val1.csv'},\n",
        " {'test': 'gdrive/My Drive/Semester_project/Datas/Ara/Annotations/test2.csv',\n",
        "  'train': 'gdrive/My Drive/Semester_project/Datas/Ara/Annotations/train2.csv',\n",
        "  'val': 'gdrive/My Drive/Semester_project/Datas/Ara/Annotations/val2.csv'},\n",
        " {'test': 'gdrive/My Drive/Semester_project/Datas/Ara/Annotations/test3.csv',\n",
        "  'train': 'gdrive/My Drive/Semester_project/Datas/Ara/Annotations/train3.csv',\n",
        "  'val': 'gdrive/My Drive/Semester_project/Datas/Ara/Annotations/val3.csv'},\n",
        " {'test': 'gdrive/My Drive/Semester_project/Datas/Ara/Annotations/test4.csv',\n",
        "  'train': 'gdrive/My Drive/Semester_project/Datas/Ara/Annotations/train4.csv',\n",
        "  'val': 'gdrive/My Drive/Semester_project/Datas/Ara/Annotations/val4.csv'}]"
      ],
      "execution_count": 0,
      "outputs": []
    },
    {
      "cell_type": "code",
      "metadata": {
        "id": "VPuui6r0vBQy",
        "colab_type": "code",
        "colab": {}
      },
      "source": [
        "for i, path in enumerate(train_paths) : \n",
        "  #Importance\n",
        "  device = torch.device(\"cuda:0\" if torch.cuda.is_available() else \"cpu\")\n",
        "  train = pd.read_csv(path['train'])\n",
        "  distribution = train.stage.value_counts().sort_index()\n",
        "  distribution = distribution.to_numpy()\n",
        "  S = distribution[::-1].cumsum()[::-1]\n",
        "  S = S[1:]\n",
        "  N = np.full(distribution.size -1 , fill_value = distribution.sum())\n",
        "  M = np.maximum(S, N-S)\n",
        "  importance = np.sqrt(M) / np.max(np.sqrt(M))\n",
        "  importance = torch.from_numpy(importance)\n",
        "  importance = importance.to(device, dtype=torch.float)\n",
        "\n",
        "\n",
        "# Dtatasets \n",
        "  train_dataset = PlantDataset(csv_file=path['train'] ,\n",
        "                                    root_dir=DATA_PATH,\n",
        "                                    num_classes=NUM_CLASSES,\n",
        "                                    transform=data_transforms['train'],\n",
        "                                    crop= True)\n",
        "  val_dataset = PlantDataset(csv_file=path['val'],\n",
        "                                    root_dir=DATA_PATH,\n",
        "                                    num_classes=NUM_CLASSES,\n",
        "                                    transform=data_transforms['val'], \n",
        "                                      crop=True)\n",
        "  image_datasets = {'train' : train_dataset , \n",
        "                    'val' : val_dataset}\n",
        "\n",
        "  train_dataset_loader = {'train': torch.utils.data.DataLoader(image_datasets['train'], batch_size=BATCH_SIZE, \n",
        "                                              shuffle=True, \n",
        "                                              num_workers=4), \n",
        "                          'val': torch.utils.data.DataLoader(image_datasets['val'], batch_size=BATCH_SIZE, \n",
        "                                              shuffle=False, num_workers=4)}\n",
        "\n",
        "  dataset_sizes = {x: len(image_datasets[x]) for x in ['train', 'val']}\n",
        "  \n",
        "  model_ft = OrdinalNN()\n",
        "  model_ft = model_ft.to(device)\n",
        "\n",
        "  criterion = nn.BCELoss(weight=importance, reduction='mean')\n",
        "  params = [p for p in model_ft.parameters() if p.requires_grad]\n",
        "  optimizer_ft = optim.Adam(params ,lr=0.005 , weight_decay=0.0005)\n",
        "\n",
        "  exp_lr_scheduler = lr_scheduler.StepLR(optimizer_ft, step_size=15, gamma=0.1)\n",
        "\n",
        "  #criterion = nn.CrossEntropyLoss()\n",
        "\n",
        "\n",
        "  model_ft, hist, lr_hist = train_model(model_ft, train_dataset_loader, criterion, optimizer_ft, exp_lr_scheduler, num_epochs=50)\n",
        "  save_path = SUB_PATH + 'model_ordinal_crop_2' + str(i) + '.bin'\n",
        "\n",
        "  torch.save(model_ft.state_dict(), save_path)\n"
      ],
      "execution_count": 0,
      "outputs": []
    },
    {
      "cell_type": "markdown",
      "metadata": {
        "id": "e19BibAst3kJ",
        "colab_type": "text"
      },
      "source": [
        "## Test"
      ]
    },
    {
      "cell_type": "code",
      "metadata": {
        "id": "CTMkgkbit1zP",
        "colab_type": "code",
        "colab": {}
      },
      "source": [
        "TEST_BATCH_SIZE = 128\n",
        "\n",
        "# Augmentation \n",
        "test_transforms =  transforms.Compose([\n",
        "        transforms.Resize((256, 256)),\n",
        "        transforms.CenterCrop((224,224)),\n",
        "        transforms.ToTensor(),\n",
        "        transforms.Normalize([0.485, 0.456, 0.406], [0.229, 0.224, 0.225]),\n",
        "\n",
        "    ])\n",
        "\n",
        "test_dataset = PlantDataset(csv_file=ANNOTATION_PATH + 'test.csv',\n",
        "                                   root_dir=DATA_PATH,\n",
        "                                   num_classes=NUM_CLASSES,\n",
        "                                   transform=test_transforms)\n",
        "\n",
        "test_dataset_loader = torch.utils.data.DataLoader(test_dataset,\n",
        "                                             batch_size=128,\n",
        "                                             shuffle=False,\n",
        "                                             num_workers=4)\n",
        "\n",
        "\n",
        "\n",
        "dataset_sizes = len(test_dataset)"
      ],
      "execution_count": 0,
      "outputs": []
    },
    {
      "cell_type": "code",
      "metadata": {
        "id": "B2A1q4MWJrHL",
        "colab_type": "code",
        "colab": {}
      },
      "source": [
        "TEST_BATCH_SIZE = 128\n",
        "\n",
        "# Augmentation \n",
        "test_transforms =  transforms.Compose([\n",
        "        transforms.Resize((256, 256)),\n",
        "        transforms.CenterCrop((224,224)),\n",
        "        transforms.ToTensor(),\n",
        "        transforms.Normalize([0.485, 0.456, 0.406], [0.229, 0.224, 0.225]),\n",
        "    ])"
      ],
      "execution_count": 0,
      "outputs": []
    },
    {
      "cell_type": "code",
      "metadata": {
        "id": "_W170Swnwr7X",
        "colab_type": "code",
        "colab": {}
      },
      "source": [
        "test_val = pd.read_csv(ANNOTATION_PATH + 'test.csv')\n",
        "test_val = test_val['stage'].to_numpy()"
      ],
      "execution_count": 0,
      "outputs": []
    },
    {
      "cell_type": "code",
      "metadata": {
        "id": "bCTmZi9kyTzT",
        "colab_type": "code",
        "outputId": "963cfbe8-e635-4b22-f64a-2a53ba048b61",
        "colab": {
          "base_uri": "https://localhost:8080/",
          "height": 35
        }
      },
      "source": [
        "test_val = test_val.astype(int)\n",
        "test_val.size"
      ],
      "execution_count": 0,
      "outputs": [
        {
          "output_type": "execute_result",
          "data": {
            "text/plain": [
              "413"
            ]
          },
          "metadata": {
            "tags": []
          },
          "execution_count": 20
        }
      ]
    },
    {
      "cell_type": "code",
      "metadata": {
        "id": "jX3Ny1Cm2y8D",
        "colab_type": "code",
        "colab": {}
      },
      "source": [
        "def predict_ordinal(probas):\n",
        "  #print(probas.size)\n",
        "  predict_levels = probas > 0.5\n",
        "  predicted_labels = np.sum(predict_levels)\n",
        "  return predict_levels, predicted_labels"
      ],
      "execution_count": 0,
      "outputs": []
    },
    {
      "cell_type": "code",
      "metadata": {
        "id": "yrVGk2XG8cLj",
        "colab_type": "code",
        "colab": {}
      },
      "source": [
        "def CS(y_predict, y_true , T):\n",
        "  x = np.abs(y_true - y_predict)\n",
        "  x = np.where(x<= T, 1, 0)\n",
        "  x = np.count_nonzero(x, axis = 1)\n",
        "  return np.count_nonzero(x == y_predict.shape[1]) "
      ],
      "execution_count": 0,
      "outputs": []
    },
    {
      "cell_type": "code",
      "metadata": {
        "id": "X4LMK-BPBbId",
        "colab_type": "code",
        "outputId": "a56b6f59-635d-4e43-db8b-fe5b17e4f1f5",
        "colab": {
          "base_uri": "https://localhost:8080/",
          "height": 35
        }
      },
      "source": [
        "test_dataset_loader"
      ],
      "execution_count": 0,
      "outputs": [
        {
          "output_type": "execute_result",
          "data": {
            "text/plain": [
              "<torch.utils.data.dataloader.DataLoader at 0x7f71ce2a48d0>"
            ]
          },
          "metadata": {
            "tags": []
          },
          "execution_count": 91
        }
      ]
    },
    {
      "cell_type": "code",
      "metadata": {
        "id": "KY6nte6CrrG6",
        "colab_type": "code",
        "outputId": "ac6c8409-7df4-408a-b6d6-bb2335b24d89",
        "colab": {
          "base_uri": "https://localhost:8080/",
          "height": 712
        }
      },
      "source": [
        "#DO NOT USE \n",
        "#model_ft.load_state_dict(torch.load(\"model.bin\"))\n",
        "model = model_ft\n",
        "model = model.to(device)\n",
        "\n",
        "for param in model.parameters():\n",
        "    param.requires_grad = False\n",
        "\n",
        "model.eval()\n",
        "running_corrects = 0\n",
        "test_preds = np.zeros((len(test_dataset), NUM_CLASSES-1))\n",
        "confusion_matrix = torch.zeros(classes, classes)\n",
        "tk0 = tqdm(test_dataset_loader)\n",
        "for i, x_batch in enumerate(tk0):\n",
        "    x = x_batch[\"image\"]\n",
        "\n",
        "    vect = x_batch['levels'].numpy()\n",
        "    pred, _ = model(x.to(device))\n",
        "    preds = predict(pred)\n",
        "    for t, p in zip(x_batch['label'].view(-1), predict.view(-1)):\n",
        "                  confusion_matrix[t, p] += 1\n",
        "    running_corrects += np.sum(CS(predict, vect, 0))\n",
        "    test_preds[i * TEST_BATCH_SIZE:(i + 1) * TEST_BATCH_SIZE, :] = pred.detach().cpu().squeeze().numpy()\n",
        "\n",
        "test_preds.shape\n",
        "test_preds = predict_ordinal(test_preds)\n",
        "\n",
        "print(running_corrects / test_val.size) "
      ],
      "execution_count": 0,
      "outputs": [
        {
          "output_type": "stream",
          "text": [
            "Exception ignored in: <bound method _MultiProcessingDataLoaderIter.__del__ of <torch.utils.data.dataloader._MultiProcessingDataLoaderIter object at 0x7ff94e3947b8>>\n",
            "Traceback (most recent call last):\n",
            "  File \"/usr/local/lib/python3.6/dist-packages/torch/utils/data/dataloader.py\", line 962, in __del__\n",
            "    self._shutdown_workers()\n",
            "  File \"/usr/local/lib/python3.6/dist-packages/torch/utils/data/dataloader.py\", line 942, in _shutdown_workers\n",
            "    w.join()\n",
            "  File \"/usr/lib/python3.6/multiprocessing/process.py\", line 124, in join\n",
            "    res = self._popen.wait(timeout)\n",
            "  File \"/usr/lib/python3.6/multiprocessing/popen_fork.py\", line 50, in wait\n",
            "    return self.poll(os.WNOHANG if timeout == 0.0 else 0)\n",
            "  File \"/usr/lib/python3.6/multiprocessing/popen_fork.py\", line 28, in poll\n",
            "    pid, sts = os.waitpid(self.pid, flag)\n",
            "KeyboardInterrupt: \n",
            "Exception ignored in: <bound method _MultiProcessingDataLoaderIter.__del__ of <torch.utils.data.dataloader._MultiProcessingDataLoaderIter object at 0x7ff94ed19160>>\n",
            "Traceback (most recent call last):\n",
            "  File \"/usr/local/lib/python3.6/dist-packages/torch/utils/data/dataloader.py\", line 962, in __del__\n",
            "    self._shutdown_workers()\n",
            "  File \"/usr/local/lib/python3.6/dist-packages/torch/utils/data/dataloader.py\", line 942, in _shutdown_workers\n",
            "    w.join()\n",
            "  File \"/usr/lib/python3.6/multiprocessing/process.py\", line 124, in join\n",
            "    res = self._popen.wait(timeout)\n",
            "  File \"/usr/lib/python3.6/multiprocessing/popen_fork.py\", line 50, in wait\n",
            "    return self.poll(os.WNOHANG if timeout == 0.0 else 0)\n",
            "  File \"/usr/lib/python3.6/multiprocessing/popen_fork.py\", line 28, in poll\n",
            "    pid, sts = os.waitpid(self.pid, flag)\n",
            "KeyboardInterrupt: \n"
          ],
          "name": "stderr"
        },
        {
          "output_type": "error",
          "ename": "NameError",
          "evalue": "ignored",
          "traceback": [
            "\u001b[0;31m---------------------------------------------------------------------------\u001b[0m",
            "\u001b[0;31mNameError\u001b[0m                                 Traceback (most recent call last)",
            "\u001b[0;32m<ipython-input-52-42e1c0ee9d37>\u001b[0m in \u001b[0;36m<module>\u001b[0;34m()\u001b[0m\n\u001b[1;32m     11\u001b[0m \u001b[0mtest_preds\u001b[0m \u001b[0;34m=\u001b[0m \u001b[0mnp\u001b[0m\u001b[0;34m.\u001b[0m\u001b[0mzeros\u001b[0m\u001b[0;34m(\u001b[0m\u001b[0;34m(\u001b[0m\u001b[0mlen\u001b[0m\u001b[0;34m(\u001b[0m\u001b[0mtest_dataset\u001b[0m\u001b[0;34m)\u001b[0m\u001b[0;34m,\u001b[0m \u001b[0mNUM_CLASSES\u001b[0m\u001b[0;34m-\u001b[0m\u001b[0;36m1\u001b[0m\u001b[0;34m)\u001b[0m\u001b[0;34m)\u001b[0m\u001b[0;34m\u001b[0m\u001b[0;34m\u001b[0m\u001b[0m\n\u001b[1;32m     12\u001b[0m \u001b[0mconfusion_matrix\u001b[0m \u001b[0;34m=\u001b[0m \u001b[0mtorch\u001b[0m\u001b[0;34m.\u001b[0m\u001b[0mzeros\u001b[0m\u001b[0;34m(\u001b[0m\u001b[0mclasses\u001b[0m\u001b[0;34m,\u001b[0m \u001b[0mclasses\u001b[0m\u001b[0;34m)\u001b[0m\u001b[0;34m\u001b[0m\u001b[0;34m\u001b[0m\u001b[0m\n\u001b[0;32m---> 13\u001b[0;31m \u001b[0mtk0\u001b[0m \u001b[0;34m=\u001b[0m \u001b[0mtqdm\u001b[0m\u001b[0;34m(\u001b[0m\u001b[0mtest_dataset_loader\u001b[0m\u001b[0;34m)\u001b[0m\u001b[0;34m\u001b[0m\u001b[0;34m\u001b[0m\u001b[0m\n\u001b[0m\u001b[1;32m     14\u001b[0m \u001b[0;32mfor\u001b[0m \u001b[0mi\u001b[0m\u001b[0;34m,\u001b[0m \u001b[0mx_batch\u001b[0m \u001b[0;32min\u001b[0m \u001b[0menumerate\u001b[0m\u001b[0;34m(\u001b[0m\u001b[0mtk0\u001b[0m\u001b[0;34m)\u001b[0m\u001b[0;34m:\u001b[0m\u001b[0;34m\u001b[0m\u001b[0;34m\u001b[0m\u001b[0m\n\u001b[1;32m     15\u001b[0m     \u001b[0mx\u001b[0m \u001b[0;34m=\u001b[0m \u001b[0mx_batch\u001b[0m\u001b[0;34m[\u001b[0m\u001b[0;34m\"image\"\u001b[0m\u001b[0;34m]\u001b[0m\u001b[0;34m\u001b[0m\u001b[0;34m\u001b[0m\u001b[0m\n",
            "\u001b[0;31mNameError\u001b[0m: name 'tqdm' is not defined"
          ]
        }
      ]
    },
    {
      "cell_type": "code",
      "metadata": {
        "id": "aoeU8SK2PxSN",
        "colab_type": "code",
        "outputId": "4e948b9d-ee38-437f-a883-25930190b5b1",
        "colab": {
          "base_uri": "https://localhost:8080/",
          "height": 451
        }
      },
      "source": [
        "acc = []\n",
        "neib_acc = []\n",
        "true_acc = []\n",
        "test_acc =[]\n",
        "matrix = []\n",
        "\n",
        "preds_values = []\n",
        "true_values= []\n",
        "imge = []\n",
        "neighboring = []\n",
        "\n",
        "for i, path in enumerate(train_paths) : \n",
        "  save_path = SUB_PATH + 'model_ordinal_3' + str(i) + '.bin'\n",
        "  model_ft.load_state_dict(torch.load(save_path))\n",
        "\n",
        "  test_dataset = PlantDatasetTest(csv_file=path['test'],\n",
        "                                   root_dir=DATA_PATH,\n",
        "                                   num_classes=NUM_CLASSES,\n",
        "                                    all_file=ANNOTATION_PATH + 'labels.csv',\n",
        "                                   transform=test_transforms,\n",
        "                                  crop = False)\n",
        "\n",
        "  test_dataset_loader = torch.utils.data.DataLoader(test_dataset,\n",
        "                                             batch_size=128,\n",
        "                                             shuffle=False,\n",
        "                                             num_workers=4)\n",
        "\n",
        "\n",
        "\n",
        "  dataset_sizes = len(test_dataset)\n",
        "\n",
        "  model = model_ft\n",
        "  model = model.to(device)\n",
        "  confusion_matrix = torch.zeros(classes, classes)\n",
        "  id_matrix = torch.zeros(classes, classes)\n",
        "\n",
        "\n",
        "\n",
        "  for param in model.parameters():\n",
        "      param.requires_grad = False\n",
        "\n",
        "  model.eval()\n",
        "  running_corrects = 0\n",
        "  nei_corrects = 0 \n",
        "  test_preds = np.zeros(len(test_dataset))\n",
        "  true_preds = np.zeros(len(test_dataset))\n",
        "\n",
        "  # To evaluate neighboring classes \n",
        "  im = np.zeros((len(test_dataset), 3,224,224))\n",
        "  neigh = np.zeros(len(test_dataset))\n",
        "\n",
        "  for i, x_batch in enumerate(test_dataset_loader):\n",
        "      x = x_batch[\"image\"]\n",
        "      labels = x_batch['label']\n",
        "      n = x_batch['neighbor']\n",
        "\n",
        "      vect = x_batch['levels'].numpy()\n",
        "      pred, probas = model(x.to(device))\n",
        "      preds = predict(probas)\n",
        "      for t, p in zip(labels.view(-1), preds.view(-1)):\n",
        "                  confusion_matrix[t, p] += 1\n",
        " \n",
        "      test_preds[i * TEST_BATCH_SIZE:(i + 1) * TEST_BATCH_SIZE] = preds.detach().cpu().squeeze().numpy()\n",
        "      test_val[i * TEST_BATCH_SIZE:(i + 1) * TEST_BATCH_SIZE] = labels.numpy()\n",
        "      im[i * TEST_BATCH_SIZE:(i + 1) * TEST_BATCH_SIZE] = x\n",
        "      neigh[i * TEST_BATCH_SIZE:(i + 1) * TEST_BATCH_SIZE] = n\n",
        "\n",
        "  preds_values.append(test_preds)\n",
        "  true_values.append(torch.from_numpy(test_val).float().to(device).cpu().squeeze().numpy())\n",
        "  acc.append(confusion_matrix.diag().sum() / confusion_matrix.sum())\n",
        "  neib_acc.append(confusion_matrix.diag() / confusion_matrix.sum(1))\n",
        "  matrix.append(confusion_matrix)\n",
        "  #neib_acc.append(CS(test_preds, test_val, 1))\n",
        "  neighboring.append(neigh)\n",
        "\n",
        "\n",
        "print(acc)\n",
        "print(neib_acc)\n",
        "print(matrix)"
      ],
      "execution_count": 0,
      "outputs": [
        {
          "output_type": "stream",
          "text": [
            "[tensor(0.6659), tensor(0.6852), tensor(0.6780), tensor(0.6634), tensor(0.7094)]\n",
            "[tensor([0.3784, 0.6739, 0.6632, 0.6222, 0.8081]), tensor([0.8387, 0.5732, 0.6827, 0.5766, 0.8824]), tensor([0.6000, 0.6429, 0.6437, 0.6055, 0.8469]), tensor([0.7600, 0.5426, 0.7196, 0.4688, 0.9011]), tensor([0.6923, 0.5618, 0.7767, 0.6442, 0.8571])]\n",
            "[tensor([[14., 19.,  4.,  0.,  0.],\n",
            "        [ 7., 62., 23.,  0.,  0.],\n",
            "        [ 1., 14., 63., 17.,  0.],\n",
            "        [ 0.,  0., 16., 56., 18.],\n",
            "        [ 0.,  0.,  0., 19., 80.]]), tensor([[26.,  4.,  1.,  0.,  0.],\n",
            "        [21., 47., 14.,  0.,  0.],\n",
            "        [ 1., 14., 71., 18.,  0.],\n",
            "        [ 1.,  3., 30., 64., 13.],\n",
            "        [ 0.,  0.,  2.,  8., 75.]]), tensor([[21., 13.,  1.,  0.,  0.],\n",
            "        [14., 54., 16.,  0.,  0.],\n",
            "        [ 0.,  8., 56., 23.,  0.],\n",
            "        [ 0.,  0., 18., 66., 25.],\n",
            "        [ 0.,  0.,  1., 14., 83.]]), tensor([[19.,  6.,  0.,  0.,  0.],\n",
            "        [23., 51., 20.,  0.,  0.],\n",
            "        [ 0., 12., 77., 18.,  0.],\n",
            "        [ 0.,  2., 21., 45., 28.],\n",
            "        [ 0.,  0.,  0.,  9., 82.]]), tensor([[18.,  8.,  0.,  0.,  0.],\n",
            "        [10., 50., 29.,  0.,  0.],\n",
            "        [ 0.,  5., 80., 18.,  0.],\n",
            "        [ 0.,  0., 22., 67., 15.],\n",
            "        [ 0.,  0.,  0., 13., 78.]])]\n"
          ],
          "name": "stdout"
        }
      ]
    },
    {
      "cell_type": "code",
      "metadata": {
        "id": "3DjbLC7B1USC",
        "colab_type": "code",
        "colab": {}
      },
      "source": [
        "CB91_Grad_BP = ['#2cbdfe', '#2fb9fc', '#33b4fa', '#36b0f8',\n",
        "                '#3aacf6', '#3da8f4', '#41a3f2', '#449ff0',\n",
        "                '#489bee', '#4b97ec', '#4f92ea', '#528ee8',\n",
        "                '#568ae6', '#5986e4', '#5c81e2', '#607de0',\n",
        "                '#6379de', '#6775dc', '#6a70da', '#6e6cd8',\n",
        "                '#7168d7', '#7564d5', '#785fd3', '#7c5bd1',\n",
        "                '#7f57cf', '#8353cd', '#864ecb', '#894ac9',\n",
        "                '#8d46c7', '#9042c5', '#943dc3', '#9739c1',\n",
        "                '#9b35bf', '#9e31bd', '#a22cbb', '#a528b9',\n",
        "                '#a924b7', '#ac20b5', '#b01bb3', '#b317b1']"
      ],
      "execution_count": 0,
      "outputs": []
    },
    {
      "cell_type": "code",
      "metadata": {
        "id": "6mhOCrGZ_ikA",
        "colab_type": "code",
        "colab": {}
      },
      "source": [
        "color =  ['#ffffff', '#e6e9eb', '#cdd3d7', '#b4bec4', '#9ca9b1',\n",
        "'#85949e', '#6e808c', '#576d7a', '#415a69', '#2a4858' ]"
      ],
      "execution_count": 0,
      "outputs": []
    },
    {
      "cell_type": "code",
      "metadata": {
        "id": "uv_yQxLu0noJ",
        "colab_type": "code",
        "outputId": "c2bebae2-6dcd-4b68-9d60-e8b417eed784",
        "colab": {
          "base_uri": "https://localhost:8080/",
          "height": 1000
        }
      },
      "source": [
        "for i, mat in enumerate(matrix): \n",
        "  print(mat)\n",
        "  plt.figure(i)\n",
        "  sns.heatmap(mat /  mat.sum(0),annot=True, cbar=False, cmap=color)\n",
        "  plt.xlabel('True label', fontsize = 15) # x-axis label with fontsize 15\n",
        "  plt.ylabel('Predicted label', fontsize = 15) \n",
        "  print(mat.diag() / mat.sum(1))\n",
        "  precision  =  np.diag(mat)/ mat.T.sum(0)\n",
        "  recall = np.diag(mat) / mat.sum(0)\n",
        "  print(precision)\n",
        "  print(recall)\n",
        "  print(mat.diag().sum() / mat.sum())"
      ],
      "execution_count": 0,
      "outputs": [
        {
          "output_type": "stream",
          "text": [
            "tensor([[14., 19.,  4.,  0.,  0.],\n",
            "        [ 7., 62., 23.,  0.,  0.],\n",
            "        [ 1., 14., 63., 17.,  0.],\n",
            "        [ 0.,  0., 16., 56., 18.],\n",
            "        [ 0.,  0.,  0., 19., 80.]])\n",
            "tensor([0.3784, 0.6739, 0.6632, 0.6222, 0.8081])\n",
            "tensor([0.3784, 0.6739, 0.6632, 0.6222, 0.8081])\n",
            "tensor([0.6364, 0.6526, 0.5943, 0.6087, 0.8163])\n",
            "tensor(0.6659)\n",
            "tensor([[26.,  4.,  1.,  0.,  0.],\n",
            "        [21., 47., 14.,  0.,  0.],\n",
            "        [ 1., 14., 71., 18.,  0.],\n",
            "        [ 1.,  3., 30., 64., 13.],\n",
            "        [ 0.,  0.,  2.,  8., 75.]])\n",
            "tensor([0.8387, 0.5732, 0.6827, 0.5766, 0.8824])\n",
            "tensor([0.8387, 0.5732, 0.6827, 0.5766, 0.8824])\n",
            "tensor([0.5306, 0.6912, 0.6017, 0.7111, 0.8523])\n",
            "tensor(0.6852)\n",
            "tensor([[21., 13.,  1.,  0.,  0.],\n",
            "        [14., 54., 16.,  0.,  0.],\n",
            "        [ 0.,  8., 56., 23.,  0.],\n",
            "        [ 0.,  0., 18., 66., 25.],\n",
            "        [ 0.,  0.,  1., 14., 83.]])\n",
            "tensor([0.6000, 0.6429, 0.6437, 0.6055, 0.8469])\n",
            "tensor([0.6000, 0.6429, 0.6437, 0.6055, 0.8469])\n",
            "tensor([0.6000, 0.7200, 0.6087, 0.6408, 0.7685])\n",
            "tensor(0.6780)\n",
            "tensor([[19.,  6.,  0.,  0.,  0.],\n",
            "        [23., 51., 20.,  0.,  0.],\n",
            "        [ 0., 12., 77., 18.,  0.],\n",
            "        [ 0.,  2., 21., 45., 28.],\n",
            "        [ 0.,  0.,  0.,  9., 82.]])\n",
            "tensor([0.7600, 0.5426, 0.7196, 0.4688, 0.9011])\n",
            "tensor([0.7600, 0.5426, 0.7196, 0.4688, 0.9011])\n",
            "tensor([0.4524, 0.7183, 0.6525, 0.6250, 0.7455])\n",
            "tensor(0.6634)\n",
            "tensor([[18.,  8.,  0.,  0.,  0.],\n",
            "        [10., 50., 29.,  0.,  0.],\n",
            "        [ 0.,  5., 80., 18.,  0.],\n",
            "        [ 0.,  0., 22., 67., 15.],\n",
            "        [ 0.,  0.,  0., 13., 78.]])\n",
            "tensor([0.6923, 0.5618, 0.7767, 0.6442, 0.8571])\n",
            "tensor([0.6923, 0.5618, 0.7767, 0.6442, 0.8571])\n",
            "tensor([0.6429, 0.7937, 0.6107, 0.6837, 0.8387])\n",
            "tensor(0.7094)\n"
          ],
          "name": "stdout"
        },
        {
          "output_type": "display_data",
          "data": {
            "image/png": "[encoded data removed]",
            "text/plain": [
              "<Figure size 432x288 with 1 Axes>"
            ]
          },
          "metadata": {
            "tags": [],
            "needs_background": "light"
          }
        },
        {
          "output_type": "display_data",
          "data": {
            "image/png": "[encoded data removed]",
            "text/plain": [
              "<Figure size 432x288 with 1 Axes>"
            ]
          },
          "metadata": {
            "tags": [],
            "needs_background": "light"
          }
        },
        {
          "output_type": "display_data",
          "data": {
            "image/png": "[encoded data removed]",
            "text/plain": [
              "<Figure size 432x288 with 1 Axes>"
            ]
          },
          "metadata": {
            "tags": [],
            "needs_background": "light"
          }
        },
        {
          "output_type": "display_data",
          "data": {
            "image/png": "[encoded data removed]",
            "text/plain": [
              "<Figure size 432x288 with 1 Axes>"
            ]
          },
          "metadata": {
            "tags": [],
            "needs_background": "light"
          }
        },
        {
          "output_type": "display_data",
          "data": {
            "image/png": "[encoded data removed]",
            "text/plain": [
              "<Figure size 432x288 with 1 Axes>"
            ]
          },
          "metadata": {
            "tags": [],
            "needs_background": "light"
          }
        }
      ]
    },
    {
      "cell_type": "code",
      "metadata": {
        "id": "aEyPbKzMz-tg",
        "colab_type": "code",
        "colab": {}
      },
      "source": [
        "stat = 0\n",
        "tot = 0\n",
        "statistiques  = 0\n",
        "total = 0\n",
        "vec = [0,0,0,0,0]\n",
        "vect = [0,0,0,0,0]\n",
        "SET = 2\n",
        "\n",
        "for i,x in enumerate(preds_values[SET] ) : \n",
        "  statistiques += neighboring[SET][i]\n",
        "  vect[int(x)] +=  neighboring[SET][i]\n",
        "  total +=1\n",
        "  if x != true_values[SET][i] : \n",
        "\n",
        "    stat += neighboring[SET][i]\n",
        "    vec[int(x)] +=  neighboring[SET][i]\n",
        "    tot +=1\n"
      ],
      "execution_count": 0,
      "outputs": []
    },
    {
      "cell_type": "code",
      "metadata": {
        "id": "h3laBm2Yz_92",
        "colab_type": "code",
        "outputId": "271d84ca-23af-4fc1-a20c-0e81609517e3",
        "colab": {
          "base_uri": "https://localhost:8080/",
          "height": 233
        }
      },
      "source": [
        "print(stat)\n",
        "print(statistiques)\n",
        "print(tot)\n",
        "print(total)\n",
        "print(stat/statistiques)\n",
        "print(tot/total)\n",
        "\n",
        "print(stat/tot)\n",
        "print(statistiques/total)\n",
        "\n",
        "print(vect)\n",
        "print(vec)\n"
      ],
      "execution_count": 0,
      "outputs": [
        {
          "output_type": "stream",
          "text": [
            "0.0\n",
            "0.0\n",
            "147\n",
            "413\n",
            "nan\n",
            "0.3559322033898305\n",
            "0.0\n",
            "0.0\n",
            "[0.0, 0.0, 0.0, 0.0, 0.0]\n",
            "[0.0, 0.0, 0.0, 0.0, 0.0]\n"
          ],
          "name": "stdout"
        },
        {
          "output_type": "stream",
          "text": [
            "/usr/local/lib/python3.6/dist-packages/ipykernel_launcher.py:5: RuntimeWarning: invalid value encountered in double_scalars\n",
            "  \"\"\"\n"
          ],
          "name": "stderr"
        }
      ]
    }
  ]
}