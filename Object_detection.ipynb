{
  "nbformat": 4,
  "nbformat_minor": 0,
  "metadata": {
    "colab": {
      "name": "Object_detection.ipynb",
      "provenance": [],
      "collapsed_sections": []
    },
    "kernelspec": {
      "name": "python3",
      "display_name": "Python 3"
    },
    "accelerator": "GPU",
    "widgets": {
      "application/vnd.jupyter.widget-state+json": {
        "091a38c02e3c46a79fcb952c14824b80": {
          "model_module": "@jupyter-widgets/controls",
          "model_name": "HBoxModel",
          "state": {
            "_view_name": "HBoxView",
            "_dom_classes": [],
            "_model_name": "HBoxModel",
            "_view_module": "@jupyter-widgets/controls",
            "_model_module_version": "1.5.0",
            "_view_count": null,
            "_view_module_version": "1.5.0",
            "box_style": "",
            "layout": "IPY_MODEL_2fee41f9da594ca99895b6dcb6516550",
            "_model_module": "@jupyter-widgets/controls",
            "children": [
              "IPY_MODEL_35f1d0915d2d45f094ec79470b52d104",
              "IPY_MODEL_4201392f420a417d9d4960496b29a3cb"
            ]
          }
        },
        "2fee41f9da594ca99895b6dcb6516550": {
          "model_module": "@jupyter-widgets/base",
          "model_name": "LayoutModel",
          "state": {
            "_view_name": "LayoutView",
            "grid_template_rows": null,
            "right": null,
            "justify_content": null,
            "_view_module": "@jupyter-widgets/base",
            "overflow": null,
            "_model_module_version": "1.2.0",
            "_view_count": null,
            "flex_flow": null,
            "width": null,
            "min_width": null,
            "border": null,
            "align_items": null,
            "bottom": null,
            "_model_module": "@jupyter-widgets/base",
            "top": null,
            "grid_column": null,
            "overflow_y": null,
            "overflow_x": null,
            "grid_auto_flow": null,
            "grid_area": null,
            "grid_template_columns": null,
            "flex": null,
            "_model_name": "LayoutModel",
            "justify_items": null,
            "grid_row": null,
            "max_height": null,
            "align_content": null,
            "visibility": null,
            "align_self": null,
            "height": null,
            "min_height": null,
            "padding": null,
            "grid_auto_rows": null,
            "grid_gap": null,
            "max_width": null,
            "order": null,
            "_view_module_version": "1.2.0",
            "grid_template_areas": null,
            "object_position": null,
            "object_fit": null,
            "grid_auto_columns": null,
            "margin": null,
            "display": null,
            "left": null
          }
        },
        "35f1d0915d2d45f094ec79470b52d104": {
          "model_module": "@jupyter-widgets/controls",
          "model_name": "FloatProgressModel",
          "state": {
            "_view_name": "ProgressView",
            "style": "IPY_MODEL_8d7426aab0c24afe8aa329f48e895e27",
            "_dom_classes": [],
            "description": "100%",
            "_model_name": "FloatProgressModel",
            "bar_style": "success",
            "max": 167502836,
            "_view_module": "@jupyter-widgets/controls",
            "_model_module_version": "1.5.0",
            "value": 167502836,
            "_view_count": null,
            "_view_module_version": "1.5.0",
            "orientation": "horizontal",
            "min": 0,
            "description_tooltip": null,
            "_model_module": "@jupyter-widgets/controls",
            "layout": "IPY_MODEL_83ed28e086ef47eaa97a9b4a920b1f37"
          }
        },
        "4201392f420a417d9d4960496b29a3cb": {
          "model_module": "@jupyter-widgets/controls",
          "model_name": "HTMLModel",
          "state": {
            "_view_name": "HTMLView",
            "style": "IPY_MODEL_4587d8ce1f784bd1919c439e337bc7ea",
            "_dom_classes": [],
            "description": "",
            "_model_name": "HTMLModel",
            "placeholder": "​",
            "_view_module": "@jupyter-widgets/controls",
            "_model_module_version": "1.5.0",
            "value": " 160M/160M [00:00&lt;00:00, 227MB/s]",
            "_view_count": null,
            "_view_module_version": "1.5.0",
            "description_tooltip": null,
            "_model_module": "@jupyter-widgets/controls",
            "layout": "IPY_MODEL_f5b3b51d47f5438081e42613e0e698d1"
          }
        },
        "8d7426aab0c24afe8aa329f48e895e27": {
          "model_module": "@jupyter-widgets/controls",
          "model_name": "ProgressStyleModel",
          "state": {
            "_view_name": "StyleView",
            "_model_name": "ProgressStyleModel",
            "description_width": "initial",
            "_view_module": "@jupyter-widgets/base",
            "_model_module_version": "1.5.0",
            "_view_count": null,
            "_view_module_version": "1.2.0",
            "bar_color": null,
            "_model_module": "@jupyter-widgets/controls"
          }
        },
        "83ed28e086ef47eaa97a9b4a920b1f37": {
          "model_module": "@jupyter-widgets/base",
          "model_name": "LayoutModel",
          "state": {
            "_view_name": "LayoutView",
            "grid_template_rows": null,
            "right": null,
            "justify_content": null,
            "_view_module": "@jupyter-widgets/base",
            "overflow": null,
            "_model_module_version": "1.2.0",
            "_view_count": null,
            "flex_flow": null,
            "width": null,
            "min_width": null,
            "border": null,
            "align_items": null,
            "bottom": null,
            "_model_module": "@jupyter-widgets/base",
            "top": null,
            "grid_column": null,
            "overflow_y": null,
            "overflow_x": null,
            "grid_auto_flow": null,
            "grid_area": null,
            "grid_template_columns": null,
            "flex": null,
            "_model_name": "LayoutModel",
            "justify_items": null,
            "grid_row": null,
            "max_height": null,
            "align_content": null,
            "visibility": null,
            "align_self": null,
            "height": null,
            "min_height": null,
            "padding": null,
            "grid_auto_rows": null,
            "grid_gap": null,
            "max_width": null,
            "order": null,
            "_view_module_version": "1.2.0",
            "grid_template_areas": null,
            "object_position": null,
            "object_fit": null,
            "grid_auto_columns": null,
            "margin": null,
            "display": null,
            "left": null
          }
        },
        "4587d8ce1f784bd1919c439e337bc7ea": {
          "model_module": "@jupyter-widgets/controls",
          "model_name": "DescriptionStyleModel",
          "state": {
            "_view_name": "StyleView",
            "_model_name": "DescriptionStyleModel",
            "description_width": "",
            "_view_module": "@jupyter-widgets/base",
            "_model_module_version": "1.5.0",
            "_view_count": null,
            "_view_module_version": "1.2.0",
            "_model_module": "@jupyter-widgets/controls"
          }
        },
        "f5b3b51d47f5438081e42613e0e698d1": {
          "model_module": "@jupyter-widgets/base",
          "model_name": "LayoutModel",
          "state": {
            "_view_name": "LayoutView",
            "grid_template_rows": null,
            "right": null,
            "justify_content": null,
            "_view_module": "@jupyter-widgets/base",
            "overflow": null,
            "_model_module_version": "1.2.0",
            "_view_count": null,
            "flex_flow": null,
            "width": null,
            "min_width": null,
            "border": null,
            "align_items": null,
            "bottom": null,
            "_model_module": "@jupyter-widgets/base",
            "top": null,
            "grid_column": null,
            "overflow_y": null,
            "overflow_x": null,
            "grid_auto_flow": null,
            "grid_area": null,
            "grid_template_columns": null,
            "flex": null,
            "_model_name": "LayoutModel",
            "justify_items": null,
            "grid_row": null,
            "max_height": null,
            "align_content": null,
            "visibility": null,
            "align_self": null,
            "height": null,
            "min_height": null,
            "padding": null,
            "grid_auto_rows": null,
            "grid_gap": null,
            "max_width": null,
            "order": null,
            "_view_module_version": "1.2.0",
            "grid_template_areas": null,
            "object_position": null,
            "object_fit": null,
            "grid_auto_columns": null,
            "margin": null,
            "display": null,
            "left": null
          }
        }
      }
    }
  },
  "cells": [
    {
      "cell_type": "code",
      "metadata": {
        "id": "x_jXpno1yrcH",
        "colab_type": "code",
        "outputId": "de6ba85d-c17a-4452-a5d5-57748629b7e2",
        "colab": {
          "base_uri": "https://localhost:8080/",
          "height": 35
        }
      },
      "source": [
        "%%shell\n",
        "\n",
        "# Download TorchVision repo to use some files from\n",
        "# references/detection\n",
        "git clone https://github.com/pytorch/vision.git\n",
        "cd vision\n",
        "#git checkout v0.3.0\n",
        "\n",
        "cp references/detection/utils.py ../\n",
        "cp references/detection/transforms.py ../\n",
        "cp references/detection/coco_eval.py ../\n",
        "cp references/detection/engine.py ../\n",
        "cp references/detection/coco_utils.py ../"
      ],
      "execution_count": 0,
      "outputs": [
        {
          "output_type": "stream",
          "text": [
            "fatal: destination path 'vision' already exists and is not an empty directory.\n"
          ],
          "name": "stdout"
        },
        {
          "output_type": "execute_result",
          "data": {
            "text/plain": [
              ""
            ]
          },
          "metadata": {
            "tags": []
          },
          "execution_count": 6
        }
      ]
    },
    {
      "cell_type": "code",
      "metadata": {
        "id": "xvoJL-00vGZ1",
        "colab_type": "code",
        "outputId": "90fc85da-f127-43fe-aa6b-16980443a041",
        "colab": {
          "base_uri": "https://localhost:8080/",
          "height": 35
        }
      },
      "source": [
        "!pip install numpy==1.17.5 "
      ],
      "execution_count": 0,
      "outputs": [
        {
          "output_type": "stream",
          "text": [
            "Requirement already satisfied: numpy==1.17.5 in /usr/local/lib/python3.6/dist-packages (1.17.5)\n"
          ],
          "name": "stdout"
        }
      ]
    },
    {
      "cell_type": "code",
      "metadata": {
        "id": "23PZfL6Pvk45",
        "colab_type": "code",
        "outputId": "b588b4df-f1bd-4875-e224-38afa78e5a9b",
        "colab": {
          "base_uri": "https://localhost:8080/",
          "height": 35
        }
      },
      "source": [
        "from pycocotools import cocoeval\n",
        "cocoeval.Params(iouType='bbox')"
      ],
      "execution_count": 0,
      "outputs": [
        {
          "output_type": "execute_result",
          "data": {
            "text/plain": [
              "<pycocotools.cocoeval.Params at 0x7f90e7e49978>"
            ]
          },
          "metadata": {
            "tags": []
          },
          "execution_count": 8
        }
      ]
    },
    {
      "cell_type": "code",
      "metadata": {
        "id": "XAnf5aREvs3J",
        "colab_type": "code",
        "colab": {}
      },
      "source": [
        ""
      ],
      "execution_count": 0,
      "outputs": []
    },
    {
      "cell_type": "code",
      "metadata": {
        "id": "_ekf4ET-7O_X",
        "colab_type": "code",
        "outputId": "b88711a6-e5d4-4627-cbf5-5902747550d3",
        "colab": {
          "base_uri": "https://localhost:8080/",
          "height": 53
        }
      },
      "source": [
        "%matplotlib inline\n",
        "\n",
        "from __future__ import print_function, division\n",
        "\n",
        "import torch\n",
        "import torch.nn as nn\n",
        "import torch.optim as optim\n",
        "from torch.optim import lr_scheduler\n",
        "import torchvision\n",
        "from torchvision import datasets, models, transforms\n",
        "from torch.utils.data import Dataset, DataLoader, Sampler\n",
        "from torchvision.models.detection.faster_rcnn import FastRCNNPredictor\n",
        "from torchvision.transforms import functional\n",
        "\n",
        "import importlib.util\n",
        "\n",
        "\n",
        "import numpy as np\n",
        "import pandas as pd\n",
        "import matplotlib.pyplot as plt\n",
        "import seaborn as sns\n",
        "import cv2\n",
        "\n",
        "import os\n",
        "from os import listdir\n",
        "from os.path import isfile, join\n",
        "import time\n",
        "import copy\n",
        "import shutil\n",
        "import gzip\n",
        "import binascii\n",
        "import zipfile\n",
        "import random\n",
        "\n",
        "\n",
        "from PIL import Image\n",
        "from PIL import ImageDraw\n",
        "\n",
        "\n",
        "\n",
        "#import xml.etree.ElementTree as ET\n",
        "import xml.etree.cElementTree as et\n",
        "\n"
      ],
      "execution_count": 0,
      "outputs": [
        {
          "output_type": "stream",
          "text": [
            "/usr/local/lib/python3.6/dist-packages/statsmodels/tools/_testing.py:19: FutureWarning: pandas.util.testing is deprecated. Use the functions in the public API at pandas.testing instead.\n",
            "  import pandas.util.testing as tm\n"
          ],
          "name": "stderr"
        }
      ]
    },
    {
      "cell_type": "code",
      "metadata": {
        "id": "wei5asD8woPg",
        "colab_type": "code",
        "outputId": "e9ee8066-214d-4d51-b969-944dad2651bb",
        "colab": {
          "base_uri": "https://localhost:8080/",
          "height": 127
        }
      },
      "source": [
        "# Drive imports\n",
        "\n",
        "from google.colab import drive\n",
        "drive.mount('/content/gdrive')\n",
        "\n",
        "PATH = \"gdrive/My Drive/Semester_project/\"\n",
        "SUB_PATH = PATH + 'Datas/Ara/'\n",
        "ANNOTATION_PATH = PATH + 'Datas/Ara/Annotations/'\n",
        "\n",
        "IMAGE_ORIGINE_PATH = SUB_PATH + 'DeepPhenoData/'\n",
        "IMAGES = SUB_PATH + 'Images/'\n",
        "\n"
      ],
      "execution_count": 0,
      "outputs": [
        {
          "output_type": "stream",
          "text": [
            "Go to this URL in a browser: https://accounts.google.com/o/oauth2/auth?client_id=947318989803-6bn6qk8qdgf4n4g3pfee6491hc0brc4i.apps.googleusercontent.com&redirect_uri=urn%3aietf%3awg%3aoauth%3a2.0%3aoob&response_type=code&scope=email%20https%3a%2f%2fwww.googleapis.com%2fauth%2fdocs.test%20https%3a%2f%2fwww.googleapis.com%2fauth%2fdrive%20https%3a%2f%2fwww.googleapis.com%2fauth%2fdrive.photos.readonly%20https%3a%2f%2fwww.googleapis.com%2fauth%2fpeopleapi.readonly\n",
            "\n",
            "Enter your authorization code:\n",
            "··········\n",
            "Mounted at /content/gdrive\n"
          ],
          "name": "stdout"
        }
      ]
    },
    {
      "cell_type": "code",
      "metadata": {
        "id": "VnH7_niz2anv",
        "colab_type": "code",
        "colab": {}
      },
      "source": [
        "DETECTION = PATH + 'Code/Detection/'"
      ],
      "execution_count": 0,
      "outputs": []
    },
    {
      "cell_type": "code",
      "metadata": {
        "id": "bXV2Vwoo8G5y",
        "colab_type": "code",
        "colab": {}
      },
      "source": [
        "import sys\n",
        "sys.path.append(DETECTION)\n"
      ],
      "execution_count": 0,
      "outputs": []
    },
    {
      "cell_type": "code",
      "metadata": {
        "id": "wMvWUlwf8O_U",
        "colab_type": "code",
        "colab": {}
      },
      "source": [
        "import utils\n",
        "import transforms\n",
        "import coco_eval\n",
        "import engine\n",
        "import coco_utils"
      ],
      "execution_count": 0,
      "outputs": []
    },
    {
      "cell_type": "markdown",
      "metadata": {
        "id": "vkkXHXma6TaW",
        "colab_type": "text"
      },
      "source": [
        "## File processing"
      ]
    },
    {
      "cell_type": "code",
      "metadata": {
        "id": "-fmdu5FSEJgA",
        "colab_type": "code",
        "colab": {}
      },
      "source": [
        "def parse_xml(path):\n",
        "    tree=et.ElementTree(et.fromstring(path))\n",
        "    #tree=et.parse(path)\n",
        "    root=tree.getroot()\n",
        "    annotation = {'filename' : root[0].text}\n",
        "    for x in root.iterfind('imagesize/'):\n",
        "        root1=x\n",
        "        for sizes in root1.iter():\n",
        "          annotation[sizes.tag] = sizes.text   \n",
        "\n",
        "    x_coord = set()\n",
        "    y_coord = set()\n",
        "    for x in root.iter('object'):\n",
        "        root1=x\n",
        "        for poly in root1.iterfind('polygon/pt/'):\n",
        "          root2=poly\n",
        "          for coordinate in root2.iter():\n",
        "            if (coordinate.tag == 'x'): x_coord.add(float(coordinate.text))\n",
        "            if (coordinate.tag == 'y') : y_coord.add(float(coordinate.text)) \n",
        "\n",
        "        # Get the class    \n",
        "        for name in root1.iter('name'):\n",
        "\n",
        "          annotation[name.tag] = name.text\n",
        "        #Get the subclass \n",
        "        for stage in root1.iter('attributes'):\n",
        "          annotation['stage'] = stage.text\n",
        "\n",
        "    annotation['x_min'] = min(x_coord)\n",
        "    annotation['y_min'] = min(y_coord)\n",
        "    annotation['x_max'] = max(x_coord)\n",
        "    annotation['y_max'] = max(y_coord)\n",
        "\n",
        "    return annotation"
      ],
      "execution_count": 0,
      "outputs": []
    },
    {
      "cell_type": "code",
      "metadata": {
        "id": "qT-YpSWvbczA",
        "colab_type": "code",
        "colab": {}
      },
      "source": [
        "# Compile the images \n",
        "\n",
        "for root, dirs, files in os.walk(IMAGE_ORIGINE_PATH):  # replace the . with your starting directory\n",
        "   for file in files:\n",
        "      path_file = os.path.join(root,file)\n",
        "      shutil.copy2(path_file,IMAGES) # change you destination dir"
      ],
      "execution_count": 0,
      "outputs": []
    },
    {
      "cell_type": "code",
      "metadata": {
        "id": "Yq8hKnA5xP9b",
        "colab_type": "code",
        "colab": {}
      },
      "source": [
        "df = pd.DataFrame(columns=['filename','nrows','ncols','name','stage','x_min','y_min', 'x_max', 'y_max'])"
      ],
      "execution_count": 0,
      "outputs": []
    },
    {
      "cell_type": "code",
      "metadata": {
        "id": "SSvHUnkGC5vx",
        "colab_type": "code",
        "colab": {}
      },
      "source": [
        "\n",
        "\n",
        "for dirName, subdirList, fileList in os.walk(ANNOTATION_PATH):\n",
        "    for fname in fileList:\n",
        "        filepath = os.path.join(dirName,fname)\n",
        "        try:\n",
        "          with zipfile.ZipFile(filepath, \"r\") as f:\n",
        "            for name in f.namelist():\n",
        "              data = f.read(name)\n",
        "              #path = os.path.join(filepath,name)\n",
        "              dictionary = parse_xml(data)\n",
        "              df = df.append(dictionary, ignore_index=True)\n",
        "        except :\n",
        "          continue"
      ],
      "execution_count": 0,
      "outputs": []
    },
    {
      "cell_type": "code",
      "metadata": {
        "id": "D25gp5Tt19Uw",
        "colab_type": "code",
        "colab": {}
      },
      "source": [
        "df = df.drop_duplicates(subset='filename', keep='first')\n",
        "df['stage'] = df.stage.str.extract(r'Stage=(\\d)')\n"
      ],
      "execution_count": 0,
      "outputs": []
    },
    {
      "cell_type": "code",
      "metadata": {
        "id": "mTJdUCKMK8Fa",
        "colab_type": "code",
        "colab": {}
      },
      "source": [
        "df = df[df.stage != '0']\n",
        "df = df.reset_index(drop=True)"
      ],
      "execution_count": 0,
      "outputs": []
    },
    {
      "cell_type": "code",
      "metadata": {
        "id": "ysqnmiEGMoC9",
        "colab_type": "code",
        "outputId": "b8a1156b-5cb0-4e13-f110-3c2918b19dcf",
        "colab": {
          "base_uri": "https://localhost:8080/",
          "height": 35
        }
      },
      "source": [
        "df.stage.unique()"
      ],
      "execution_count": 0,
      "outputs": [
        {
          "output_type": "execute_result",
          "data": {
            "text/plain": [
              "array(['1', '2', '3', '4', '5'], dtype=object)"
            ]
          },
          "metadata": {
            "tags": []
          },
          "execution_count": 26
        }
      ]
    },
    {
      "cell_type": "code",
      "metadata": {
        "id": "NaRj2Xdq2Uhz",
        "colab_type": "code",
        "colab": {}
      },
      "source": [
        "df.to_csv(ANNOTATION_PATH +'labels.csv')"
      ],
      "execution_count": 0,
      "outputs": []
    },
    {
      "cell_type": "code",
      "metadata": {
        "id": "NxF8IAt98ftf",
        "colab_type": "code",
        "colab": {}
      },
      "source": [
        "df = pd.read_csv(ANNOTATION_PATH +'labels.csv')"
      ],
      "execution_count": 0,
      "outputs": []
    },
    {
      "cell_type": "markdown",
      "metadata": {
        "id": "RggQjYJ87tlF",
        "colab_type": "text"
      },
      "source": [
        "### Test val split"
      ]
    },
    {
      "cell_type": "code",
      "metadata": {
        "id": "CYgqKArs7stO",
        "colab_type": "code",
        "colab": {}
      },
      "source": [
        "# Using pandas, code from here : https://stackoverflow.com/questions/38250710/how-to-split-data-into-3-sets-train-validation-and-test/38251213#38251213\n",
        "SEED = 25\n",
        "def train_validate_test_split(df, train_percent=.6, validate_percent=.2, seed=None):\n",
        "    np.random.seed(seed)\n",
        "    perm = np.random.permutation(df.index)\n",
        "    m = len(df.index)\n",
        "\n",
        "    #Index for ending \n",
        "    train_end = int(train_percent * m)\n",
        "    validate_end = int(validate_percent * m) + train_end\n",
        "\n",
        "    # Split\n",
        "    train = df.iloc[perm[:train_end]]\n",
        "    validate = df.iloc[perm[train_end:validate_end]]\n",
        "    test = df.iloc[perm[validate_end:]]\n",
        "    return train, validate, test\n"
      ],
      "execution_count": 0,
      "outputs": []
    },
    {
      "cell_type": "code",
      "metadata": {
        "id": "Oh2j8Nzl7xOB",
        "colab_type": "code",
        "colab": {}
      },
      "source": [
        "#Split \n",
        "df = pd.read_csv(ANNOTATION_PATH +'labels.csv')\n",
        "seeds = random.sample(range(1, 200), 5)\n",
        "paths = []\n",
        "for i, seed in enumerate(seeds):\n",
        "\n",
        "  train, validate, test = train_validate_test_split(df, seed= seed)\n",
        "  path = {'train': ANNOTATION_PATH +'train' + str(i) + '.csv', \n",
        "          'val' : ANNOTATION_PATH +'val' + str(i) + '.csv',\n",
        "          'test': ANNOTATION_PATH +'test' + str(i) + '.csv'}\n",
        "\n",
        "#Save the splits \n",
        "  train.to_csv(path['train'])\n",
        "  validate.to_csv(path['val'])\n",
        "  test.to_csv(path['test'])\n",
        "  paths.append(path)"
      ],
      "execution_count": 0,
      "outputs": []
    },
    {
      "cell_type": "code",
      "metadata": {
        "id": "V6K_J1qqSPXu",
        "colab_type": "code",
        "outputId": "07cdfd46-7033-4e3d-b79b-fc9d8c5e6967",
        "colab": {
          "base_uri": "https://localhost:8080/",
          "height": 287
        }
      },
      "source": [
        "paths"
      ],
      "execution_count": 0,
      "outputs": [
        {
          "output_type": "execute_result",
          "data": {
            "text/plain": [
              "[{'test': 'gdrive/My Drive/Semester_project/Datas/Ara/Annotations/test0.csv',\n",
              "  'train': 'gdrive/My Drive/Semester_project/Datas/Ara/Annotations/train0.csv',\n",
              "  'val': 'gdrive/My Drive/Semester_project/Datas/Ara/Annotations/val0.csv'},\n",
              " {'test': 'gdrive/My Drive/Semester_project/Datas/Ara/Annotations/test1.csv',\n",
              "  'train': 'gdrive/My Drive/Semester_project/Datas/Ara/Annotations/train1.csv',\n",
              "  'val': 'gdrive/My Drive/Semester_project/Datas/Ara/Annotations/val1.csv'},\n",
              " {'test': 'gdrive/My Drive/Semester_project/Datas/Ara/Annotations/test2.csv',\n",
              "  'train': 'gdrive/My Drive/Semester_project/Datas/Ara/Annotations/train2.csv',\n",
              "  'val': 'gdrive/My Drive/Semester_project/Datas/Ara/Annotations/val2.csv'},\n",
              " {'test': 'gdrive/My Drive/Semester_project/Datas/Ara/Annotations/test3.csv',\n",
              "  'train': 'gdrive/My Drive/Semester_project/Datas/Ara/Annotations/train3.csv',\n",
              "  'val': 'gdrive/My Drive/Semester_project/Datas/Ara/Annotations/val3.csv'},\n",
              " {'test': 'gdrive/My Drive/Semester_project/Datas/Ara/Annotations/test4.csv',\n",
              "  'train': 'gdrive/My Drive/Semester_project/Datas/Ara/Annotations/train4.csv',\n",
              "  'val': 'gdrive/My Drive/Semester_project/Datas/Ara/Annotations/val4.csv'}]"
            ]
          },
          "metadata": {
            "tags": []
          },
          "execution_count": 8
        }
      ]
    },
    {
      "cell_type": "markdown",
      "metadata": {
        "id": "yrjwB6gZ63mV",
        "colab_type": "text"
      },
      "source": [
        "## Dataset "
      ]
    },
    {
      "cell_type": "markdown",
      "metadata": {
        "id": "KOPSJpOREavc",
        "colab_type": "text"
      },
      "source": [
        "Things to try : \n",
        "\n",
        "\n",
        "*   Use a pretrain model and finetuning \n",
        "*   Diferent backbones \n",
        "* Finetune backbone \n",
        "* Double finetuning with other ara dataset \n",
        "\n"
      ]
    },
    {
      "cell_type": "code",
      "metadata": {
        "id": "S1dbxT9u6YJh",
        "colab_type": "code",
        "colab": {}
      },
      "source": [
        "class AraDataset(Dataset):\n",
        "  def __init__(self, \n",
        "               csv_file, \n",
        "               root_dir, \n",
        "               num_classes, \n",
        "               transform=None):\n",
        "      \"\"\"\n",
        "        Args:\n",
        "            csv_file (string): Path to the csv file with annotations.\n",
        "            root_dir (string): Directory with all the images.\n",
        "            transform (callable, optional): Optional transform to be applied on a sample.\n",
        "        \"\"\"\n",
        "\n",
        "      self.data = pd.read_csv(csv_file)\n",
        "      self.root_dir = root_dir\n",
        "      self.transform = transform\n",
        "      self.num_classes = num_classes\n",
        "\n",
        "  def __len__(self):\n",
        "        return len(self.data)\n",
        "\n",
        "  def __getitem__(self, idx):\n",
        "\n",
        "      if torch.is_tensor(idx):\n",
        "          idx = idx.tolist()\n",
        "\n",
        "        # Get image name \n",
        "      img_name = os.path.join(self.root_dir,\n",
        "                                str(self.data.iloc[idx, 2]))\n",
        "      #Open image \n",
        "      image = Image.open(img_name).convert(\"RGB\")\n",
        "\n",
        "      #Create classes \n",
        "      classe = [self.data.loc[idx, 'name']]\n",
        "      labels = [self.data.loc[idx, 'stage']]\n",
        "      labels = torch.as_tensor(labels, dtype=torch.int64)\n",
        "      \n",
        "      # Create boxes \n",
        "      boxes = [[self.data.loc[idx, 'x_min'], self.data.loc[idx, 'y_min'],\n",
        "               self.data.loc[idx, 'x_max'],self.data.loc[idx, 'y_max']]]\n",
        "      boxes = torch.as_tensor(boxes, dtype=torch.float32)\n",
        "\n",
        "      image_id = torch.tensor([idx])\n",
        "      area = (boxes[:,3] - boxes[:,1]) * (boxes[:,2] - boxes[:,0])\n",
        "\n",
        "      iscrowd = torch.zeros((1,), dtype=torch.int64)\n",
        "\n",
        "      target = {}\n",
        "      target[\"boxes\"] = boxes\n",
        "      target[\"labels\"] = labels -1 \n",
        "      target[\"image_id\"] = image_id\n",
        "      target[\"area\"] = area\n",
        "      target[\"iscrowd\"] = iscrowd\n",
        "\n",
        "      if self.transform is not None:\n",
        "          image, target = self.transform(image, target)\n",
        "          #boxes = self.transform(boxes)\n",
        "\n",
        "        \n",
        "      return image, target\n",
        "\n",
        "\n",
        "\n"
      ],
      "execution_count": 0,
      "outputs": []
    },
    {
      "cell_type": "code",
      "metadata": {
        "id": "_skwWH1SlVFm",
        "colab_type": "code",
        "colab": {}
      },
      "source": [
        "df = pd.read_csv(ANNOTATION_PATH + 'train.csv')"
      ],
      "execution_count": 0,
      "outputs": []
    },
    {
      "cell_type": "code",
      "metadata": {
        "id": "lIFAx1Ohndtf",
        "colab_type": "code",
        "colab": {}
      },
      "source": [
        "img_name = os.path.join(IMAGES ,str(df.iloc[0, 1]))"
      ],
      "execution_count": 0,
      "outputs": []
    },
    {
      "cell_type": "code",
      "metadata": {
        "id": "lF0XHB-RmChY",
        "colab_type": "code",
        "colab": {}
      },
      "source": [
        "im = Image.open(img_name)"
      ],
      "execution_count": 0,
      "outputs": []
    },
    {
      "cell_type": "code",
      "metadata": {
        "id": "2U9YXb1_qCHl",
        "colab_type": "code",
        "colab": {}
      },
      "source": [
        " box = [(df.loc[0, 'x_min'], df.loc[0, 'y_min']),\n",
        "               (df.loc[0, 'x_max'],df.loc[0, 'y_max'])]"
      ],
      "execution_count": 0,
      "outputs": []
    },
    {
      "cell_type": "code",
      "metadata": {
        "id": "mOVTRrrawB9Y",
        "colab_type": "code",
        "colab": {}
      },
      "source": [
        "draw = ImageDraw.Draw(im)\n",
        "draw.rectangle(box, outline='red')\n",
        "draw.text((box[0][0] +2. , box[0][1] -12.), 'Ara', fill='red')"
      ],
      "execution_count": 0,
      "outputs": []
    },
    {
      "cell_type": "code",
      "metadata": {
        "id": "cc2crHOSx5Th",
        "colab_type": "code",
        "outputId": "0e90317a-51e8-4599-8aab-d3a6a24a02ce",
        "colab": {
          "base_uri": "https://localhost:8080/",
          "height": 337
        }
      },
      "source": [
        "im"
      ],
      "execution_count": 0,
      "outputs": [
        {
          "output_type": "execute_result",
          "data": {
            "image/png": "[encoded data removed]",
            "text/plain": [
              "<PIL.JpegImagePlugin.JpegImageFile image mode=RGB size=320x320 at 0x7F90D4065E80>"
            ]
          },
          "metadata": {
            "tags": []
          },
          "execution_count": 20
        }
      ]
    },
    {
      "cell_type": "code",
      "metadata": {
        "id": "NCo1DhJeyqLY",
        "colab_type": "code",
        "colab": {}
      },
      "source": [
        "NUM_CLASS = 5"
      ],
      "execution_count": 0,
      "outputs": []
    },
    {
      "cell_type": "code",
      "metadata": {
        "id": "shqmpk0yvvKC",
        "colab_type": "code",
        "colab": {}
      },
      "source": [
        "TEST =  'gdrive/My Drive/Semester_project/Datas/Ara/Annotations/test0.csv'\n",
        "TRAIN =  'gdrive/My Drive/Semester_project/Datas/Ara/Annotations/train0.csv'\n",
        "VAL =   'gdrive/My Drive/Semester_project/Datas/Ara/Annotations/val0.csv'\n"
      ],
      "execution_count": 0,
      "outputs": []
    },
    {
      "cell_type": "markdown",
      "metadata": {
        "id": "QKFFNHD_3YqL",
        "colab_type": "text"
      },
      "source": [
        "*texte en italique*## Finetunng "
      ]
    },
    {
      "cell_type": "code",
      "metadata": {
        "id": "xOJjIkGj3ai9",
        "colab_type": "code",
        "colab": {}
      },
      "source": [
        "import torchvision\n",
        "from torchvision.models.detection.faster_rcnn import FastRCNNPredictor\n",
        "\n",
        "      \n",
        "def get_model(num_classes):\n",
        "    # load an instance segmentation model pre-trained on COCO\n",
        "    model = torchvision.models.detection.fasterrcnn_resnet50_fpn(pretrained=True, box_nms_thresh=0.1)\n",
        "\n",
        "    # get the number of input features for the classifier\n",
        "    in_features = model.roi_heads.box_predictor.cls_score.in_features\n",
        "    # replace the pre-trained head with a new one\n",
        "    model.roi_heads.box_predictor = FastRCNNPredictor(in_features, num_classes)\n",
        "\n",
        "    # now get the number of input features for the mask classifier\n",
        "    #in_features_mask = model.roi_heads.mask_predictor.conv5_mask.in_channels\n",
        "    #hidden_layer = 256\n",
        "    # and replace the mask predictor with a new one\n",
        "   # model.roi_heads.mask_predictor = MaskRCNNPredictor(in_features_mask,\n",
        "    #                                                   hidden_layer,\n",
        "    #                                                   num_classes)\n",
        "\n",
        "    return model"
      ],
      "execution_count": 0,
      "outputs": []
    },
    {
      "cell_type": "code",
      "metadata": {
        "id": "Dh1n4V6039wY",
        "colab_type": "code",
        "colab": {}
      },
      "source": [
        "from engine import train_one_epoch, evaluate\n",
        "import utils\n",
        "import transforms as T\n",
        "\n",
        "\n",
        "def get_transform(train):\n",
        "    transforms = []\n",
        "    # converts the image, a PIL image, into a PyTorch Tensor\n",
        "    transforms.append(T.ToTensor())\n",
        "    if train:\n",
        "        # during training, randomly flip the training images\n",
        "        # and ground-truth for data augmentation\n",
        "        transforms.append(T.RandomHorizontalFlip(0.5))\n",
        "    return T.Compose(transforms)"
      ],
      "execution_count": 0,
      "outputs": []
    },
    {
      "cell_type": "code",
      "metadata": {
        "id": "uzQGMNYz42Rg",
        "colab_type": "code",
        "colab": {}
      },
      "source": [
        "# use our dataset and defined transformations\n",
        "dataset = AraDataset(csv_file= TRAIN, \n",
        "                    root_dir=IMAGES,\n",
        "                    num_classes=NUM_CLASS,\n",
        "                    transform=get_transform(train=True))\n",
        "dataset_test = AraDataset(csv_file=VAL , \n",
        "                    root_dir=IMAGES,\n",
        "                    num_classes=NUM_CLASS,\n",
        "                    transform=get_transform(train=False))\n",
        "\n",
        "\n",
        "\n",
        "# define training and validation data loaders\n",
        "data_loader = torch.utils.data.DataLoader(\n",
        "    dataset, batch_size=2, shuffle=True, num_workers=4,\n",
        "    collate_fn=utils.collate_fn)\n",
        "\n",
        "data_loader_test = torch.utils.data.DataLoader(\n",
        "    dataset_test, batch_size=1, shuffle=False, num_workers=4,\n",
        "    collate_fn=utils.collate_fn)"
      ],
      "execution_count": 0,
      "outputs": []
    },
    {
      "cell_type": "code",
      "metadata": {
        "id": "JKcrcxyX6Swj",
        "colab_type": "code",
        "outputId": "11c91ce3-d477-4568-d0a6-dd8cdb4b75fa",
        "colab": {
          "base_uri": "https://localhost:8080/",
          "height": 85,
          "referenced_widgets": [
            "091a38c02e3c46a79fcb952c14824b80",
            "2fee41f9da594ca99895b6dcb6516550",
            "35f1d0915d2d45f094ec79470b52d104",
            "4201392f420a417d9d4960496b29a3cb",
            "8d7426aab0c24afe8aa329f48e895e27",
            "83ed28e086ef47eaa97a9b4a920b1f37",
            "4587d8ce1f784bd1919c439e337bc7ea",
            "f5b3b51d47f5438081e42613e0e698d1"
          ]
        }
      },
      "source": [
        "device = torch.device(\"cuda:0\" if torch.cuda.is_available() else \"cpu\")\n",
        "\n",
        "# our dataset has two classes only - background and person\n",
        "num_classes = 5\n",
        "\n",
        "# get the model using our helper function\n",
        "model = get_model(num_classes)\n",
        "# move model to the right device\n",
        "model.to(device)\n",
        "\n",
        "# construct an optimizer\n",
        "params = [p for p in model.parameters() if p.requires_grad]\n",
        "optimizer = torch.optim.SGD(params, lr=0.005,\n",
        "                            momentum=0.9, weight_decay=0.0005)\n",
        "\n",
        "# and a learning rate scheduler which decreases the learning rate by\n",
        "# 10x every 3 epochs\n",
        "lr_scheduler = torch.optim.lr_scheduler.StepLR(optimizer,\n",
        "                                               step_size=3,\n",
        "                                               gamma=0.1)"
      ],
      "execution_count": 0,
      "outputs": [
        {
          "output_type": "stream",
          "text": [
            "Downloading: \"https://download.pytorch.org/models/fasterrcnn_resnet50_fpn_coco-258fb6c6.pth\" to /root/.cache/torch/checkpoints/fasterrcnn_resnet50_fpn_coco-258fb6c6.pth\n"
          ],
          "name": "stderr"
        },
        {
          "output_type": "display_data",
          "data": {
            "application/vnd.jupyter.widget-view+json": {
              "model_id": "091a38c02e3c46a79fcb952c14824b80",
              "version_minor": 0,
              "version_major": 2
            },
            "text/plain": [
              "HBox(children=(FloatProgress(value=0.0, max=167502836.0), HTML(value='')))"
            ]
          },
          "metadata": {
            "tags": []
          }
        },
        {
          "output_type": "stream",
          "text": [
            "\n"
          ],
          "name": "stdout"
        }
      ]
    },
    {
      "cell_type": "code",
      "metadata": {
        "id": "6KzQWrh56qe7",
        "colab_type": "code",
        "colab": {}
      },
      "source": [
        "# let's train it for 10 epochs\n",
        "num_epochs = 20\n",
        "for epoch in range(num_epochs):\n",
        "    train_one_epoch(model, optimizer, data_loader, device, epoch, print_freq=10)\n",
        "\n",
        "    # update the learning rate\n",
        "    lr_scheduler.step()\n",
        "    # evaluate on the test dataset\n",
        "    evaluate(model, data_loader_test, device=device)"
      ],
      "execution_count": 0,
      "outputs": []
    },
    {
      "cell_type": "code",
      "metadata": {
        "id": "9Hn34skZ6FaG",
        "colab_type": "code",
        "colab": {}
      },
      "source": [
        "# use our dataset and defined transformations\n",
        "\n",
        "dataset_val = AraDataset(csv_file= TEST, #ANNOTATION_PATH + 'test.csv' ,\n",
        "                    root_dir=IMAGES,\n",
        "                    num_classes=NUM_CLASS,\n",
        "                    transform=get_transform(train=False))"
      ],
      "execution_count": 0,
      "outputs": []
    },
    {
      "cell_type": "code",
      "metadata": {
        "id": "gyCxLxN0hQoT",
        "colab_type": "code",
        "outputId": "c2a4ecf2-4149-416f-edf5-ed4bdf024c99",
        "colab": {
          "base_uri": "https://localhost:8080/",
          "height": 35
        }
      },
      "source": [
        "SUB_PATH"
      ],
      "execution_count": 0,
      "outputs": [
        {
          "output_type": "execute_result",
          "data": {
            "text/plain": [
              "'gdrive/My Drive/Semester_project/Datas/Ara/'"
            ]
          },
          "metadata": {
            "tags": []
          },
          "execution_count": 33
        }
      ]
    },
    {
      "cell_type": "code",
      "metadata": {
        "id": "EER5qiQig2j_",
        "colab_type": "code",
        "colab": {}
      },
      "source": [
        "image = Image.open(SUB_PATH + 'test.jpg').convert(\"RGB\")"
      ],
      "execution_count": 0,
      "outputs": []
    },
    {
      "cell_type": "code",
      "metadata": {
        "id": "mP8wNh3phfei",
        "colab_type": "code",
        "colab": {}
      },
      "source": [
        "transform = transforms.Compose([\n",
        " \n",
        "        transforms.ToTensor(),\n",
        "    ])"
      ],
      "execution_count": 0,
      "outputs": []
    },
    {
      "cell_type": "code",
      "metadata": {
        "id": "DkRGnvv3iBXT",
        "colab_type": "code",
        "outputId": "0875ed20-a69d-4783-e303-3b351c15e512",
        "colab": {
          "base_uri": "https://localhost:8080/",
          "height": 172
        }
      },
      "source": [
        "trans = transforms.functional.to_tensor(image)"
      ],
      "execution_count": 0,
      "outputs": [
        {
          "output_type": "error",
          "ename": "AttributeError",
          "evalue": "ignored",
          "traceback": [
            "\u001b[0;31m---------------------------------------------------------------------------\u001b[0m",
            "\u001b[0;31mAttributeError\u001b[0m                            Traceback (most recent call last)",
            "\u001b[0;32m<ipython-input-36-7d6592ea62a6>\u001b[0m in \u001b[0;36m<module>\u001b[0;34m()\u001b[0m\n\u001b[0;32m----> 1\u001b[0;31m \u001b[0mtrans\u001b[0m \u001b[0;34m=\u001b[0m \u001b[0mtransforms\u001b[0m\u001b[0;34m.\u001b[0m\u001b[0mfunctional\u001b[0m\u001b[0;34m.\u001b[0m\u001b[0mto_tensor\u001b[0m\u001b[0;34m(\u001b[0m\u001b[0mimage\u001b[0m\u001b[0;34m)\u001b[0m\u001b[0;34m\u001b[0m\u001b[0;34m\u001b[0m\u001b[0m\n\u001b[0m",
            "\u001b[0;31mAttributeError\u001b[0m: module 'transforms' has no attribute 'functional'"
          ]
        }
      ]
    },
    {
      "cell_type": "code",
      "metadata": {
        "id": "4fO6OKLLxUGO",
        "colab_type": "code",
        "colab": {}
      },
      "source": [
        "# From : http://ronny.rest/tutorials/module/localization_001/iou/ \n",
        "\n",
        "def get_iou(a, b, epsilon=1e-5):\n",
        "    \"\"\" Given two boxes `a` and `b` defined as a list of four numbers:\n",
        "            [x1,y1,x2,y2]\n",
        "        where:\n",
        "            x1,y1 represent the upper left corner\n",
        "            x2,y2 represent the lower right corner\n",
        "        It returns the Intersect of Union score for these two boxes.\n",
        "\n",
        "    Args:\n",
        "        a:          (list of 4 numbers) [x1,y1,x2,y2]\n",
        "        b:          (list of 4 numbers) [x1,y1,x2,y2]\n",
        "        epsilon:    (float) Small value to prevent division by zero\n",
        "\n",
        "    Returns:\n",
        "        (float) The Intersect of Union score.\n",
        "    \"\"\"\n",
        "    # COORDINATES OF THE INTERSECTION BOX\n",
        "    x1 = max(a[0], b[0])\n",
        "    y1 = max(a[1], b[1])\n",
        "    x2 = min(a[2], b[2])\n",
        "    y2 = min(a[3], b[3])\n",
        "\n",
        "    # AREA OF OVERLAP - Area where the boxes intersect\n",
        "    width = (x2 - x1)\n",
        "    height = (y2 - y1)\n",
        "    # handle case where there is NO overlap\n",
        "    if (width<0) or (height <0):\n",
        "        return 0.0\n",
        "    area_overlap = width * height\n",
        "\n",
        "    # COMBINED AREA\n",
        "    area_a = (a[2] - a[0]) * (a[3] - a[1])\n",
        "    area_b = (b[2] - b[0]) * (b[3] - b[1])\n",
        "    area_combined = area_a + area_b - area_overlap\n",
        "\n",
        "    # RATIO OF AREA OF OVERLAP OVER COMBINED AREA\n",
        "    iou = area_overlap / (area_combined+epsilon)\n",
        "    return iou\n"
      ],
      "execution_count": 0,
      "outputs": []
    },
    {
      "cell_type": "code",
      "metadata": {
        "id": "18PI5jMczIMu",
        "colab_type": "code",
        "colab": {}
      },
      "source": [
        "vec = np.zeros(len(dataset_val))\n",
        "per_class = np.zeros((len(dataset_val), 5))\n",
        "up_class = np.zeros(5)\n",
        "down_class = np.zeros(5)\n",
        "nbr_per_class = np.zeros( 5)\n",
        "\n",
        "iou = np.zeros(len(dataset_val))\n",
        "t_class = np.zeros(len(dataset_val))\n",
        "pred_classes = np.zeros(len(dataset_val))\n",
        "neb = np.zeros(len(dataset_val))"
      ],
      "execution_count": 0,
      "outputs": []
    },
    {
      "cell_type": "code",
      "metadata": {
        "id": "jvPW8261wwyZ",
        "colab_type": "code",
        "outputId": "9f276cac-baca-41de-ec10-60be8b1af463",
        "colab": {
          "base_uri": "https://localhost:8080/",
          "height": 73
        }
      },
      "source": [
        "confusion_matrix = torch.zeros(NUM_CLASS, NUM_CLASS)\n",
        "\n",
        "for i, img in enumerate(dataset_val): \n",
        "  true_class = img[1]['labels'].numpy()[0]\n",
        "  model.eval()\n",
        "  prediction = model([img[0].to(device)])\n",
        "  try : \n",
        "    pred_box = prediction[0]['boxes'].cpu().detach().numpy()[0]\n",
        "    pred_class = prediction[0]['labels'].cpu().detach().numpy()[0]\n",
        "  except: \n",
        "    pred_box = 0\n",
        "    pred_class = 0 \n",
        "  for t, p in zip(img[1]['labels'][0].view(-1), prediction[0]['labels'].cpu().detach().view(-1)):\n",
        "            confusion_matrix[t.long(), p.long()] += 1 \n",
        "  t_class[i] = int(true_class)\n",
        "  pred_classes[i] = int(pred_class)           \n",
        "  \n",
        "  nbr_per_class[true_class] += 1\n",
        "  if true_class == pred_class : \n",
        "    vec[i] = 1\n",
        "    per_class[i,true_class] = 1\n",
        "  if true_class == pred_class +1 : \n",
        "    down_class[true_class] +=1\n",
        "\n",
        "  if true_class == pred_class -1 : \n",
        "    up_class[true_class] += 1\n",
        "\n",
        "  if (true_class == pred_class or true_class == pred_class + 1 or true_class == pred_class -1) : \n",
        "    neb[i] = 1\n",
        "  try : \n",
        "    iou[i] = get_iou(prediction[0]['boxes'].cpu().detach().numpy()[0], img[1]['boxes'].cpu().numpy()[0])\n",
        "  except : \n",
        "    iou[i] = 0\n",
        "\n"
      ],
      "execution_count": 0,
      "outputs": [
        {
          "output_type": "stream",
          "text": [
            "/usr/local/lib/python3.6/dist-packages/torch/nn/functional.py:2854: UserWarning: The default behavior for interpolate/upsample with float scale_factor will change in 1.6.0 to align with other frameworks/libraries, and use scale_factor directly, instead of relying on the computed output size. If you wish to keep the old behavior, please set recompute_scale_factor=True. See the documentation of nn.Upsample for details. \n",
            "  warnings.warn(\"The default behavior for interpolate/upsample with float scale_factor will change \"\n"
          ],
          "name": "stderr"
        }
      ]
    },
    {
      "cell_type": "code",
      "metadata": {
        "id": "tQn5xz8b5-AE",
        "colab_type": "code",
        "outputId": "cb47378a-b716-4c03-b1ad-e30af3b2adff",
        "colab": {
          "base_uri": "https://localhost:8080/",
          "height": 73
        }
      },
      "source": [
        "# pick one image from the test set\n",
        "img, val = dataset_val[43]\n",
        "# put the model in evaluation mode\n",
        "model.eval()\n",
        "with torch.no_grad():\n",
        "    prediction = model([img.to(device)])"
      ],
      "execution_count": 0,
      "outputs": [
        {
          "output_type": "stream",
          "text": [
            "/usr/local/lib/python3.6/dist-packages/torch/nn/functional.py:2854: UserWarning: The default behavior for interpolate/upsample with float scale_factor will change in 1.6.0 to align with other frameworks/libraries, and use scale_factor directly, instead of relying on the computed output size. If you wish to keep the old behavior, please set recompute_scale_factor=True. See the documentation of nn.Upsample for details. \n",
            "  warnings.warn(\"The default behavior for interpolate/upsample with float scale_factor will change \"\n"
          ],
          "name": "stderr"
        }
      ]
    },
    {
      "cell_type": "code",
      "metadata": {
        "id": "aMZiHd6_09lK",
        "colab_type": "code",
        "outputId": "9c873b58-bc1a-4bc4-c356-94abea33f96e",
        "colab": {
          "base_uri": "https://localhost:8080/",
          "height": 35
        }
      },
      "source": [
        "np.count_nonzero(vec == 1)/len(vec)\n"
      ],
      "execution_count": 0,
      "outputs": [
        {
          "output_type": "execute_result",
          "data": {
            "text/plain": [
              "0.6876513317191283"
            ]
          },
          "metadata": {
            "tags": []
          },
          "execution_count": 62
        }
      ]
    },
    {
      "cell_type": "code",
      "metadata": {
        "id": "jg1qdU0_Mrme",
        "colab_type": "code",
        "outputId": "186ec776-fa53-4311-fbb6-c83a8442367b",
        "colab": {
          "base_uri": "https://localhost:8080/",
          "height": 35
        }
      },
      "source": [
        "np.mean(per_class, axis=0)"
      ],
      "execution_count": 0,
      "outputs": [
        {
          "output_type": "execute_result",
          "data": {
            "text/plain": [
              "array([0.00242131, 0.18401937, 0.15496368, 0.14769976, 0.19854722])"
            ]
          },
          "metadata": {
            "tags": []
          },
          "execution_count": 63
        }
      ]
    },
    {
      "cell_type": "code",
      "metadata": {
        "id": "hhqT5H5dNHXK",
        "colab_type": "code",
        "outputId": "b9103d2b-4b83-433b-fe9d-2cd24852a8bb",
        "colab": {
          "base_uri": "https://localhost:8080/",
          "height": 107
        }
      },
      "source": [
        "confusion_matrix"
      ],
      "execution_count": 0,
      "outputs": [
        {
          "output_type": "execute_result",
          "data": {
            "text/plain": [
              "tensor([[ 0., 33.,  3.,  0.,  0.],\n",
              "        [ 0., 76., 16.,  0.,  0.],\n",
              "        [ 0., 14., 64., 17.,  0.],\n",
              "        [ 0.,  0., 15., 61., 14.],\n",
              "        [ 0.,  0.,  0., 17., 82.]])"
            ]
          },
          "metadata": {
            "tags": []
          },
          "execution_count": 64
        }
      ]
    },
    {
      "cell_type": "code",
      "metadata": {
        "id": "S3M8dDkYOHw_",
        "colab_type": "code",
        "colab": {}
      },
      "source": [
        "color =  ['#ffffff', '#e6e9eb', '#cdd3d7', '#b4bec4', '#9ca9b1',\n",
        "'#85949e', '#6e808c', '#576d7a', '#415a69', '#2a4858' ]"
      ],
      "execution_count": 0,
      "outputs": []
    },
    {
      "cell_type": "code",
      "metadata": {
        "id": "uZvVEJ_uN--5",
        "colab_type": "code",
        "outputId": "b791df31-c06e-4ad7-fa1d-e0d24eb4cede",
        "colab": {
          "base_uri": "https://localhost:8080/",
          "height": 463
        }
      },
      "source": [
        "print(confusion_matrix)\n",
        "sns.heatmap(confusion_matrix /  confusion_matrix.sum(0),annot=True, cbar=False, cmap=color)\n",
        "print(confusion_matrix.diag() / confusion_matrix.sum(1))\n",
        "precision  =  np.diag(confusion_matrix)/ confusion_matrix.T.sum(0)\n",
        "recall = np.diag(confusion_matrix) / confusion_matrix.sum(0)\n",
        "print(precision)\n",
        "print(recall)\n",
        "print(confusion_matrix.diag().sum() / confusion_matrix.sum())"
      ],
      "execution_count": 0,
      "outputs": [
        {
          "output_type": "stream",
          "text": [
            "tensor([[ 0., 33.,  3.,  0.,  0.],\n",
            "        [ 0., 76., 16.,  0.,  0.],\n",
            "        [ 0., 14., 64., 17.,  0.],\n",
            "        [ 0.,  0., 15., 61., 14.],\n",
            "        [ 0.,  0.,  0., 17., 82.]])\n",
            "tensor([0.0000, 0.8261, 0.6737, 0.6778, 0.8283])\n",
            "tensor([0.0000, 0.8261, 0.6737, 0.6778, 0.8283])\n",
            "tensor([   nan, 0.6179, 0.6531, 0.6421, 0.8542])\n",
            "tensor(0.6869)\n"
          ],
          "name": "stdout"
        },
        {
          "output_type": "stream",
          "text": [
            "/usr/local/lib/python3.6/dist-packages/torch/tensor.py:407: RuntimeWarning: invalid value encountered in multiply\n",
            "  return self.reciprocal() * other\n"
          ],
          "name": "stderr"
        },
        {
          "output_type": "display_data",
          "data": {
            "image/png": "[encoded data removed]",
            "text/plain": [
              "<Figure size 432x288 with 1 Axes>"
            ]
          },
          "metadata": {
            "tags": [],
            "needs_background": "light"
          }
        }
      ]
    },
    {
      "cell_type": "code",
      "metadata": {
        "id": "SHOvEiq6NR6x",
        "colab_type": "code",
        "colab": {}
      },
      "source": [
        "per_class = np.count_nonzero(per_class == 1 , axis=0)"
      ],
      "execution_count": 0,
      "outputs": []
    },
    {
      "cell_type": "code",
      "metadata": {
        "id": "mLK9qbIbSZkx",
        "colab_type": "code",
        "outputId": "62492b80-e047-4d36-e485-43a016551e70",
        "colab": {
          "base_uri": "https://localhost:8080/",
          "height": 35
        }
      },
      "source": [
        "per_class"
      ],
      "execution_count": 0,
      "outputs": [
        {
          "output_type": "execute_result",
          "data": {
            "text/plain": [
              "array([ 1, 76, 64, 61, 82])"
            ]
          },
          "metadata": {
            "tags": []
          },
          "execution_count": 53
        }
      ]
    },
    {
      "cell_type": "code",
      "metadata": {
        "id": "KtuOiWAnOMlw",
        "colab_type": "code",
        "outputId": "34ea9c6e-fbd4-4d1c-d802-8c1bbed55e15",
        "colab": {
          "base_uri": "https://localhost:8080/",
          "height": 35
        }
      },
      "source": [
        "per_class/ nbr_per_class"
      ],
      "execution_count": 0,
      "outputs": [
        {
          "output_type": "execute_result",
          "data": {
            "text/plain": [
              "array([0.        , 0.81      , 0.7311828 , 0.64485981, 0.8902439 ])"
            ]
          },
          "metadata": {
            "tags": []
          },
          "execution_count": 224
        }
      ]
    },
    {
      "cell_type": "code",
      "metadata": {
        "id": "4Xg9faDQR_MR",
        "colab_type": "code",
        "outputId": "3fd2306b-6459-4376-d3ce-32c8d79d93cd",
        "colab": {
          "base_uri": "https://localhost:8080/",
          "height": 35
        }
      },
      "source": [
        "up_class "
      ],
      "execution_count": 0,
      "outputs": [
        {
          "output_type": "execute_result",
          "data": {
            "text/plain": [
              "array([31., 18., 18., 16.,  0.])"
            ]
          },
          "metadata": {
            "tags": []
          },
          "execution_count": 228
        }
      ]
    },
    {
      "cell_type": "code",
      "metadata": {
        "id": "fqxn0lLBSA5f",
        "colab_type": "code",
        "outputId": "8a90002a-711e-4185-c86c-2e177710ede4",
        "colab": {
          "base_uri": "https://localhost:8080/",
          "height": 35
        }
      },
      "source": [
        "down_class"
      ],
      "execution_count": 0,
      "outputs": [
        {
          "output_type": "execute_result",
          "data": {
            "text/plain": [
              "array([ 0.,  0.,  7., 22.,  9.])"
            ]
          },
          "metadata": {
            "tags": []
          },
          "execution_count": 229
        }
      ]
    },
    {
      "cell_type": "code",
      "metadata": {
        "id": "jXL0WaNuSziK",
        "colab_type": "code",
        "outputId": "c8e87aaa-cec4-4844-ff8e-741b4f630a0a",
        "colab": {
          "base_uri": "https://localhost:8080/",
          "height": 35
        }
      },
      "source": [
        "up_class + down_class"
      ],
      "execution_count": 0,
      "outputs": [
        {
          "output_type": "execute_result",
          "data": {
            "text/plain": [
              "array([31., 18., 25., 38.,  9.])"
            ]
          },
          "metadata": {
            "tags": []
          },
          "execution_count": 235
        }
      ]
    },
    {
      "cell_type": "code",
      "metadata": {
        "id": "tQjfpD1bM3IJ",
        "colab_type": "code",
        "outputId": "fb260e88-5c45-40ef-ab28-f3860fdc62d3",
        "colab": {
          "base_uri": "https://localhost:8080/",
          "height": 35
        }
      },
      "source": [
        "np.mean(vec)"
      ],
      "execution_count": 0,
      "outputs": [
        {
          "output_type": "execute_result",
          "data": {
            "text/plain": [
              "0.7046004842615012"
            ]
          },
          "metadata": {
            "tags": []
          },
          "execution_count": 206
        }
      ]
    },
    {
      "cell_type": "code",
      "metadata": {
        "id": "hqexWPojCqLH",
        "colab_type": "code",
        "colab": {}
      },
      "source": [
        "class_vector = np.zeros(6)\n",
        "iou_vector = np.zeros(6)\n",
        "for i, cl in enumerate(pred_classes):\n",
        "  class_vector[int(cl)] += 1\n",
        "  iou_vector[int(cl)] += iou[i]"
      ],
      "execution_count": 0,
      "outputs": []
    },
    {
      "cell_type": "code",
      "metadata": {
        "id": "7Xa0NK6_Lzsm",
        "colab_type": "code",
        "outputId": "bdaac8b1-02a1-453f-e5b0-8c8d106b0ef4",
        "colab": {
          "base_uri": "https://localhost:8080/",
          "height": 89
        }
      },
      "source": [
        "iou_vector/class_vector"
      ],
      "execution_count": 0,
      "outputs": [
        {
          "output_type": "stream",
          "text": [
            "/usr/local/lib/python3.6/dist-packages/ipykernel_launcher.py:1: RuntimeWarning: invalid value encountered in true_divide\n",
            "  \"\"\"Entry point for launching an IPython kernel.\n"
          ],
          "name": "stderr"
        },
        {
          "output_type": "execute_result",
          "data": {
            "text/plain": [
              "array([0.        , 0.93691832, 0.9430998 , 0.94288977, 0.9281383 ,\n",
              "              nan])"
            ]
          },
          "metadata": {
            "tags": []
          },
          "execution_count": 75
        }
      ]
    },
    {
      "cell_type": "code",
      "metadata": {
        "id": "-xAerGtZ6jvj",
        "colab_type": "code",
        "outputId": "f71cf7c7-982e-453a-8aa7-b85025b9ccba",
        "colab": {
          "base_uri": "https://localhost:8080/",
          "height": 35
        }
      },
      "source": [
        "iou.mean()"
      ],
      "execution_count": 0,
      "outputs": [
        {
          "output_type": "execute_result",
          "data": {
            "text/plain": [
              "0.9354492462186609"
            ]
          },
          "metadata": {
            "tags": []
          },
          "execution_count": 54
        }
      ]
    },
    {
      "cell_type": "code",
      "metadata": {
        "id": "MRL11gzO6nzj",
        "colab_type": "code",
        "outputId": "b8309190-7e43-4846-b792-46d7d63456cd",
        "colab": {
          "base_uri": "https://localhost:8080/",
          "height": 35
        }
      },
      "source": [
        "np.count_nonzero(neb == 1 )/ len(vec)"
      ],
      "execution_count": 0,
      "outputs": [
        {
          "output_type": "execute_result",
          "data": {
            "text/plain": [
              "0.9951573849878934"
            ]
          },
          "metadata": {
            "tags": []
          },
          "execution_count": 174
        }
      ]
    },
    {
      "cell_type": "code",
      "metadata": {
        "id": "y8_MrNWTWaqf",
        "colab_type": "code",
        "colab": {}
      },
      "source": [
        "test = torchvision.ops.nms(prediction[0]['boxes'], prediction[0]['scores'], 0.9)"
      ],
      "execution_count": 0,
      "outputs": []
    },
    {
      "cell_type": "code",
      "metadata": {
        "id": "6TkauACH2sDo",
        "colab_type": "code",
        "colab": {}
      },
      "source": [
        "import sklearn\n",
        "from sklearn import metrics "
      ],
      "execution_count": 0,
      "outputs": []
    },
    {
      "cell_type": "code",
      "metadata": {
        "id": "0UKB5kAN3MwL",
        "colab_type": "code",
        "outputId": "d20c6b08-9e30-4fae-985e-8d4fe312bb1e",
        "colab": {
          "base_uri": "https://localhost:8080/",
          "height": 35
        }
      },
      "source": [
        "val[1]['boxes'][0]"
      ],
      "execution_count": 0,
      "outputs": [
        {
          "output_type": "execute_result",
          "data": {
            "text/plain": [
              "tensor([ 11.,  19., 320., 303.])"
            ]
          },
          "metadata": {
            "tags": []
          },
          "execution_count": 156
        }
      ]
    },
    {
      "cell_type": "code",
      "metadata": {
        "id": "guptJuSF3flo",
        "colab_type": "code",
        "outputId": "0c44a8e5-67f6-45d7-91f4-55cec3e8e3e0",
        "colab": {
          "base_uri": "https://localhost:8080/",
          "height": 35
        }
      },
      "source": [
        "prediction[0]['boxes'].cpu().detach().numpy()[0].tolist()"
      ],
      "execution_count": 0,
      "outputs": [
        {
          "output_type": "execute_result",
          "data": {
            "text/plain": [
              "[14.69272518157959, 18.801549911499023, 315.4353942871094, 313.6091003417969]"
            ]
          },
          "metadata": {
            "tags": []
          },
          "execution_count": 152
        }
      ]
    },
    {
      "cell_type": "code",
      "metadata": {
        "id": "zHMpyuUX2ZlY",
        "colab_type": "code",
        "outputId": "abc68198-bbdd-4c4a-f56d-31c78b50cc40",
        "colab": {
          "base_uri": "https://localhost:8080/",
          "height": 35
        }
      },
      "source": [
        "get_iou(prediction[0]['boxes'].cpu().detach().numpy()[0], val[1]['boxes'].cpu().numpy()[0])"
      ],
      "execution_count": 0,
      "outputs": [
        {
          "output_type": "execute_result",
          "data": {
            "text/plain": [
              "0.9385166169647514"
            ]
          },
          "metadata": {
            "tags": []
          },
          "execution_count": 163
        }
      ]
    },
    {
      "cell_type": "code",
      "metadata": {
        "id": "I5Tpd0Z4Wsk1",
        "colab_type": "code",
        "outputId": "3ffa687d-b219-4f91-8034-24bb7e19ed88",
        "colab": {
          "base_uri": "https://localhost:8080/",
          "height": 35
        }
      },
      "source": [
        "test"
      ],
      "execution_count": 0,
      "outputs": [
        {
          "output_type": "execute_result",
          "data": {
            "text/plain": [
              "tensor([0], device='cuda:0')"
            ]
          },
          "metadata": {
            "tags": []
          },
          "execution_count": 97
        }
      ]
    },
    {
      "cell_type": "code",
      "metadata": {
        "id": "xpbdLV7K85c5",
        "colab_type": "code",
        "colab": {}
      },
      "source": [
        "img =Image.fromarray(img.mul(255).permute(1, 2, 0).byte().numpy())"
      ],
      "execution_count": 0,
      "outputs": []
    },
    {
      "cell_type": "code",
      "metadata": {
        "id": "cl4Htscg9o5O",
        "colab_type": "code",
        "outputId": "6116979f-64bf-491c-d013-d95a55e165fb",
        "colab": {
          "base_uri": "https://localhost:8080/",
          "height": 53
        }
      },
      "source": [
        "prediction[0]['scores']"
      ],
      "execution_count": 0,
      "outputs": [
        {
          "output_type": "execute_result",
          "data": {
            "text/plain": [
              "tensor([0.8214, 0.4533, 0.2363, 0.1961, 0.1911, 0.1636, 0.1448, 0.1339, 0.1212,\n",
              "        0.1195, 0.0970, 0.0955, 0.0641], device='cuda:0')"
            ]
          },
          "metadata": {
            "tags": []
          },
          "execution_count": 44
        }
      ]
    },
    {
      "cell_type": "code",
      "metadata": {
        "id": "t3tYG7-m9AN-",
        "colab_type": "code",
        "colab": {}
      },
      "source": [
        "draw = ImageDraw.Draw(img)\n",
        "draw.rectangle(val['boxes'].numpy(), outline='red')\n",
        "draw.text((val['boxes'].numpy()[0,0] +2. , val['boxes'].numpy()[0,1] -12.), 'Ara', fill='red')"
      ],
      "execution_count": 0,
      "outputs": []
    },
    {
      "cell_type": "code",
      "metadata": {
        "id": "FQcc2PuZHWPT",
        "colab_type": "code",
        "outputId": "3c066e1c-f6f3-43f4-af6c-829ac48cf62d",
        "colab": {
          "base_uri": "https://localhost:8080/",
          "height": 172
        }
      },
      "source": [
        "final = torchvision.ops.nms(val['boxes'], val['scores'], iou_threshold)"
      ],
      "execution_count": 0,
      "outputs": [
        {
          "output_type": "error",
          "ename": "KeyError",
          "evalue": "ignored",
          "traceback": [
            "\u001b[0;31m---------------------------------------------------------------------------\u001b[0m",
            "\u001b[0;31mKeyError\u001b[0m                                  Traceback (most recent call last)",
            "\u001b[0;32m<ipython-input-46-745b1a4c2610>\u001b[0m in \u001b[0;36m<module>\u001b[0;34m()\u001b[0m\n\u001b[0;32m----> 1\u001b[0;31m \u001b[0mfinal\u001b[0m \u001b[0;34m=\u001b[0m \u001b[0mtorchvision\u001b[0m\u001b[0;34m.\u001b[0m\u001b[0mops\u001b[0m\u001b[0;34m.\u001b[0m\u001b[0mnms\u001b[0m\u001b[0;34m(\u001b[0m\u001b[0mval\u001b[0m\u001b[0;34m[\u001b[0m\u001b[0;34m'boxes'\u001b[0m\u001b[0;34m]\u001b[0m\u001b[0;34m,\u001b[0m \u001b[0mval\u001b[0m\u001b[0;34m[\u001b[0m\u001b[0;34m'scores'\u001b[0m\u001b[0;34m]\u001b[0m\u001b[0;34m,\u001b[0m \u001b[0miou_threshold\u001b[0m\u001b[0;34m)\u001b[0m\u001b[0;34m\u001b[0m\u001b[0;34m\u001b[0m\u001b[0m\n\u001b[0m",
            "\u001b[0;31mKeyError\u001b[0m: 'scores'"
          ]
        }
      ]
    },
    {
      "cell_type": "code",
      "metadata": {
        "id": "pjOJR8mzAS2Y",
        "colab_type": "code",
        "outputId": "dc1479d5-6101-4207-a372-c23a5654d189",
        "colab": {
          "base_uri": "https://localhost:8080/",
          "height": 172
        }
      },
      "source": [
        "prediction[0]['labels'].cpu().numpy()[IDX]"
      ],
      "execution_count": 0,
      "outputs": [
        {
          "output_type": "error",
          "ename": "NameError",
          "evalue": "ignored",
          "traceback": [
            "\u001b[0;31m---------------------------------------------------------------------------\u001b[0m",
            "\u001b[0;31mNameError\u001b[0m                                 Traceback (most recent call last)",
            "\u001b[0;32m<ipython-input-47-e7252273f000>\u001b[0m in \u001b[0;36m<module>\u001b[0;34m()\u001b[0m\n\u001b[0;32m----> 1\u001b[0;31m \u001b[0mprediction\u001b[0m\u001b[0;34m[\u001b[0m\u001b[0;36m0\u001b[0m\u001b[0;34m]\u001b[0m\u001b[0;34m[\u001b[0m\u001b[0;34m'labels'\u001b[0m\u001b[0;34m]\u001b[0m\u001b[0;34m.\u001b[0m\u001b[0mcpu\u001b[0m\u001b[0;34m(\u001b[0m\u001b[0;34m)\u001b[0m\u001b[0;34m.\u001b[0m\u001b[0mnumpy\u001b[0m\u001b[0;34m(\u001b[0m\u001b[0;34m)\u001b[0m\u001b[0;34m[\u001b[0m\u001b[0mIDX\u001b[0m\u001b[0;34m]\u001b[0m\u001b[0;34m\u001b[0m\u001b[0;34m\u001b[0m\u001b[0m\n\u001b[0m",
            "\u001b[0;31mNameError\u001b[0m: name 'IDX' is not defined"
          ]
        }
      ]
    },
    {
      "cell_type": "code",
      "metadata": {
        "id": "xRpZZfN2_KEO",
        "colab_type": "code",
        "colab": {}
      },
      "source": [
        "IDX = 0\n",
        "draw = ImageDraw.Draw(img)\n",
        "draw.rectangle(prediction[0]['boxes'].cpu().numpy()[IDX], outline='red')\n",
        "draw.text((prediction[0]['boxes'].cpu().numpy()[IDX,0] +2. , prediction[0]['boxes'].cpu().numpy()[IDX,1] -12.),\n",
        "          str(prediction[0]['labels'].cpu().numpy()[IDX]), fill='red')"
      ],
      "execution_count": 0,
      "outputs": []
    },
    {
      "cell_type": "code",
      "metadata": {
        "id": "mODD-ipJ-YB_",
        "colab_type": "code",
        "outputId": "4730bbab-0fa7-4123-a645-07578c49520e",
        "colab": {
          "base_uri": "https://localhost:8080/",
          "height": 337
        }
      },
      "source": [
        "img"
      ],
      "execution_count": 0,
      "outputs": [
        {
          "output_type": "execute_result",
          "data": {
            "image/png": "[encoded data removed]",
            "text/plain": [
              "<PIL.Image.Image image mode=RGB size=320x320 at 0x7F3EF474C828>"
            ]
          },
          "metadata": {
            "tags": []
          },
          "execution_count": 91
        }
      ]
    },
    {
      "cell_type": "code",
      "metadata": {
        "id": "SnAOYnjih1ys",
        "colab_type": "code",
        "outputId": "80246e35-8cd5-4ae8-eaf6-edecb9c5d166",
        "colab": {
          "base_uri": "https://localhost:8080/",
          "height": 73
        }
      },
      "source": [
        "## Experimenting \n",
        "\n",
        "model = torchvision.models.detection.fasterrcnn_resnet50_fpn(pretrained=True)\n",
        "\n",
        "dataset = AraDataset(csv_file=ANNOTATION_PATH + 'train.csv' ,\n",
        "                    root_dir=IMAGES,\n",
        "                    num_classes=NUM_CLASS,\n",
        "                    transform=get_transform(train=True))\n",
        "\n",
        "data_loader = torch.utils.data.DataLoader(\n",
        "    dataset, batch_size=2, shuffle=True, num_workers=4,\n",
        "    collate_fn=utils.collate_fn)\n",
        "# For Training\n",
        "images,targets = next(iter(data_loader))\n",
        "images = list(image for image in images)\n",
        "targets = [{k: v for k, v in t.items()} for t in targets]\n",
        "output = model(images,targets)   # Returns losses and detections\n",
        "# For inference\n",
        "model.eval()\n",
        "x = [torch.rand(3, 300, 400), torch.rand(3, 500, 400)]\n",
        "predictions = model(x)           # Returns predictions\n",
        "\n"
      ],
      "execution_count": 0,
      "outputs": [
        {
          "output_type": "stream",
          "text": [
            "/usr/local/lib/python3.6/dist-packages/torch/nn/functional.py:2854: UserWarning: The default behavior for interpolate/upsample with float scale_factor will change in 1.6.0 to align with other frameworks/libraries, and use scale_factor directly, instead of relying on the computed output size. If you wish to keep the old behavior, please set recompute_scale_factor=True. See the documentation of nn.Upsample for details. \n",
            "  warnings.warn(\"The default behavior for interpolate/upsample with float scale_factor will change \"\n"
          ],
          "name": "stderr"
        }
      ]
    }
  ]
}