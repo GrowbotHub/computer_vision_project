{
  "nbformat": 4,
  "nbformat_minor": 0,
  "metadata": {
    "colab": {
      "name": "Plant_classification",
      "provenance": [],
      "collapsed_sections": [],
      "machine_shape": "hm"
    },
    "kernelspec": {
      "name": "python3",
      "display_name": "Python 3"
    },
    "accelerator": "GPU"
  },
  "cells": [
    {
      "cell_type": "code",
      "metadata": {
        "id": "4Xe0LaFziZkm",
        "colab_type": "code",
        "outputId": "95efa6d3-9ed2-4c6d-a6fb-0d38b437d40a",
        "colab": {
          "base_uri": "https://localhost:8080/",
          "height": 53
        }
      },
      "source": [
        "%matplotlib inline\n",
        "\n",
        "from __future__ import print_function, division\n",
        "\n",
        "import torch\n",
        "import torch.nn as nn\n",
        "import torch.optim as optim\n",
        "from torch.optim import lr_scheduler\n",
        "import torchvision\n",
        "from torchvision import datasets, models, transforms\n",
        "from torch.utils.data import Dataset, DataLoader, Sampler\n",
        "\n",
        "\n",
        "import numpy as np\n",
        "import pandas as pd\n",
        "import matplotlib.pyplot as plt\n",
        "import seaborn as sns\n",
        "\n",
        "import os\n",
        "from os import listdir\n",
        "from os.path import isfile, join\n",
        "import time\n",
        "import copy\n",
        "\n",
        "from PIL import Image\n",
        "\n",
        "#Skitlearn\n",
        "from sklearn.metrics import confusion_matrix\n",
        "\n",
        "#from efficientnet_pytorch import EfficientNet\n",
        "\n",
        "plt.ion()   # interactive mode"
      ],
      "execution_count": 0,
      "outputs": [
        {
          "output_type": "stream",
          "text": [
            "/usr/local/lib/python3.6/dist-packages/statsmodels/tools/_testing.py:19: FutureWarning: pandas.util.testing is deprecated. Use the functions in the public API at pandas.testing instead.\n",
            "  import pandas.util.testing as tm\n"
          ],
          "name": "stderr"
        }
      ]
    },
    {
      "cell_type": "code",
      "metadata": {
        "id": "SlpiK4-AnIca",
        "colab_type": "code",
        "outputId": "36c24cf8-dcc9-43fd-df4b-4e1a1525589e",
        "colab": {
          "base_uri": "https://localhost:8080/",
          "height": 127
        }
      },
      "source": [
        "from google.colab import drive\n",
        "drive.mount('/content/gdrive')\n",
        "\n",
        "PATH = \"gdrive/My Drive/Semester_project/\"\n",
        "SUB_PATH =PATH + 'Datas/Ara/'\n",
        "ANNOTATION_PATH = PATH + 'Datas/Ara/Annotations/'\n",
        "DATA_PATH =   SUB_PATH + 'Images/'\n"
      ],
      "execution_count": 0,
      "outputs": [
        {
          "output_type": "stream",
          "text": [
            "Go to this URL in a browser: https://accounts.google.com/o/oauth2/auth?client_id=947318989803-6bn6qk8qdgf4n4g3pfee6491hc0brc4i.apps.googleusercontent.com&redirect_uri=urn%3aietf%3awg%3aoauth%3a2.0%3aoob&response_type=code&scope=email%20https%3a%2f%2fwww.googleapis.com%2fauth%2fdocs.test%20https%3a%2f%2fwww.googleapis.com%2fauth%2fdrive%20https%3a%2f%2fwww.googleapis.com%2fauth%2fdrive.photos.readonly%20https%3a%2f%2fwww.googleapis.com%2fauth%2fpeopleapi.readonly\n",
            "\n",
            "Enter your authorization code:\n",
            "··········\n",
            "Mounted at /content/gdrive\n"
          ],
          "name": "stdout"
        }
      ]
    },
    {
      "cell_type": "markdown",
      "metadata": {
        "id": "nCNVre8-qeKE",
        "colab_type": "text"
      },
      "source": [
        "## Preprocessing"
      ]
    },
    {
      "cell_type": "markdown",
      "metadata": {
        "id": "8-23NVHsqjua",
        "colab_type": "text"
      },
      "source": [
        "### Converting filenames into CSV with lables \n",
        "\n",
        "Age dataset form [Here](https://susanqq.github.io/UTKFace/)\n",
        "The labels of each face image is embedded in the file name, formated like \n",
        "\n",
        "[age]_[gender]_[race]_[date&time].jpg"
      ]
    },
    {
      "cell_type": "code",
      "metadata": {
        "id": "xHUMpetd2418",
        "colab_type": "code",
        "outputId": "a4310860-730f-4b7e-e6a8-019bca427e8f",
        "colab": {
          "base_uri": "https://localhost:8080/",
          "height": 35
        }
      },
      "source": [
        "df=pd.read_csv(ANNOTATION_PATH + 'labels.csv')\n",
        "classes = df.stage.unique().size  \n",
        "\n",
        "classes "
      ],
      "execution_count": 0,
      "outputs": [
        {
          "output_type": "execute_result",
          "data": {
            "text/plain": [
              "5"
            ]
          },
          "metadata": {
            "tags": []
          },
          "execution_count": 3
        }
      ]
    },
    {
      "cell_type": "code",
      "metadata": {
        "id": "JXnJIcUhWsgc",
        "colab_type": "code",
        "outputId": "defa81e2-c7ac-4ddf-d3a3-f754ab11331f",
        "colab": {
          "base_uri": "https://localhost:8080/",
          "height": 35
        }
      },
      "source": [
        "df.iloc[1, 1]"
      ],
      "execution_count": 0,
      "outputs": [
        {
          "output_type": "execute_result",
          "data": {
            "text/plain": [
              "'BVZ0073-GC36R-RGB01~fullres-cor-T16-D4-35302_2016_10_02_08_00_00_00.jpg'"
            ]
          },
          "metadata": {
            "tags": []
          },
          "execution_count": 4
        }
      ]
    },
    {
      "cell_type": "code",
      "metadata": {
        "id": "bo97FkicWROb",
        "colab_type": "code",
        "colab": {}
      },
      "source": [
        "row = df.loc[df['filename'] == 'BVZ0073-GC36R-RGB01~fullres-cor-T16-D4-35302_2016_10_02_08_00_00_00.jpg'].iloc[0,0]"
      ],
      "execution_count": 0,
      "outputs": []
    },
    {
      "cell_type": "markdown",
      "metadata": {
        "id": "e7lagDbGxPRg",
        "colab_type": "text"
      },
      "source": [
        "### Train - Test - Val split"
      ]
    },
    {
      "cell_type": "markdown",
      "metadata": {
        "id": "gBJIoMTpsTFS",
        "colab_type": "text"
      },
      "source": [
        "### Weightening"
      ]
    },
    {
      "cell_type": "code",
      "metadata": {
        "id": "8l7ItmIbsiuH",
        "colab_type": "code",
        "colab": {}
      },
      "source": [
        "device = torch.device(\"cuda:0\" if torch.cuda.is_available() else \"cpu\")\n",
        "train = pd.read_csv(ANNOTATION_PATH +'train.csv')\n",
        "distribution = train.stage.value_counts().sort_index()\n",
        "distribution = distribution.to_numpy()\n",
        "S = np.pad(distribution[::-1].cumsum()[::-1], (0,1))[1:]\n",
        "N = np.full(distribution.size , fill_value = distribution.sum())\n",
        "M = np.maximum(S, N-S)\n",
        "importance = np.sqrt(M) / np.max(np.sqrt(M))\n",
        "importance = torch.from_numpy(importance).to(device, dtype=torch.float)"
      ],
      "execution_count": 0,
      "outputs": []
    },
    {
      "cell_type": "code",
      "metadata": {
        "id": "c47lPVuyzyVf",
        "colab_type": "code",
        "colab": {}
      },
      "source": [
        "im = Image.open(os.path.join(DATA_PATH, train.iloc[1,1]))\n",
        "im1 = im.crop((train.loc[1,'x_min'], train.loc[1,'y_min'], train.loc[1,'x_max'], train.loc[1,'y_max'])) "
      ],
      "execution_count": 0,
      "outputs": []
    },
    {
      "cell_type": "code",
      "metadata": {
        "id": "QoPJI5Jb0jQE",
        "colab_type": "code",
        "outputId": "1b3dd32f-8133-4a49-8e31-acc554552342",
        "colab": {
          "base_uri": "https://localhost:8080/",
          "height": 212
        }
      },
      "source": [
        "im1"
      ],
      "execution_count": 0,
      "outputs": [
        {
          "output_type": "execute_result",
          "data": {
            "image/png": "[encoded data removed]",
            "text/plain": [
              "<PIL.Image.Image image mode=RGB size=274x195 at 0x7FE73A82B518>"
            ]
          },
          "metadata": {
            "tags": []
          },
          "execution_count": 8
        }
      ]
    },
    {
      "cell_type": "markdown",
      "metadata": {
        "id": "mZRNAIE30kqB",
        "colab_type": "text"
      },
      "source": [
        "## Get images \n"
      ]
    },
    {
      "cell_type": "markdown",
      "metadata": {
        "id": "Gr6HwdVP3mUl",
        "colab_type": "text"
      },
      "source": [
        "### Dataset\n"
      ]
    },
    {
      "cell_type": "code",
      "metadata": {
        "id": "LpWKmu7U3rvO",
        "colab_type": "code",
        "colab": {}
      },
      "source": [
        "class PlantDataset(Dataset):\n",
        "  def __init__(self, \n",
        "               csv_file, \n",
        "               root_dir, \n",
        "               num_classes, \n",
        "               transform=None,\n",
        "               crop=False):\n",
        "      \"\"\"\n",
        "        Args:\n",
        "            csv_file (string): Path to the csv file with annotations.\n",
        "            root_dir (string): Directory with all the images.\n",
        "            transform (callable, optional): Optional transform to be applied on a sample.\n",
        "            crop (boulean) : Optional indicator to crop the image according to the bounding box \n",
        "        \"\"\"\n",
        "\n",
        "      self.data = pd.read_csv(csv_file)\n",
        "      self.root_dir = root_dir\n",
        "      self.transform = transform\n",
        "      self.num_classes = num_classes\n",
        "      self.crop = crop\n",
        "\n",
        "  def __len__(self):\n",
        "        return len(self.data)\n",
        "\n",
        "  def __getitem__(self, idx):\n",
        "\n",
        "      if torch.is_tensor(idx):\n",
        "          idx = idx.tolist()\n",
        "\n",
        "      #Get image name \n",
        "      img_name = os.path.join(self.root_dir,\n",
        "                                str(self.data.iloc[idx, 2]))\n",
        "        \n",
        "      image = Image.open(img_name)\n",
        "\n",
        "      # Image cropping \n",
        "      if self.crop : \n",
        "        vect = (self.data.loc[idx,'x_min'], self.data.loc[idx,'y_min'],\n",
        "                            self.data.loc[idx,'x_max'], self.data.loc[idx,'y_max'])\n",
        "        image = image.crop(vect)\n",
        "      \n",
        "      # Get the label \n",
        "      labels = self.data.loc[idx, 'stage'] - 1\n",
        "\n",
        "      # Apply the tranform \n",
        "      if self.transform:\n",
        "          image = self.transform(image)\n",
        "      return {'image': image,\n",
        "                'labels': labels #label_tensor\n",
        "                }\n"
      ],
      "execution_count": 0,
      "outputs": []
    },
    {
      "cell_type": "code",
      "metadata": {
        "id": "Vc3bD34rVZ8S",
        "colab_type": "code",
        "colab": {}
      },
      "source": [
        "class PlantDatasetTest(Dataset):\n",
        "  def __init__(self, \n",
        "               csv_file,\n",
        "               all_file, \n",
        "               root_dir, \n",
        "               num_classes, \n",
        "               transform=None,\n",
        "               crop=False):\n",
        "      \"\"\"\n",
        "        Args:\n",
        "            csv_file (string): Path to the csv file with annotations.\n",
        "            root_dir (string): Directory with all the images.\n",
        "            transform (callable, optional): Optional transform to be applied on a sample.\n",
        "            crop (boulean) : Optional indicator to crop the image according to the bounding box \n",
        "        \"\"\"\n",
        "\n",
        "      self.data = pd.read_csv(csv_file)\n",
        "      self.all_data = pd.read_csv(all_file)\n",
        "      self.root_dir = root_dir\n",
        "      self.transform = transform\n",
        "      self.num_classes = num_classes\n",
        "      self.crop = crop\n",
        "\n",
        "  def __len__(self):\n",
        "        return len(self.data)\n",
        "\n",
        "  def __getitem__(self, idx):\n",
        "\n",
        "      if torch.is_tensor(idx):\n",
        "          idx = idx.tolist()\n",
        "\n",
        "      #Get image name \n",
        "      img_name = os.path.join(self.root_dir,\n",
        "                                str(self.data.iloc[idx, 2]))\n",
        "        \n",
        "      image = Image.open(img_name)\n",
        "\n",
        "      # Image cropping \n",
        "      if self.crop : \n",
        "        vect = (self.data.loc[idx,'x_min'], self.data.loc[idx,'y_min'],\n",
        "                            self.data.loc[idx,'x_max'], self.data.loc[idx,'y_max'])\n",
        "        image = image.crop(vect)\n",
        "      try : \n",
        "        row = self.all_data.loc[self.all_data['filename'] == str(self.data.iloc[idx, 2])].iloc[0,0]\n",
        "        neighbor = ((self.all_data.loc[row + 1 , 'stage'] == (self.all_data.loc[row  , 'stage'] + 1)) or \n",
        "                    (self.all_data.loc[row , 'stage'] == (self.all_data.loc[row + - 1 , 'stage'] + 1)))\n",
        "      except: \n",
        "        neighbor = False\n",
        "\n",
        "      # Get the label \n",
        "      labels = self.data.loc[idx, 'stage'] - 1\n",
        "\n",
        "      # Apply the tranform \n",
        "      if self.transform:\n",
        "          image = self.transform(image)\n",
        "      return {'image': image,\n",
        "                'labels': labels, #label_tensor,\n",
        "              'neighbor' : neighbor, \n",
        "              'url' : img_name\n",
        "                }\n"
      ],
      "execution_count": 0,
      "outputs": []
    },
    {
      "cell_type": "markdown",
      "metadata": {
        "id": "EBmzwfbSDYcU",
        "colab_type": "text"
      },
      "source": [
        "Load and finetune the model \n",
        "\n",
        "\n",
        "> Bloc en retrait\n",
        "\n"
      ]
    },
    {
      "cell_type": "code",
      "metadata": {
        "id": "aq6WzTO81hqV",
        "colab_type": "code",
        "colab": {}
      },
      "source": [
        "model_ft = models.resnet152(pretrained=True)"
      ],
      "execution_count": 0,
      "outputs": []
    },
    {
      "cell_type": "code",
      "metadata": {
        "id": "DFB5lG-C95Ac",
        "colab_type": "code",
        "colab": {}
      },
      "source": [
        "model_ft = models.resnet50(pretrained=True)\n",
        "num_ftrs = model_ft.fc.in_features\n",
        "model_ft.fc = nn.Linear(num_ftrs, classes)"
      ],
      "execution_count": 0,
      "outputs": []
    },
    {
      "cell_type": "markdown",
      "metadata": {
        "id": "6GM9U5H8ETN2",
        "colab_type": "text"
      },
      "source": [
        "## Training and validation \n"
      ]
    },
    {
      "cell_type": "code",
      "metadata": {
        "id": "M3-wJ6YFk4de",
        "colab_type": "code",
        "colab": {}
      },
      "source": [
        "#Confusion matrix\n"
      ],
      "execution_count": 0,
      "outputs": []
    },
    {
      "cell_type": "code",
      "metadata": {
        "id": "U5uyzqSMEVHQ",
        "colab_type": "code",
        "colab": {}
      },
      "source": [
        "def train_model(model, \n",
        "                data_loader, \n",
        "                criterion,\n",
        "                optimizer, \n",
        "                scheduler, \n",
        "                num_epochs = 25):\n",
        "  \n",
        "    since = time.time()\n",
        "\n",
        "\n",
        "    val_acc_history = []\n",
        "    lr_history = []\n",
        "\n",
        "    best_model_wts = copy.deepcopy(model.state_dict())\n",
        "    best_acc = 0.0\n",
        "    \n",
        "\n",
        "    for epoch in range(num_epochs):\n",
        "        print('Epoch {}/{}'.format(epoch, num_epochs - 1))\n",
        "        print('-' * 10)\n",
        "\n",
        "        # Each epoch has a training and validation phase\n",
        "        for phase in ['train', 'val']:\n",
        "            if phase == 'train':\n",
        "                scheduler.step()\n",
        "                model.train()  # Set model to training mode\n",
        "            else:\n",
        "                model.eval()   # Set model to evaluate mode\n",
        "\n",
        "            running_loss = 0.0\n",
        "            running_corrects = 0\n",
        "            sup_corrects = 0\n",
        "            inf_corrects = 0\n",
        "            confusion_matrix = torch.zeros(classes, classes)\n",
        "\n",
        "            \n",
        "            for bi, dl in enumerate(data_loader[phase]):\n",
        "                inputs = dl[\"image\"]\n",
        "                labels = dl[\"labels\"] \n",
        "                inputs = inputs.to(device, dtype=torch.float)\n",
        "                labels = labels.to(device, dtype=torch.long)\n",
        "\n",
        "                # zero gradient\n",
        "                optimizer.zero_grad()\n",
        "\n",
        "                # forward\n",
        "                with torch.set_grad_enabled(phase == 'train'):\n",
        "                    outputs = model(inputs)\n",
        "                    _, preds = torch.max(outputs, 1)\n",
        "                    loss = criterion(outputs, labels)\n",
        "\n",
        "                    # backward + optimize only if in training phase\n",
        "                    if phase == 'train':\n",
        "                        loss.backward()\n",
        "                        optimizer.step()\n",
        "\n",
        "                # statistics\n",
        "                running_loss += loss.item() * inputs.size(0)\n",
        "                running_corrects += torch.sum(preds == labels.data )\n",
        "\n",
        "                # Confusion matrix \n",
        "                for t, p in zip(labels.view(-1), preds.view(-1)):\n",
        "                  #print(t)\n",
        "                  #print(p)\n",
        "                  confusion_matrix[t.long(), p.long()] += 1                \n",
        "\n",
        "                # Corect for neighbour classes \n",
        "                sup_corrects += torch.sum(preds == labels.data + 1)\n",
        "                inf_corrects += torch.sum(preds == labels.data - 1)\n",
        "\n",
        "            epoch_loss = running_loss / dataset_sizes[phase]\n",
        "            epoch_acc = running_corrects.double() / dataset_sizes[phase]\n",
        "\n",
        "            neighbor_acc = (sup_corrects.double() + inf_corrects.double())/ (2 * dataset_sizes[phase] )\n",
        "\n",
        "            print('{} Loss: {:.4f} Acc: {:.4f} Neighbor acc : {:.4f}'.format(\n",
        "                phase, epoch_loss, epoch_acc, neighbor_acc))\n",
        "            \n",
        "            # Print accuracy per class \n",
        "            print(confusion_matrix.diag()/confusion_matrix.sum(1))\n",
        "\n",
        "            print(scheduler.get_last_lr())\n",
        "\n",
        "            # deep copy the model\n",
        "            if phase == 'val' and epoch_acc > best_acc:\n",
        "                best_acc = epoch_acc\n",
        "                best_model_wts = copy.deepcopy(model.state_dict())\n",
        "            if phase == 'val':\n",
        "                val_acc_history.append(epoch_acc)\n",
        "                lr_history.append(scheduler.get_last_lr())\n",
        "        print()\n",
        "\n",
        "    time_elapsed = time.time() - since\n",
        "    print('Training complete in {:.0f}m {:.0f}s'.format(\n",
        "        time_elapsed // 60, time_elapsed % 60))\n",
        "    print('Best val Acc: {:4f}'.format(best_acc))\n",
        "\n",
        "    # load best model weights\n",
        "    model.load_state_dict(best_model_wts)\n",
        "    return model, val_acc_history"
      ],
      "execution_count": 0,
      "outputs": []
    },
    {
      "cell_type": "code",
      "metadata": {
        "id": "NW-cpzf2Igxi",
        "colab_type": "code",
        "colab": {}
      },
      "source": [
        "IMAGE_SIZE = 224\n",
        "NUM_CLASSES = classes\n",
        "BATCH_SIZE = 32\n",
        "\n",
        "learning_rate = 0.0005\n",
        "num_epochs = 200\n",
        "\n",
        "\n",
        "# Augmentation \n",
        "data_transforms = {\n",
        "    'train': transforms.Compose([\n",
        "        transforms.Resize((256, 256)),\n",
        "        transforms.RandomResizedCrop((IMAGE_SIZE, IMAGE_SIZE), (0.5, 1.) , (1,1)),\n",
        "        transforms.RandomHorizontalFlip(),\n",
        "        transforms.ToTensor(),\n",
        "        transforms.Normalize([0.485, 0.456, 0.406], [0.229, 0.224, 0.225]),\n",
        "    ]),\n",
        "    'val': transforms.Compose([\n",
        "        transforms.Resize((256, 256)),\n",
        "        transforms.CenterCrop((IMAGE_SIZE,IMAGE_SIZE)),\n",
        "        transforms.ToTensor(),\n",
        "        transforms.Normalize([0.485, 0.456, 0.406], [0.229, 0.224, 0.225]),\n",
        "    ]),\n",
        "}\n",
        "\n",
        "\n",
        "train_dataset = PlantDataset(csv_file=ANNOTATION_PATH + 'train.csv' ,\n",
        "                                   root_dir=DATA_PATH,\n",
        "                                   num_classes=NUM_CLASSES,\n",
        "                                   transform=data_transforms['train'],\n",
        "                                  crop= True)\n",
        "val_dataset = PlantDataset(csv_file=ANNOTATION_PATH + 'val.csv',\n",
        "                                   root_dir=DATA_PATH,\n",
        "                                   num_classes=NUM_CLASSES,\n",
        "                                   transform=data_transforms['val'], \n",
        "                                    crop=True)\n",
        "image_datasets = {'train' : train_dataset , \n",
        "                  'val' : val_dataset}\n",
        "\n",
        "train_dataset_loader = {'train': torch.utils.data.DataLoader(image_datasets['train'], batch_size=BATCH_SIZE, \n",
        "                                             shuffle=True, \n",
        "                                             num_workers=4), \n",
        "                        'val': torch.utils.data.DataLoader(image_datasets['val'], batch_size=BATCH_SIZE, \n",
        "                                             shuffle=False, num_workers=4)}\n",
        "\n",
        "dataset_sizes = {x: len(image_datasets[x]) for x in ['train', 'val']}"
      ],
      "execution_count": 0,
      "outputs": []
    },
    {
      "cell_type": "code",
      "metadata": {
        "id": "0IEA423gQ-1v",
        "colab_type": "code",
        "outputId": "8c125179-6fa1-44ac-80b2-da56e1c050f2",
        "colab": {
          "base_uri": "https://localhost:8080/",
          "height": 394
        }
      },
      "source": [
        "# push model to device\n",
        "model_ft = model_ft.to(device)\n",
        "\n",
        "\n",
        "criterion = nn.CrossEntropyLoss()\n",
        "\n",
        "\n",
        "params = [p for p in model_ft.parameters() if p.requires_grad]\n",
        "optimizer = torch.optim.SGD(params, lr=0.005,\n",
        "                            momentum=0.9, weight_decay=0.0005)\n",
        "#For resnet\n",
        "plist = [\n",
        "        {'params': model_ft.layer4.parameters(), 'lr': 1e-5},\n",
        "        {'params': model_ft.fc.parameters(), 'lr': 5e-3}\n",
        "        ]\n",
        "\n",
        "# Decay LR by a factor of 0.1 every 7 epochs\n",
        "exp_lr_scheduler = lr_scheduler.StepLR(optimizer, step_size=15, gamma=0.1)"
      ],
      "execution_count": 0,
      "outputs": [
        {
          "output_type": "error",
          "ename": "ValueError",
          "evalue": "ignored",
          "traceback": [
            "\u001b[0;31m---------------------------------------------------------------------------\u001b[0m",
            "\u001b[0;31mValueError\u001b[0m                                Traceback (most recent call last)",
            "\u001b[0;32m<ipython-input-66-de6168493a5f>\u001b[0m in \u001b[0;36m<module>\u001b[0;34m()\u001b[0m\n\u001b[1;32m      9\u001b[0m \u001b[0mparams\u001b[0m \u001b[0;34m=\u001b[0m \u001b[0;34m[\u001b[0m\u001b[0mp\u001b[0m \u001b[0;32mfor\u001b[0m \u001b[0mp\u001b[0m \u001b[0;32min\u001b[0m \u001b[0mmodel_ft\u001b[0m\u001b[0;34m.\u001b[0m\u001b[0mparameters\u001b[0m\u001b[0;34m(\u001b[0m\u001b[0;34m)\u001b[0m \u001b[0;32mif\u001b[0m \u001b[0mp\u001b[0m\u001b[0;34m.\u001b[0m\u001b[0mrequires_grad\u001b[0m\u001b[0;34m]\u001b[0m\u001b[0;34m\u001b[0m\u001b[0;34m\u001b[0m\u001b[0m\n\u001b[1;32m     10\u001b[0m optimizer = torch.optim.SGD(params, lr=0.005,\n\u001b[0;32m---> 11\u001b[0;31m                             momentum=0.9, weight_decay=0.0005)\n\u001b[0m\u001b[1;32m     12\u001b[0m \u001b[0;31m#For resnet\u001b[0m\u001b[0;34m\u001b[0m\u001b[0;34m\u001b[0m\u001b[0;34m\u001b[0m\u001b[0m\n\u001b[1;32m     13\u001b[0m plist = [\n",
            "\u001b[0;32m/usr/local/lib/python3.6/dist-packages/torch/optim/sgd.py\u001b[0m in \u001b[0;36m__init__\u001b[0;34m(self, params, lr, momentum, dampening, weight_decay, nesterov)\u001b[0m\n\u001b[1;32m     66\u001b[0m         \u001b[0;32mif\u001b[0m \u001b[0mnesterov\u001b[0m \u001b[0;32mand\u001b[0m \u001b[0;34m(\u001b[0m\u001b[0mmomentum\u001b[0m \u001b[0;34m<=\u001b[0m \u001b[0;36m0\u001b[0m \u001b[0;32mor\u001b[0m \u001b[0mdampening\u001b[0m \u001b[0;34m!=\u001b[0m \u001b[0;36m0\u001b[0m\u001b[0;34m)\u001b[0m\u001b[0;34m:\u001b[0m\u001b[0;34m\u001b[0m\u001b[0;34m\u001b[0m\u001b[0m\n\u001b[1;32m     67\u001b[0m             \u001b[0;32mraise\u001b[0m \u001b[0mValueError\u001b[0m\u001b[0;34m(\u001b[0m\u001b[0;34m\"Nesterov momentum requires a momentum and zero dampening\"\u001b[0m\u001b[0;34m)\u001b[0m\u001b[0;34m\u001b[0m\u001b[0;34m\u001b[0m\u001b[0m\n\u001b[0;32m---> 68\u001b[0;31m         \u001b[0msuper\u001b[0m\u001b[0;34m(\u001b[0m\u001b[0mSGD\u001b[0m\u001b[0;34m,\u001b[0m \u001b[0mself\u001b[0m\u001b[0;34m)\u001b[0m\u001b[0;34m.\u001b[0m\u001b[0m__init__\u001b[0m\u001b[0;34m(\u001b[0m\u001b[0mparams\u001b[0m\u001b[0;34m,\u001b[0m \u001b[0mdefaults\u001b[0m\u001b[0;34m)\u001b[0m\u001b[0;34m\u001b[0m\u001b[0;34m\u001b[0m\u001b[0m\n\u001b[0m\u001b[1;32m     69\u001b[0m \u001b[0;34m\u001b[0m\u001b[0m\n\u001b[1;32m     70\u001b[0m     \u001b[0;32mdef\u001b[0m \u001b[0m__setstate__\u001b[0m\u001b[0;34m(\u001b[0m\u001b[0mself\u001b[0m\u001b[0;34m,\u001b[0m \u001b[0mstate\u001b[0m\u001b[0;34m)\u001b[0m\u001b[0;34m:\u001b[0m\u001b[0;34m\u001b[0m\u001b[0;34m\u001b[0m\u001b[0m\n",
            "\u001b[0;32m/usr/local/lib/python3.6/dist-packages/torch/optim/optimizer.py\u001b[0m in \u001b[0;36m__init__\u001b[0;34m(self, params, defaults)\u001b[0m\n\u001b[1;32m     44\u001b[0m         \u001b[0mparam_groups\u001b[0m \u001b[0;34m=\u001b[0m \u001b[0mlist\u001b[0m\u001b[0;34m(\u001b[0m\u001b[0mparams\u001b[0m\u001b[0;34m)\u001b[0m\u001b[0;34m\u001b[0m\u001b[0;34m\u001b[0m\u001b[0m\n\u001b[1;32m     45\u001b[0m         \u001b[0;32mif\u001b[0m \u001b[0mlen\u001b[0m\u001b[0;34m(\u001b[0m\u001b[0mparam_groups\u001b[0m\u001b[0;34m)\u001b[0m \u001b[0;34m==\u001b[0m \u001b[0;36m0\u001b[0m\u001b[0;34m:\u001b[0m\u001b[0;34m\u001b[0m\u001b[0;34m\u001b[0m\u001b[0m\n\u001b[0;32m---> 46\u001b[0;31m             \u001b[0;32mraise\u001b[0m \u001b[0mValueError\u001b[0m\u001b[0;34m(\u001b[0m\u001b[0;34m\"optimizer got an empty parameter list\"\u001b[0m\u001b[0;34m)\u001b[0m\u001b[0;34m\u001b[0m\u001b[0;34m\u001b[0m\u001b[0m\n\u001b[0m\u001b[1;32m     47\u001b[0m         \u001b[0;32mif\u001b[0m \u001b[0;32mnot\u001b[0m \u001b[0misinstance\u001b[0m\u001b[0;34m(\u001b[0m\u001b[0mparam_groups\u001b[0m\u001b[0;34m[\u001b[0m\u001b[0;36m0\u001b[0m\u001b[0;34m]\u001b[0m\u001b[0;34m,\u001b[0m \u001b[0mdict\u001b[0m\u001b[0;34m)\u001b[0m\u001b[0;34m:\u001b[0m\u001b[0;34m\u001b[0m\u001b[0;34m\u001b[0m\u001b[0m\n\u001b[1;32m     48\u001b[0m             \u001b[0mparam_groups\u001b[0m \u001b[0;34m=\u001b[0m \u001b[0;34m[\u001b[0m\u001b[0;34m{\u001b[0m\u001b[0;34m'params'\u001b[0m\u001b[0;34m:\u001b[0m \u001b[0mparam_groups\u001b[0m\u001b[0;34m}\u001b[0m\u001b[0;34m]\u001b[0m\u001b[0;34m\u001b[0m\u001b[0;34m\u001b[0m\u001b[0m\n",
            "\u001b[0;31mValueError\u001b[0m: optimizer got an empty parameter list"
          ]
        }
      ]
    },
    {
      "cell_type": "code",
      "metadata": {
        "id": "PzGINWcKR4kg",
        "colab_type": "code",
        "colab": {}
      },
      "source": [
        "torch.cuda.empty_cache()"
      ],
      "execution_count": 0,
      "outputs": []
    },
    {
      "cell_type": "code",
      "metadata": {
        "id": "I6l1HuevLCbO",
        "colab_type": "code",
        "outputId": "4f17e22a-6434-4192-bf8a-18bee4c324f9",
        "colab": {
          "base_uri": "https://localhost:8080/",
          "height": 208
        }
      },
      "source": [
        "# Train and evaluate\n",
        "model_ft, hist = train_model(model_ft, train_dataset_loader, criterion, optimizer, exp_lr_scheduler, num_epochs= 75)\n",
        "torch.save(model_ft.state_dict(), \"model.bin\")"
      ],
      "execution_count": 0,
      "outputs": [
        {
          "output_type": "error",
          "ename": "NameError",
          "evalue": "ignored",
          "traceback": [
            "\u001b[0;31m---------------------------------------------------------------------------\u001b[0m",
            "\u001b[0;31mNameError\u001b[0m                                 Traceback (most recent call last)",
            "\u001b[0;32m<ipython-input-15-743f88fbebe1>\u001b[0m in \u001b[0;36m<module>\u001b[0;34m()\u001b[0m\n\u001b[1;32m      1\u001b[0m \u001b[0;31m# Train and evaluate\u001b[0m\u001b[0;34m\u001b[0m\u001b[0;34m\u001b[0m\u001b[0;34m\u001b[0m\u001b[0m\n\u001b[0;32m----> 2\u001b[0;31m \u001b[0mmodel_ft\u001b[0m\u001b[0;34m,\u001b[0m \u001b[0mhist\u001b[0m \u001b[0;34m=\u001b[0m \u001b[0mtrain_model\u001b[0m\u001b[0;34m(\u001b[0m\u001b[0mmodel_ft\u001b[0m\u001b[0;34m,\u001b[0m \u001b[0mtrain_dataset_loader\u001b[0m\u001b[0;34m,\u001b[0m \u001b[0mcriterion\u001b[0m\u001b[0;34m,\u001b[0m \u001b[0moptimizer\u001b[0m\u001b[0;34m,\u001b[0m \u001b[0mexp_lr_scheduler\u001b[0m\u001b[0;34m,\u001b[0m \u001b[0mnum_epochs\u001b[0m\u001b[0;34m=\u001b[0m \u001b[0;36m75\u001b[0m\u001b[0;34m)\u001b[0m\u001b[0;34m\u001b[0m\u001b[0;34m\u001b[0m\u001b[0m\n\u001b[0m\u001b[1;32m      3\u001b[0m \u001b[0mtorch\u001b[0m\u001b[0;34m.\u001b[0m\u001b[0msave\u001b[0m\u001b[0;34m(\u001b[0m\u001b[0mmodel_ft\u001b[0m\u001b[0;34m.\u001b[0m\u001b[0mstate_dict\u001b[0m\u001b[0;34m(\u001b[0m\u001b[0;34m)\u001b[0m\u001b[0;34m,\u001b[0m \u001b[0;34m\"model.bin\"\u001b[0m\u001b[0;34m)\u001b[0m\u001b[0;34m\u001b[0m\u001b[0;34m\u001b[0m\u001b[0m\n",
            "\u001b[0;31mNameError\u001b[0m: name 'criterion' is not defined"
          ]
        }
      ]
    },
    {
      "cell_type": "code",
      "metadata": {
        "id": "4bBDJp96ElR6",
        "colab_type": "code",
        "colab": {}
      },
      "source": [
        "\n",
        "ohist = [h.cpu().numpy() for h in hist]\n",
        "\n",
        "plt.title(\"Validation Accuracy vs. Number of Training Epochs\")\n",
        "plt.xlabel(\"Training Epochs\")\n",
        "plt.ylabel(\"Validation Accuracy\")\n",
        "plt.plot(range(1,75+1),ohist,label=\"Pretrained\")\n",
        "plt.ylim((0,1.))\n",
        "plt.xticks(np.arange(1, 75+1, 1.0))\n",
        "plt.legend()\n",
        "plt.show()"
      ],
      "execution_count": 0,
      "outputs": []
    },
    {
      "cell_type": "markdown",
      "metadata": {
        "id": "w6nsgDtMnnlk",
        "colab_type": "text"
      },
      "source": [
        "## Simulate for multiple "
      ]
    },
    {
      "cell_type": "code",
      "metadata": {
        "id": "hBmsdelMlCqj",
        "colab_type": "code",
        "colab": {}
      },
      "source": [
        "IMAGE_SIZE = 224\n",
        "NUM_CLASSES = classes\n",
        "BATCH_SIZE = 32\n",
        "learning_rate = 0.0005\n",
        "num_epochs = 200\n",
        "\n"
      ],
      "execution_count": 0,
      "outputs": []
    },
    {
      "cell_type": "code",
      "metadata": {
        "id": "AaVyWge4k8hq",
        "colab_type": "code",
        "colab": {}
      },
      "source": [
        "\n",
        "# Augmentation \n",
        "data_transforms = {\n",
        "    'train': transforms.Compose([\n",
        "        transforms.Resize((256, 256)),\n",
        "        transforms.RandomResizedCrop((IMAGE_SIZE, IMAGE_SIZE), (0.5, 1.) , (1,1)),\n",
        "        transforms.RandomHorizontalFlip(),\n",
        "        transforms.ToTensor(),\n",
        "        transforms.Normalize([0.485, 0.456, 0.406], [0.229, 0.224, 0.225]),\n",
        "    ]),\n",
        "    'val': transforms.Compose([\n",
        "        transforms.Resize((256, 256)),\n",
        "        transforms.CenterCrop((IMAGE_SIZE,IMAGE_SIZE)),\n",
        "        transforms.ToTensor(),\n",
        "        transforms.Normalize([0.485, 0.456, 0.406], [0.229, 0.224, 0.225]),\n",
        "    ]),\n",
        "}\n",
        "\n",
        "# use the face dataset class\n",
        "\n",
        "#Not super beautyful, need to refactor using data transform structure\n",
        "\n"
      ],
      "execution_count": 0,
      "outputs": []
    },
    {
      "cell_type": "code",
      "metadata": {
        "id": "zWBI07KfKVOD",
        "colab_type": "code",
        "colab": {}
      },
      "source": [
        "# Augmentation \n",
        "data_transforms = {\n",
        "    'train': transforms.Compose([\n",
        "        transforms.RandomResizedCrop((112, 112)),\n",
        "        transforms.RandomHorizontalFlip(),\n",
        "        transforms.ToTensor(),\n",
        "        transforms.Normalize([0.485, 0.456, 0.406], [0.229, 0.224, 0.225]),\n",
        "    ]),\n",
        "    'val': transforms.Compose([\n",
        "        transforms.Resize((126, 126)),\n",
        "        transforms.CenterCrop((112,112)),\n",
        "        transforms.ToTensor(),\n",
        "        transforms.Normalize([0.485, 0.456, 0.406], [0.229, 0.224, 0.225]),\n",
        "    ]),\n",
        "}"
      ],
      "execution_count": 0,
      "outputs": []
    },
    {
      "cell_type": "code",
      "metadata": {
        "id": "KRWksVpskd4t",
        "colab_type": "code",
        "colab": {}
      },
      "source": [
        "train_paths = [{'test': 'gdrive/My Drive/Semester_project/Datas/Ara/Annotations/test0.csv',\n",
        "  'train': 'gdrive/My Drive/Semester_project/Datas/Ara/Annotations/train0.csv',\n",
        "  'val': 'gdrive/My Drive/Semester_project/Datas/Ara/Annotations/val0.csv'},\n",
        " {'test': 'gdrive/My Drive/Semester_project/Datas/Ara/Annotations/test1.csv',\n",
        "  'train': 'gdrive/My Drive/Semester_project/Datas/Ara/Annotations/train1.csv',\n",
        "  'val': 'gdrive/My Drive/Semester_project/Datas/Ara/Annotations/val1.csv'},\n",
        " {'test': 'gdrive/My Drive/Semester_project/Datas/Ara/Annotations/test2.csv',\n",
        "  'train': 'gdrive/My Drive/Semester_project/Datas/Ara/Annotations/train2.csv',\n",
        "  'val': 'gdrive/My Drive/Semester_project/Datas/Ara/Annotations/val2.csv'},\n",
        " {'test': 'gdrive/My Drive/Semester_project/Datas/Ara/Annotations/test3.csv',\n",
        "  'train': 'gdrive/My Drive/Semester_project/Datas/Ara/Annotations/train3.csv',\n",
        "  'val': 'gdrive/My Drive/Semester_project/Datas/Ara/Annotations/val3.csv'},\n",
        " {'test': 'gdrive/My Drive/Semester_project/Datas/Ara/Annotations/test4.csv',\n",
        "  'train': 'gdrive/My Drive/Semester_project/Datas/Ara/Annotations/train4.csv',\n",
        "  'val': 'gdrive/My Drive/Semester_project/Datas/Ara/Annotations/val4.csv'}]"
      ],
      "execution_count": 0,
      "outputs": []
    },
    {
      "cell_type": "code",
      "metadata": {
        "id": "quRZv1J-pNXP",
        "colab_type": "code",
        "colab": {}
      },
      "source": [
        "train = pd.read_csv(train_paths[1]['train'])"
      ],
      "execution_count": 0,
      "outputs": []
    },
    {
      "cell_type": "code",
      "metadata": {
        "id": "CLV_PpIWkjzP",
        "colab_type": "code",
        "colab": {}
      },
      "source": [
        "for i, path in enumerate(train_paths) : \n",
        "  #Importance\n",
        "  device = torch.device(\"cuda:0\" if torch.cuda.is_available() else \"cpu\")\n",
        "  train = pd.read_csv(path['train'])\n",
        "  distribution = train.stage.value_counts().sort_index()\n",
        "  distribution = distribution.to_numpy()\n",
        "  S = np.pad(distribution[::-1].cumsum()[::-1], (0,1))[1:]\n",
        "  N = np.full(distribution.size , fill_value = distribution.sum())\n",
        "  M = np.maximum(S, N-S)\n",
        "  importance = np.sqrt(M) / np.max(np.sqrt(M))\n",
        "  importance = torch.from_numpy(importance).to(device, dtype=torch.float)\n",
        "\n",
        "# Dtatasets \n",
        "  train_dataset = PlantDataset(csv_file=path['train'] ,\n",
        "                                    root_dir=DATA_PATH,\n",
        "                                    num_classes=NUM_CLASSES,\n",
        "                                    transform=data_transforms['train'],\n",
        "                                    crop= False)\n",
        "  val_dataset = PlantDataset(csv_file=path['val'],\n",
        "                                    root_dir=DATA_PATH,\n",
        "                                    num_classes=NUM_CLASSES,\n",
        "                                    transform=data_transforms['val'], \n",
        "                                      crop=False)\n",
        "  image_datasets = {'train' : train_dataset , \n",
        "                    'val' : val_dataset}\n",
        "\n",
        "  train_dataset_loader = {'train': torch.utils.data.DataLoader(image_datasets['train'], batch_size=BATCH_SIZE, \n",
        "                                              shuffle=True, \n",
        "                                              num_workers=4), \n",
        "                          'val': torch.utils.data.DataLoader(image_datasets['val'], batch_size=BATCH_SIZE, \n",
        "                                              shuffle=False, num_workers=4)}\n",
        "\n",
        "  dataset_sizes = {x: len(image_datasets[x]) for x in ['train', 'val']}\n",
        "  \n",
        "  model_ft = models.resnet50(pretrained=True)\n",
        "  num_ftrs = model_ft.fc.in_features\n",
        "  model_ft.fc = nn.Linear(num_ftrs, classes)\n",
        "\n",
        "  model_ft = model_ft.to(device)\n",
        "\n",
        "\n",
        "  criterion = nn.CrossEntropyLoss(importance)\n",
        "\n",
        "  params = [p for p in model_ft.parameters() if p.requires_grad]\n",
        "  optimizer_ft = optim.Adam(params, lr=0.005, weight_decay=0.0005)\n",
        "\n",
        "  exp_lr_scheduler = lr_scheduler.StepLR(optimizer_ft, step_size=15, gamma=0.1)\n",
        "\n",
        "  model_ft, hist = train_model(model_ft, train_dataset_loader, criterion, optimizer_ft, exp_lr_scheduler, num_epochs= 40)\n",
        "  save_path = SUB_PATH + 'model_classic_4' + str(i) + '.bin'\n",
        "\n",
        "  torch.save(model_ft.state_dict(), save_path)\n",
        "\n",
        "\n",
        "  ## Eval \n",
        "\n"
      ],
      "execution_count": 0,
      "outputs": []
    },
    {
      "cell_type": "markdown",
      "metadata": {
        "id": "e19BibAst3kJ",
        "colab_type": "text"
      },
      "source": [
        "## Test"
      ]
    },
    {
      "cell_type": "markdown",
      "metadata": {
        "id": "99PAgK1bnutB",
        "colab_type": "text"
      },
      "source": [
        "### Test for one "
      ]
    },
    {
      "cell_type": "code",
      "metadata": {
        "id": "lIgxOndHb7B3",
        "colab_type": "code",
        "colab": {}
      },
      "source": [
        "# Compute the Cumulative score CS \n",
        "# With T = 1 -> Accuracy \n",
        "\n",
        "def CS(y_predict, y_true , T):\n",
        "  x = np.abs(y_true - y_predict)\n",
        "  x = np.where(x<= T, 1, 0)\n",
        "  return np.average(x)"
      ],
      "execution_count": 0,
      "outputs": []
    },
    {
      "cell_type": "code",
      "metadata": {
        "id": "_W170Swnwr7X",
        "colab_type": "code",
        "colab": {}
      },
      "source": [
        "test_val = pd.read_csv(ANNOTATION_PATH + 'test.csv')\n",
        "test_val = test_val['stage'].to_numpy()"
      ],
      "execution_count": 0,
      "outputs": []
    },
    {
      "cell_type": "code",
      "metadata": {
        "id": "bCTmZi9kyTzT",
        "colab_type": "code",
        "outputId": "4342e60f-f0b2-48a4-d62f-a6b6ce996a82",
        "colab": {
          "base_uri": "https://localhost:8080/",
          "height": 35
        }
      },
      "source": [
        "test_val = test_val.astype(int)\n",
        "test_val.size"
      ],
      "execution_count": 0,
      "outputs": [
        {
          "output_type": "execute_result",
          "data": {
            "text/plain": [
              "413"
            ]
          },
          "metadata": {
            "tags": []
          },
          "execution_count": 82
        }
      ]
    },
    {
      "cell_type": "code",
      "metadata": {
        "id": "TPA79K3YVvyB",
        "colab_type": "code",
        "colab": {}
      },
      "source": [
        "color =  ['#ffffff', '#e6e9eb', '#cdd3d7', '#b4bec4', '#9ca9b1',\n",
        "'#85949e', '#6e808c', '#576d7a', '#415a69', '#2a4858' ]"
      ],
      "execution_count": 0,
      "outputs": []
    },
    {
      "cell_type": "code",
      "metadata": {
        "id": "EV9DC7H_saUA",
        "colab_type": "code",
        "colab": {}
      },
      "source": [
        "TEST_BATCH_SIZE = 128\n",
        "\n",
        "# Augmentation \n",
        "test_transforms =  transforms.Compose([\n",
        "        transforms.Resize((IMAGE_SIZE, IMAGE_SIZE)),\n",
        "        transforms.ToTensor(),\n",
        "       transforms.Normalize([0.485, 0.456, 0.406], [0.229, 0.224, 0.225]),\n",
        "    ])\n"
      ],
      "execution_count": 0,
      "outputs": []
    },
    {
      "cell_type": "code",
      "metadata": {
        "id": "wY5OztrtsCSb",
        "colab_type": "code",
        "colab": {}
      },
      "source": [
        "acc = []\n",
        "neib_acc = []\n",
        "matrix = []\n",
        "preds_values = []\n",
        "true_values= []\n",
        "imge = []\n",
        "neighboring = []\n",
        "for i, path in enumerate(train_paths) : \n",
        "  save_path = SUB_PATH + 'model_classic_3' + str(i) + '.bin'\n",
        "  model_ft.load_state_dict(torch.load(save_path))\n",
        "\n",
        "  test_dataset = PlantDatasetTest(csv_file=path['test'],\n",
        "                                all_file=ANNOTATION_PATH + 'labels.csv',\n",
        "                                   root_dir=DATA_PATH,\n",
        "                                   num_classes=NUM_CLASSES,\n",
        "                                   transform=data_transforms['val'],\n",
        "                                  crop = False)\n",
        "\n",
        "  test_dataset_loader = torch.utils.data.DataLoader(test_dataset,\n",
        "                                             batch_size=128,\n",
        "                                             shuffle=False,\n",
        "                                             num_workers=4)\n",
        "\n",
        "\n",
        "\n",
        "  dataset_sizes = len(test_dataset)\n",
        "\n",
        "  model_ft = model_ft.to(device)\n",
        "  confusion_matrix = torch.zeros(classes, classes)\n",
        "  id_matrix = torch.zeros(classes, classes)\n",
        "\n",
        "  for param in model_ft.parameters():\n",
        "      param.requires_grad = False\n",
        "\n",
        "  model_ft.eval()\n",
        "  test_preds = np.zeros((len(test_dataset)))\n",
        "  test_val = np.zeros((len(test_dataset)))\n",
        "  im = np.zeros((len(test_dataset), 3,224,224))\n",
        "  neigh = np.zeros(len(test_dataset))\n",
        "\n",
        "  for i, x_batch in enumerate(test_dataset_loader):\n",
        "      x_image = x_batch[\"image\"]\n",
        "      labels = x_batch[\"labels\"]\n",
        "      n = x_batch['neighbor']\n",
        "      pred = torch.argmax(model_ft(x_image.to(device)).sigmoid(), axis = 1) \n",
        "\n",
        "      for t, p in zip(labels.view(-1), pred.view(-1)):\n",
        "            confusion_matrix[t.long(), p.long()] += 1 \n",
        "            id_matrix\n",
        "      test_preds[i * TEST_BATCH_SIZE:(i + 1) * TEST_BATCH_SIZE] = pred.detach().cpu().squeeze().numpy()\n",
        "      test_val[i * TEST_BATCH_SIZE:(i + 1) * TEST_BATCH_SIZE] = labels.numpy()\n",
        "      im[i * TEST_BATCH_SIZE:(i + 1) * TEST_BATCH_SIZE] = x_image\n",
        "      neigh[i * TEST_BATCH_SIZE:(i + 1) * TEST_BATCH_SIZE] = n\n",
        "\n",
        "  test_preds = torch.from_numpy(test_preds).float().to(device).cpu().squeeze().numpy()\n",
        "  matrix.append(confusion_matrix)\n",
        "  preds_values.append(test_preds)\n",
        "  true_values.append(torch.from_numpy(test_val).float().to(device).cpu().squeeze().numpy())\n",
        "  acc.append(CS(test_preds, test_val, 0))\n",
        "  imge.append(im)\n",
        "  neib_acc.append(CS(test_preds, test_val, 1))\n",
        "  neighboring.append(neigh)\n",
        "\n",
        "\n",
        "print(acc)\n",
        "print(neib_acc)\n",
        "print(matrix)\n",
        "for i, mat in enumerate(matrix): \n",
        "  print(mat)\n",
        "  print(mat.diag() / mat.sum(1))"
      ],
      "execution_count": 0,
      "outputs": []
    },
    {
      "cell_type": "code",
      "metadata": {
        "id": "I6iZlf1bmNYH",
        "colab_type": "code",
        "colab": {}
      },
      "source": [
        "stats = []\n",
        "tots = []\n",
        "statistiquess  = []\n",
        "totals = []\n",
        "vecs = []\n",
        "vects = []\n",
        "class_vecs = []\n",
        "false_class_vecs=[]\n",
        "\n",
        "for SET in range(0,5):\n",
        "  stat = 0\n",
        "  tot = 0\n",
        "  statistiques  = 0\n",
        "  total = 0\n",
        "  vec = np.zeros(5)\n",
        "  vect = np.zeros(5)\n",
        "  clas_vect = np.zeros(5)\n",
        "  false_class_vec = np.zeros(5)\n",
        "  for i,x in enumerate(preds_values[SET] ) : \n",
        "    statistiques += neighboring[SET][i]\n",
        "    vect[int(x)] +=  neighboring[SET][i]\n",
        "    clas_vect[int(x)] += 1\n",
        "    total +=1\n",
        "    if x != true_values[SET][i] : \n",
        "      stat += neighboring[SET][i]\n",
        "      vec[int(x)] +=  neighboring[SET][i]\n",
        "      tot +=1\n",
        "      false_class_vec[int(x)] += 1\n",
        "  stats.append(stat)\n",
        "  tots.append(tot)\n",
        "  statistiquess.append(statistiques)\n",
        "  totals.append(total)\n",
        "  vecs.append(vec)\n",
        "  vects.append(vect)\n",
        "  class_vecs.append(clas_vect)\n",
        "  false_class_vecs.append(false_class_vec)\n",
        "  "
      ],
      "execution_count": 0,
      "outputs": []
    },
    {
      "cell_type": "code",
      "metadata": {
        "id": "G8cHztzT-jO2",
        "colab_type": "code",
        "colab": {}
      },
      "source": [
        "class_1 = pd.read_csv('gdrive/My Drive/Semester_project/Datas/Ara/Annotations/test0.csv')"
      ],
      "execution_count": 0,
      "outputs": []
    },
    {
      "cell_type": "code",
      "metadata": {
        "id": "WATH2XZt9GXR",
        "colab_type": "code",
        "outputId": "f16d82d5-ca08-4a23-b049-20a48de89179",
        "colab": {
          "base_uri": "https://localhost:8080/",
          "height": 35
        }
      },
      "source": [
        "vecs[0]/vects[0]"
      ],
      "execution_count": 0,
      "outputs": [
        {
          "output_type": "execute_result",
          "data": {
            "text/plain": [
              "array([0.5       , 0.48571429, 0.33333333, 0.425     , 0.38888889])"
            ]
          },
          "metadata": {
            "tags": []
          },
          "execution_count": 90
        }
      ]
    },
    {
      "cell_type": "code",
      "metadata": {
        "id": "iamja5ODWgtt",
        "colab_type": "code",
        "colab": {}
      },
      "source": [
        "vec"
      ],
      "execution_count": 0,
      "outputs": []
    },
    {
      "cell_type": "code",
      "metadata": {
        "id": "rSR2Ost-xQRW",
        "colab_type": "code",
        "outputId": "5a868e79-9792-49e9-aefe-e4765d31e37e",
        "colab": {
          "base_uri": "https://localhost:8080/",
          "height": 89
        }
      },
      "source": [
        "print(stats)\n",
        "print(statistiquess)\n",
        "print(tots)\n",
        "print(totals)"
      ],
      "execution_count": 0,
      "outputs": [
        {
          "output_type": "stream",
          "text": [
            "[53.0, 63.0, 54.0, 65.0, 62.0]\n",
            "[126.0, 142.0, 126.0, 139.0, 149.0]\n",
            "[109, 120, 119, 120, 129]\n",
            "[413, 413, 413, 413, 413]\n"
          ],
          "name": "stdout"
        }
      ]
    },
    {
      "cell_type": "code",
      "metadata": {
        "id": "8S2EGRoEnT5s",
        "colab_type": "code",
        "colab": {}
      },
      "source": [
        "tot_sum = 0\n",
        "tot_false_sum = 0\n",
        "tot_vec = np.zeros(5)\n",
        "tot_false_vec = np.zeros(5)\n",
        "for i in range(0,5):\n",
        "  print('Seed ' + str(i+1) + ' :' )\n",
        "\n",
        "\n",
        "  print(stats[i]/tots[i])\n",
        "  print(statistiquess[i]/totals[i])\n",
        "  tot_false_sum += stats[i]/tots[i]\n",
        "  tot_sum += statistiquess[i]/totals[i]\n",
        "\n",
        "  tot_false_vec += vecs[i]/false_class_vecs[i]\n",
        "  tot_vec +=  vects[i]/class_vecs[i]\n",
        "\n",
        "  print(vecs[i]/false_class_vecs[i])\n",
        "  print(vects[i]/class_vecs[i])\n"
      ],
      "execution_count": 0,
      "outputs": []
    },
    {
      "cell_type": "code",
      "metadata": {
        "id": "anMly8LuZJKC",
        "colab_type": "code",
        "outputId": "53db5f78-91c0-4ecd-a4cc-e9a869dc602a",
        "colab": {
          "base_uri": "https://localhost:8080/",
          "height": 89
        }
      },
      "source": [
        "print(tot_sum /5)\n",
        "print(tot_false_sum /5)\n",
        "print(tot_vec /5)\n",
        "print(tot_false_vec /5)"
      ],
      "execution_count": 0,
      "outputs": [
        {
          "output_type": "stream",
          "text": [
            "0.33026634382566583\n",
            "0.497461373284112\n",
            "[0.26827586 0.36320705 0.36748083 0.37346812 0.20773485]\n",
            "[0.45850816 0.53816682 0.50888889 0.49941324 0.44101466]\n"
          ],
          "name": "stdout"
        }
      ]
    },
    {
      "cell_type": "code",
      "metadata": {
        "id": "BuiaSgLtsttP",
        "colab_type": "code",
        "colab": {}
      },
      "source": [
        "df = pd.read_csv(train_paths[0]['test'])"
      ],
      "execution_count": 0,
      "outputs": []
    },
    {
      "cell_type": "code",
      "metadata": {
        "id": "o5z181yyrPiY",
        "colab_type": "code",
        "colab": {}
      },
      "source": [
        "percent = mat /  mat.sum(0) \n",
        "labels = [f'{v1}\\n{v2}' for v1, v2 in zip(mat,percent,)]\n",
        "labels"
      ],
      "execution_count": 0,
      "outputs": []
    },
    {
      "cell_type": "code",
      "metadata": {
        "id": "69wIgkpNzttZ",
        "colab_type": "code",
        "colab": {}
      },
      "source": [
        "for i, mat in enumerate(matrix): \n",
        "  print(mat)\n",
        "  plt.figure(i)\n",
        "  sns.heatmap(mat /  mat.sum(0),annot=True, cbar=False, cmap=color,)\n",
        "  plt.xlabel('True label', fontsize = 15) # x-axis label with fontsize 15\n",
        "  plt.ylabel('Predicted label', fontsize = 15) \n",
        "  print(mat.diag() / mat.sum(1))\n",
        "  precision  =  np.diag(mat)/ mat.T.sum(0)\n",
        "  recall = np.diag(mat) / mat.sum(0)\n",
        "  print(precision)\n",
        "  print(recall)\n",
        "  print(mat.diag().sum() / mat.sum())"
      ],
      "execution_count": 0,
      "outputs": []
    },
    {
      "cell_type": "code",
      "metadata": {
        "id": "gnbMczauwAfD",
        "colab_type": "code",
        "outputId": "22cdde79-faeb-4873-97e5-56865000bbe6",
        "colab": {
          "base_uri": "https://localhost:8080/",
          "height": 190
        }
      },
      "source": [
        "precision  =  np.diag(confusion)/ confusion.T.sum(0)\n",
        "recall = np.diag(confusion) / confusion.sum(0)"
      ],
      "execution_count": 0,
      "outputs": [
        {
          "output_type": "error",
          "ename": "NameError",
          "evalue": "ignored",
          "traceback": [
            "\u001b[0;31m---------------------------------------------------------------------------\u001b[0m",
            "\u001b[0;31mNameError\u001b[0m                                 Traceback (most recent call last)",
            "\u001b[0;32m<ipython-input-39-ca3cefcac523>\u001b[0m in \u001b[0;36m<module>\u001b[0;34m()\u001b[0m\n\u001b[0;32m----> 1\u001b[0;31m \u001b[0mprecision\u001b[0m  \u001b[0;34m=\u001b[0m  \u001b[0mnp\u001b[0m\u001b[0;34m.\u001b[0m\u001b[0mdiag\u001b[0m\u001b[0;34m(\u001b[0m\u001b[0mconfusion\u001b[0m\u001b[0;34m)\u001b[0m\u001b[0;34m/\u001b[0m \u001b[0mconfusion\u001b[0m\u001b[0;34m.\u001b[0m\u001b[0mT\u001b[0m\u001b[0;34m.\u001b[0m\u001b[0msum\u001b[0m\u001b[0;34m(\u001b[0m\u001b[0;36m0\u001b[0m\u001b[0;34m)\u001b[0m\u001b[0;34m\u001b[0m\u001b[0;34m\u001b[0m\u001b[0m\n\u001b[0m\u001b[1;32m      2\u001b[0m \u001b[0mrecall\u001b[0m \u001b[0;34m=\u001b[0m \u001b[0mnp\u001b[0m\u001b[0;34m.\u001b[0m\u001b[0mdiag\u001b[0m\u001b[0;34m(\u001b[0m\u001b[0mconfusion\u001b[0m\u001b[0;34m)\u001b[0m \u001b[0;34m/\u001b[0m \u001b[0mconfusion\u001b[0m\u001b[0;34m.\u001b[0m\u001b[0msum\u001b[0m\u001b[0;34m(\u001b[0m\u001b[0;36m0\u001b[0m\u001b[0;34m)\u001b[0m\u001b[0;34m\u001b[0m\u001b[0;34m\u001b[0m\u001b[0m\n",
            "\u001b[0;31mNameError\u001b[0m: name 'confusion' is not defined"
          ]
        }
      ]
    },
    {
      "cell_type": "markdown",
      "metadata": {
        "id": "huXC7g7QExJp",
        "colab_type": "text"
      },
      "source": [
        "Neighboring class contains most of the missclasified samples "
      ]
    },
    {
      "cell_type": "code",
      "metadata": {
        "id": "SfqGyKdz7y8u",
        "colab_type": "code",
        "outputId": "784bb661-a297-4b7a-fe75-d8a822159952",
        "colab": {
          "base_uri": "https://localhost:8080/",
          "height": 35
        }
      },
      "source": [
        "acc"
      ],
      "execution_count": 0,
      "outputs": [
        {
          "output_type": "execute_result",
          "data": {
            "text/plain": [
              "0.4745762711864407"
            ]
          },
          "metadata": {
            "tags": []
          },
          "execution_count": 37
        }
      ]
    },
    {
      "cell_type": "code",
      "metadata": {
        "id": "YCt7w3-vyXl9",
        "colab_type": "code",
        "outputId": "0672a98b-8e70-4a0e-e6a2-613dbd7ce8e3",
        "colab": {
          "base_uri": "https://localhost:8080/",
          "height": 35
        }
      },
      "source": [
        "print(mse)"
      ],
      "execution_count": 0,
      "outputs": [
        {
          "output_type": "stream",
          "text": [
            "0.6271186440677966\n"
          ],
          "name": "stdout"
        }
      ]
    },
    {
      "cell_type": "code",
      "metadata": {
        "id": "AVYXyjWl5rQu",
        "colab_type": "code",
        "outputId": "fa6e2011-df7f-4da2-d118-54d812df926a",
        "colab": {
          "base_uri": "https://localhost:8080/",
          "height": 35
        }
      },
      "source": [
        "print(mae)"
      ],
      "execution_count": 0,
      "outputs": [
        {
          "output_type": "stream",
          "text": [
            "0.559322033898305\n"
          ],
          "name": "stdout"
        }
      ]
    },
    {
      "cell_type": "code",
      "metadata": {
        "id": "Edekvx6Y7MdB",
        "colab_type": "code",
        "colab": {}
      },
      "source": [
        ""
      ],
      "execution_count": 0,
      "outputs": []
    },
    {
      "cell_type": "markdown",
      "metadata": {
        "id": "999Ie98dhmzF",
        "colab_type": "text"
      },
      "source": [
        "## Ordinal regression \n"
      ]
    }
  ]
}